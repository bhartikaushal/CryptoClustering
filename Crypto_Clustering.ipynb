{
 "cells": [
  {
   "cell_type": "code",
   "execution_count": 2,
   "metadata": {},
   "outputs": [],
   "source": [
    "# Import required libraries and dependencies\n",
    "import pandas as pd\n",
    "import hvplot.pandas\n",
    "from sklearn.cluster import KMeans\n",
    "from sklearn.decomposition import PCA\n",
    "from sklearn.preprocessing import StandardScaler"
   ]
  },
  {
   "cell_type": "code",
   "execution_count": 3,
   "metadata": {},
   "outputs": [
    {
     "data": {
      "text/html": [
       "<div>\n",
       "<style scoped>\n",
       "    .dataframe tbody tr th:only-of-type {\n",
       "        vertical-align: middle;\n",
       "    }\n",
       "\n",
       "    .dataframe tbody tr th {\n",
       "        vertical-align: top;\n",
       "    }\n",
       "\n",
       "    .dataframe thead th {\n",
       "        text-align: right;\n",
       "    }\n",
       "</style>\n",
       "<table border=\"1\" class=\"dataframe\">\n",
       "  <thead>\n",
       "    <tr style=\"text-align: right;\">\n",
       "      <th></th>\n",
       "      <th>price_change_percentage_24h</th>\n",
       "      <th>price_change_percentage_7d</th>\n",
       "      <th>price_change_percentage_14d</th>\n",
       "      <th>price_change_percentage_30d</th>\n",
       "      <th>price_change_percentage_60d</th>\n",
       "      <th>price_change_percentage_200d</th>\n",
       "      <th>price_change_percentage_1y</th>\n",
       "    </tr>\n",
       "    <tr>\n",
       "      <th>coin_id</th>\n",
       "      <th></th>\n",
       "      <th></th>\n",
       "      <th></th>\n",
       "      <th></th>\n",
       "      <th></th>\n",
       "      <th></th>\n",
       "      <th></th>\n",
       "    </tr>\n",
       "  </thead>\n",
       "  <tbody>\n",
       "    <tr>\n",
       "      <th>bitcoin</th>\n",
       "      <td>1.08388</td>\n",
       "      <td>7.60278</td>\n",
       "      <td>6.57509</td>\n",
       "      <td>7.67258</td>\n",
       "      <td>-3.25185</td>\n",
       "      <td>83.51840</td>\n",
       "      <td>37.51761</td>\n",
       "    </tr>\n",
       "    <tr>\n",
       "      <th>ethereum</th>\n",
       "      <td>0.22392</td>\n",
       "      <td>10.38134</td>\n",
       "      <td>4.80849</td>\n",
       "      <td>0.13169</td>\n",
       "      <td>-12.88890</td>\n",
       "      <td>186.77418</td>\n",
       "      <td>101.96023</td>\n",
       "    </tr>\n",
       "    <tr>\n",
       "      <th>tether</th>\n",
       "      <td>-0.21173</td>\n",
       "      <td>0.04935</td>\n",
       "      <td>0.00640</td>\n",
       "      <td>-0.04237</td>\n",
       "      <td>0.28037</td>\n",
       "      <td>-0.00542</td>\n",
       "      <td>0.01954</td>\n",
       "    </tr>\n",
       "    <tr>\n",
       "      <th>ripple</th>\n",
       "      <td>-0.37819</td>\n",
       "      <td>-0.60926</td>\n",
       "      <td>2.24984</td>\n",
       "      <td>0.23455</td>\n",
       "      <td>-17.55245</td>\n",
       "      <td>39.53888</td>\n",
       "      <td>-16.60193</td>\n",
       "    </tr>\n",
       "    <tr>\n",
       "      <th>bitcoin-cash</th>\n",
       "      <td>2.90585</td>\n",
       "      <td>17.09717</td>\n",
       "      <td>14.75334</td>\n",
       "      <td>15.74903</td>\n",
       "      <td>-13.71793</td>\n",
       "      <td>21.66042</td>\n",
       "      <td>14.49384</td>\n",
       "    </tr>\n",
       "    <tr>\n",
       "      <th>binancecoin</th>\n",
       "      <td>2.10423</td>\n",
       "      <td>12.85511</td>\n",
       "      <td>6.80688</td>\n",
       "      <td>0.05865</td>\n",
       "      <td>36.33486</td>\n",
       "      <td>155.61937</td>\n",
       "      <td>69.69195</td>\n",
       "    </tr>\n",
       "    <tr>\n",
       "      <th>chainlink</th>\n",
       "      <td>-0.23935</td>\n",
       "      <td>20.69459</td>\n",
       "      <td>9.30098</td>\n",
       "      <td>-11.21747</td>\n",
       "      <td>-43.69522</td>\n",
       "      <td>403.22917</td>\n",
       "      <td>325.13186</td>\n",
       "    </tr>\n",
       "    <tr>\n",
       "      <th>cardano</th>\n",
       "      <td>0.00322</td>\n",
       "      <td>13.99302</td>\n",
       "      <td>5.55476</td>\n",
       "      <td>10.10553</td>\n",
       "      <td>-22.84776</td>\n",
       "      <td>264.51418</td>\n",
       "      <td>156.09756</td>\n",
       "    </tr>\n",
       "    <tr>\n",
       "      <th>litecoin</th>\n",
       "      <td>-0.06341</td>\n",
       "      <td>6.60221</td>\n",
       "      <td>7.28931</td>\n",
       "      <td>1.21662</td>\n",
       "      <td>-17.23960</td>\n",
       "      <td>27.49919</td>\n",
       "      <td>-12.66408</td>\n",
       "    </tr>\n",
       "    <tr>\n",
       "      <th>bitcoin-cash-sv</th>\n",
       "      <td>0.92530</td>\n",
       "      <td>3.29641</td>\n",
       "      <td>-1.86656</td>\n",
       "      <td>2.88926</td>\n",
       "      <td>-24.87434</td>\n",
       "      <td>7.42562</td>\n",
       "      <td>93.73082</td>\n",
       "    </tr>\n",
       "  </tbody>\n",
       "</table>\n",
       "</div>"
      ],
      "text/plain": [
       "                 price_change_percentage_24h  price_change_percentage_7d  \\\n",
       "coin_id                                                                    \n",
       "bitcoin                              1.08388                     7.60278   \n",
       "ethereum                             0.22392                    10.38134   \n",
       "tether                              -0.21173                     0.04935   \n",
       "ripple                              -0.37819                    -0.60926   \n",
       "bitcoin-cash                         2.90585                    17.09717   \n",
       "binancecoin                          2.10423                    12.85511   \n",
       "chainlink                           -0.23935                    20.69459   \n",
       "cardano                              0.00322                    13.99302   \n",
       "litecoin                            -0.06341                     6.60221   \n",
       "bitcoin-cash-sv                      0.92530                     3.29641   \n",
       "\n",
       "                 price_change_percentage_14d  price_change_percentage_30d  \\\n",
       "coin_id                                                                     \n",
       "bitcoin                              6.57509                      7.67258   \n",
       "ethereum                             4.80849                      0.13169   \n",
       "tether                               0.00640                     -0.04237   \n",
       "ripple                               2.24984                      0.23455   \n",
       "bitcoin-cash                        14.75334                     15.74903   \n",
       "binancecoin                          6.80688                      0.05865   \n",
       "chainlink                            9.30098                    -11.21747   \n",
       "cardano                              5.55476                     10.10553   \n",
       "litecoin                             7.28931                      1.21662   \n",
       "bitcoin-cash-sv                     -1.86656                      2.88926   \n",
       "\n",
       "                 price_change_percentage_60d  price_change_percentage_200d  \\\n",
       "coin_id                                                                      \n",
       "bitcoin                             -3.25185                      83.51840   \n",
       "ethereum                           -12.88890                     186.77418   \n",
       "tether                               0.28037                      -0.00542   \n",
       "ripple                             -17.55245                      39.53888   \n",
       "bitcoin-cash                       -13.71793                      21.66042   \n",
       "binancecoin                         36.33486                     155.61937   \n",
       "chainlink                          -43.69522                     403.22917   \n",
       "cardano                            -22.84776                     264.51418   \n",
       "litecoin                           -17.23960                      27.49919   \n",
       "bitcoin-cash-sv                    -24.87434                       7.42562   \n",
       "\n",
       "                 price_change_percentage_1y  \n",
       "coin_id                                      \n",
       "bitcoin                            37.51761  \n",
       "ethereum                          101.96023  \n",
       "tether                              0.01954  \n",
       "ripple                            -16.60193  \n",
       "bitcoin-cash                       14.49384  \n",
       "binancecoin                        69.69195  \n",
       "chainlink                         325.13186  \n",
       "cardano                           156.09756  \n",
       "litecoin                          -12.66408  \n",
       "bitcoin-cash-sv                    93.73082  "
      ]
     },
     "execution_count": 3,
     "metadata": {},
     "output_type": "execute_result"
    }
   ],
   "source": [
    "# Load the data into a Pandas DataFrame\n",
    "df_market_data = pd.read_csv(\n",
    "    \"Resources/crypto_market_data.csv\",\n",
    "    index_col=\"coin_id\")\n",
    "\n",
    "# Display sample data\n",
    "df_market_data.head(10)"
   ]
  },
  {
   "cell_type": "code",
   "execution_count": 4,
   "metadata": {},
   "outputs": [
    {
     "data": {
      "text/plain": [
       "Index(['price_change_percentage_24h', 'price_change_percentage_7d',\n",
       "       'price_change_percentage_14d', 'price_change_percentage_30d',\n",
       "       'price_change_percentage_60d', 'price_change_percentage_200d',\n",
       "       'price_change_percentage_1y'],\n",
       "      dtype='object')"
      ]
     },
     "execution_count": 4,
     "metadata": {},
     "output_type": "execute_result"
    }
   ],
   "source": [
    "df_market_data.columns"
   ]
  },
  {
   "cell_type": "code",
   "execution_count": 5,
   "metadata": {},
   "outputs": [
    {
     "data": {
      "text/html": [
       "<div>\n",
       "<style scoped>\n",
       "    .dataframe tbody tr th:only-of-type {\n",
       "        vertical-align: middle;\n",
       "    }\n",
       "\n",
       "    .dataframe tbody tr th {\n",
       "        vertical-align: top;\n",
       "    }\n",
       "\n",
       "    .dataframe thead th {\n",
       "        text-align: right;\n",
       "    }\n",
       "</style>\n",
       "<table border=\"1\" class=\"dataframe\">\n",
       "  <thead>\n",
       "    <tr style=\"text-align: right;\">\n",
       "      <th></th>\n",
       "      <th>price_change_percentage_24h</th>\n",
       "      <th>price_change_percentage_7d</th>\n",
       "      <th>price_change_percentage_14d</th>\n",
       "      <th>price_change_percentage_30d</th>\n",
       "      <th>price_change_percentage_60d</th>\n",
       "      <th>price_change_percentage_200d</th>\n",
       "      <th>price_change_percentage_1y</th>\n",
       "    </tr>\n",
       "  </thead>\n",
       "  <tbody>\n",
       "    <tr>\n",
       "      <th>count</th>\n",
       "      <td>41.000000</td>\n",
       "      <td>41.000000</td>\n",
       "      <td>41.000000</td>\n",
       "      <td>41.000000</td>\n",
       "      <td>41.000000</td>\n",
       "      <td>41.000000</td>\n",
       "      <td>41.000000</td>\n",
       "    </tr>\n",
       "    <tr>\n",
       "      <th>mean</th>\n",
       "      <td>-0.269686</td>\n",
       "      <td>4.497147</td>\n",
       "      <td>0.185787</td>\n",
       "      <td>1.545693</td>\n",
       "      <td>-0.094119</td>\n",
       "      <td>236.537432</td>\n",
       "      <td>347.667956</td>\n",
       "    </tr>\n",
       "    <tr>\n",
       "      <th>std</th>\n",
       "      <td>2.694793</td>\n",
       "      <td>6.375218</td>\n",
       "      <td>8.376939</td>\n",
       "      <td>26.344218</td>\n",
       "      <td>47.365803</td>\n",
       "      <td>435.225304</td>\n",
       "      <td>1247.842884</td>\n",
       "    </tr>\n",
       "    <tr>\n",
       "      <th>min</th>\n",
       "      <td>-13.527860</td>\n",
       "      <td>-6.094560</td>\n",
       "      <td>-18.158900</td>\n",
       "      <td>-34.705480</td>\n",
       "      <td>-44.822480</td>\n",
       "      <td>-0.392100</td>\n",
       "      <td>-17.567530</td>\n",
       "    </tr>\n",
       "    <tr>\n",
       "      <th>25%</th>\n",
       "      <td>-0.608970</td>\n",
       "      <td>0.047260</td>\n",
       "      <td>-5.026620</td>\n",
       "      <td>-10.438470</td>\n",
       "      <td>-25.907990</td>\n",
       "      <td>21.660420</td>\n",
       "      <td>0.406170</td>\n",
       "    </tr>\n",
       "    <tr>\n",
       "      <th>50%</th>\n",
       "      <td>-0.063410</td>\n",
       "      <td>3.296410</td>\n",
       "      <td>0.109740</td>\n",
       "      <td>-0.042370</td>\n",
       "      <td>-7.544550</td>\n",
       "      <td>83.905200</td>\n",
       "      <td>69.691950</td>\n",
       "    </tr>\n",
       "    <tr>\n",
       "      <th>75%</th>\n",
       "      <td>0.612090</td>\n",
       "      <td>7.602780</td>\n",
       "      <td>5.510740</td>\n",
       "      <td>4.578130</td>\n",
       "      <td>0.657260</td>\n",
       "      <td>216.177610</td>\n",
       "      <td>168.372510</td>\n",
       "    </tr>\n",
       "    <tr>\n",
       "      <th>max</th>\n",
       "      <td>4.840330</td>\n",
       "      <td>20.694590</td>\n",
       "      <td>24.239190</td>\n",
       "      <td>140.795700</td>\n",
       "      <td>223.064370</td>\n",
       "      <td>2227.927820</td>\n",
       "      <td>7852.089700</td>\n",
       "    </tr>\n",
       "  </tbody>\n",
       "</table>\n",
       "</div>"
      ],
      "text/plain": [
       "       price_change_percentage_24h  price_change_percentage_7d  \\\n",
       "count                    41.000000                   41.000000   \n",
       "mean                     -0.269686                    4.497147   \n",
       "std                       2.694793                    6.375218   \n",
       "min                     -13.527860                   -6.094560   \n",
       "25%                      -0.608970                    0.047260   \n",
       "50%                      -0.063410                    3.296410   \n",
       "75%                       0.612090                    7.602780   \n",
       "max                       4.840330                   20.694590   \n",
       "\n",
       "       price_change_percentage_14d  price_change_percentage_30d  \\\n",
       "count                    41.000000                    41.000000   \n",
       "mean                      0.185787                     1.545693   \n",
       "std                       8.376939                    26.344218   \n",
       "min                     -18.158900                   -34.705480   \n",
       "25%                      -5.026620                   -10.438470   \n",
       "50%                       0.109740                    -0.042370   \n",
       "75%                       5.510740                     4.578130   \n",
       "max                      24.239190                   140.795700   \n",
       "\n",
       "       price_change_percentage_60d  price_change_percentage_200d  \\\n",
       "count                    41.000000                     41.000000   \n",
       "mean                     -0.094119                    236.537432   \n",
       "std                      47.365803                    435.225304   \n",
       "min                     -44.822480                     -0.392100   \n",
       "25%                     -25.907990                     21.660420   \n",
       "50%                      -7.544550                     83.905200   \n",
       "75%                       0.657260                    216.177610   \n",
       "max                     223.064370                   2227.927820   \n",
       "\n",
       "       price_change_percentage_1y  \n",
       "count                   41.000000  \n",
       "mean                   347.667956  \n",
       "std                   1247.842884  \n",
       "min                    -17.567530  \n",
       "25%                      0.406170  \n",
       "50%                     69.691950  \n",
       "75%                    168.372510  \n",
       "max                   7852.089700  "
      ]
     },
     "execution_count": 5,
     "metadata": {},
     "output_type": "execute_result"
    }
   ],
   "source": [
    "# Generate summary statistics\n",
    "df_market_data.describe()"
   ]
  },
  {
   "cell_type": "code",
   "execution_count": 6,
   "metadata": {},
   "outputs": [
    {
     "data": {},
     "metadata": {},
     "output_type": "display_data"
    },
    {
     "data": {
      "application/vnd.holoviews_exec.v0+json": "",
      "text/html": [
       "<div id='1002'>\n",
       "  <div class=\"bk-root\" id=\"0f875efc-4afd-4d22-bc5b-d120398034a8\" data-root-id=\"1002\"></div>\n",
       "</div>\n",
       "<script type=\"application/javascript\">(function(root) {\n",
       "  function embed_document(root) {\n",
       "    var docs_json = {\"04e33388-b138-4f52-b303-04f48103f3b1\":{\"defs\":[{\"extends\":null,\"module\":null,\"name\":\"ReactiveHTML1\",\"overrides\":[],\"properties\":[]},{\"extends\":null,\"module\":null,\"name\":\"FlexBox1\",\"overrides\":[],\"properties\":[{\"default\":\"flex-start\",\"kind\":null,\"name\":\"align_content\"},{\"default\":\"flex-start\",\"kind\":null,\"name\":\"align_items\"},{\"default\":\"row\",\"kind\":null,\"name\":\"flex_direction\"},{\"default\":\"wrap\",\"kind\":null,\"name\":\"flex_wrap\"},{\"default\":\"flex-start\",\"kind\":null,\"name\":\"justify_content\"}]},{\"extends\":null,\"module\":null,\"name\":\"GridStack1\",\"overrides\":[],\"properties\":[{\"default\":\"warn\",\"kind\":null,\"name\":\"mode\"},{\"default\":null,\"kind\":null,\"name\":\"ncols\"},{\"default\":null,\"kind\":null,\"name\":\"nrows\"},{\"default\":true,\"kind\":null,\"name\":\"allow_resize\"},{\"default\":true,\"kind\":null,\"name\":\"allow_drag\"},{\"default\":[],\"kind\":null,\"name\":\"state\"}]},{\"extends\":null,\"module\":null,\"name\":\"click1\",\"overrides\":[],\"properties\":[{\"default\":\"\",\"kind\":null,\"name\":\"terminal_output\"},{\"default\":\"\",\"kind\":null,\"name\":\"debug_name\"},{\"default\":0,\"kind\":null,\"name\":\"clears\"}]},{\"extends\":null,\"module\":null,\"name\":\"NotificationAreaBase1\",\"overrides\":[],\"properties\":[{\"default\":\"bottom-right\",\"kind\":null,\"name\":\"position\"},{\"default\":0,\"kind\":null,\"name\":\"_clear\"}]},{\"extends\":null,\"module\":null,\"name\":\"NotificationArea1\",\"overrides\":[],\"properties\":[{\"default\":[],\"kind\":null,\"name\":\"notifications\"},{\"default\":\"bottom-right\",\"kind\":null,\"name\":\"position\"},{\"default\":0,\"kind\":null,\"name\":\"_clear\"},{\"default\":[{\"background\":\"#ffc107\",\"icon\":{\"className\":\"fas fa-exclamation-triangle\",\"color\":\"white\",\"tagName\":\"i\"},\"type\":\"warning\"},{\"background\":\"#007bff\",\"icon\":{\"className\":\"fas fa-info-circle\",\"color\":\"white\",\"tagName\":\"i\"},\"type\":\"info\"}],\"kind\":null,\"name\":\"types\"}]},{\"extends\":null,\"module\":null,\"name\":\"Notification\",\"overrides\":[],\"properties\":[{\"default\":null,\"kind\":null,\"name\":\"background\"},{\"default\":3000,\"kind\":null,\"name\":\"duration\"},{\"default\":null,\"kind\":null,\"name\":\"icon\"},{\"default\":\"\",\"kind\":null,\"name\":\"message\"},{\"default\":null,\"kind\":null,\"name\":\"notification_type\"},{\"default\":false,\"kind\":null,\"name\":\"_destroyed\"}]},{\"extends\":null,\"module\":null,\"name\":\"TemplateActions1\",\"overrides\":[],\"properties\":[{\"default\":0,\"kind\":null,\"name\":\"open_modal\"},{\"default\":0,\"kind\":null,\"name\":\"close_modal\"}]},{\"extends\":null,\"module\":null,\"name\":\"MaterialTemplateActions1\",\"overrides\":[],\"properties\":[{\"default\":0,\"kind\":null,\"name\":\"open_modal\"},{\"default\":0,\"kind\":null,\"name\":\"close_modal\"}]}],\"roots\":{\"references\":[{\"attributes\":{\"line_color\":\"#9467bd\",\"line_width\":2,\"x\":{\"field\":\"coin_id\"},\"y\":{\"field\":\"value\"}},\"id\":\"1229\",\"type\":\"Line\"},{\"attributes\":{},\"id\":\"1046\",\"type\":\"AllLabels\"},{\"attributes\":{},\"id\":\"1045\",\"type\":\"BasicTickFormatter\"},{\"attributes\":{\"data\":{\"Variable\":[\"price_change_percentage_24h\",\"price_change_percentage_24h\",\"price_change_percentage_24h\",\"price_change_percentage_24h\",\"price_change_percentage_24h\",\"price_change_percentage_24h\",\"price_change_percentage_24h\",\"price_change_percentage_24h\",\"price_change_percentage_24h\",\"price_change_percentage_24h\",\"price_change_percentage_24h\",\"price_change_percentage_24h\",\"price_change_percentage_24h\",\"price_change_percentage_24h\",\"price_change_percentage_24h\",\"price_change_percentage_24h\",\"price_change_percentage_24h\",\"price_change_percentage_24h\",\"price_change_percentage_24h\",\"price_change_percentage_24h\",\"price_change_percentage_24h\",\"price_change_percentage_24h\",\"price_change_percentage_24h\",\"price_change_percentage_24h\",\"price_change_percentage_24h\",\"price_change_percentage_24h\",\"price_change_percentage_24h\",\"price_change_percentage_24h\",\"price_change_percentage_24h\",\"price_change_percentage_24h\",\"price_change_percentage_24h\",\"price_change_percentage_24h\",\"price_change_percentage_24h\",\"price_change_percentage_24h\",\"price_change_percentage_24h\",\"price_change_percentage_24h\",\"price_change_percentage_24h\",\"price_change_percentage_24h\",\"price_change_percentage_24h\",\"price_change_percentage_24h\",\"price_change_percentage_24h\"],\"coin_id\":[\"bitcoin\",\"ethereum\",\"tether\",\"ripple\",\"bitcoin-cash\",\"binancecoin\",\"chainlink\",\"cardano\",\"litecoin\",\"bitcoin-cash-sv\",\"crypto-com-chain\",\"usd-coin\",\"eos\",\"monero\",\"tron\",\"tezos\",\"okb\",\"stellar\",\"cosmos\",\"cdai\",\"neo\",\"wrapped-bitcoin\",\"leo-token\",\"huobi-token\",\"nem\",\"binance-usd\",\"iota\",\"vechain\",\"zcash\",\"theta-token\",\"dash\",\"ethereum-classic\",\"ethlend\",\"maker\",\"havven\",\"omisego\",\"celsius-degree-token\",\"ontology\",\"ftx-token\",\"true-usd\",\"digibyte\"],\"value\":{\"__ndarray__\":\"nZ0MjpJX8T8MzXUaaanMP5mByvj3Gcu/wCZr1EM02L8ep+hILj8HQL0Yyol21QBAwhcmUwWjzr//CS5W1GBqP7JGPUSjO7C/QKTfvg6c7T8urYbEPZbjPzeJQWDl0Ma/1pC4x9KHwj87NgLxun7bP90HILWJk7M/JjYf14aK5b83iUFg5dAFwG3i5H6HIvC/5nlwd9Zu7r9i83FtqBjLP+iHEcKjjd8/M9yAzw+j8T/fGtgqweLAv+RmuAGfH9q/UdobfGEy678D7KNTVz67v8YzaOif4No/teBFX0Ga9D8G2Eenrnzjvx+duvJZPhLAoMN8eQH28L+cxCCwcmjdv667eapDDivAX5hMFYxK479EUaBP5EkQwAZkr3d/XBNA0JuKVBgbBEDqBDQRNrz1vxo09E9wseo/tI6qJoi6r79qMA3DR8QHQA==\",\"dtype\":\"float64\",\"order\":\"little\",\"shape\":[41]}},\"selected\":{\"id\":\"1048\"},\"selection_policy\":{\"id\":\"1062\"}},\"id\":\"1047\",\"type\":\"ColumnDataSource\"},{\"attributes\":{\"line_alpha\":0.1,\"line_color\":\"#e5ae38\",\"line_width\":2,\"x\":{\"field\":\"coin_id\"},\"y\":{\"field\":\"value\"}},\"id\":\"1094\",\"type\":\"Line\"},{\"attributes\":{},\"id\":\"1017\",\"type\":\"CategoricalScale\"},{\"attributes\":{\"line_alpha\":0.1,\"line_color\":\"#17becf\",\"line_width\":2,\"x\":{\"field\":\"coin_id\"},\"y\":{\"field\":\"value\"}},\"id\":\"1172\",\"type\":\"Line\"},{\"attributes\":{\"line_color\":\"#fc4f30\",\"line_width\":2,\"x\":{\"field\":\"coin_id\"},\"y\":{\"field\":\"value\"}},\"id\":\"1089\",\"type\":\"Line\"},{\"attributes\":{\"label\":{\"value\":\"price_change_percentage_200d\"},\"renderers\":[{\"id\":\"1174\"}]},\"id\":\"1196\",\"type\":\"LegendItem\"},{\"attributes\":{\"line_color\":\"#30a2da\",\"line_width\":2,\"x\":{\"field\":\"coin_id\"},\"y\":{\"field\":\"value\"}},\"id\":\"1050\",\"type\":\"Line\"},{\"attributes\":{\"coordinates\":null,\"data_source\":{\"id\":\"1168\"},\"glyph\":{\"id\":\"1171\"},\"group\":null,\"hover_glyph\":null,\"muted_glyph\":{\"id\":\"1173\"},\"nonselection_glyph\":{\"id\":\"1172\"},\"selection_glyph\":{\"id\":\"1197\"},\"view\":{\"id\":\"1175\"}},\"id\":\"1174\",\"type\":\"GlyphRenderer\"},{\"attributes\":{\"line_alpha\":0.2,\"line_color\":\"#17becf\",\"line_width\":2,\"x\":{\"field\":\"coin_id\"},\"y\":{\"field\":\"value\"}},\"id\":\"1173\",\"type\":\"Line\"},{\"attributes\":{\"line_alpha\":0.1,\"line_color\":\"#8b8b8b\",\"line_width\":2,\"x\":{\"field\":\"coin_id\"},\"y\":{\"field\":\"value\"}},\"id\":\"1144\",\"type\":\"Line\"},{\"attributes\":{\"source\":{\"id\":\"1168\"}},\"id\":\"1175\",\"type\":\"CDSView\"},{\"attributes\":{\"below\":[{\"id\":\"1021\"}],\"center\":[{\"id\":\"1023\"},{\"id\":\"1027\"}],\"height\":400,\"left\":[{\"id\":\"1024\"}],\"margin\":[5,5,5,5],\"min_border_bottom\":10,\"min_border_left\":10,\"min_border_right\":10,\"min_border_top\":10,\"renderers\":[{\"id\":\"1053\"},{\"id\":\"1074\"},{\"id\":\"1096\"},{\"id\":\"1120\"},{\"id\":\"1146\"},{\"id\":\"1174\"},{\"id\":\"1204\"}],\"right\":[{\"id\":\"1065\"}],\"sizing_mode\":\"fixed\",\"title\":{\"id\":\"1013\"},\"toolbar\":{\"id\":\"1034\"},\"width\":800,\"x_range\":{\"id\":\"1003\"},\"x_scale\":{\"id\":\"1017\"},\"y_range\":{\"id\":\"1004\"},\"y_scale\":{\"id\":\"1019\"}},\"id\":\"1012\",\"subtype\":\"Figure\",\"type\":\"Plot\"},{\"attributes\":{\"line_alpha\":0.2,\"line_color\":\"#30a2da\",\"line_width\":2,\"x\":{\"field\":\"coin_id\"},\"y\":{\"field\":\"value\"}},\"id\":\"1052\",\"type\":\"Line\"},{\"attributes\":{\"line_alpha\":0.1,\"line_color\":\"#30a2da\",\"line_width\":2,\"x\":{\"field\":\"coin_id\"},\"y\":{\"field\":\"value\"}},\"id\":\"1051\",\"type\":\"Line\"},{\"attributes\":{\"data\":{\"Variable\":[\"price_change_percentage_14d\",\"price_change_percentage_14d\",\"price_change_percentage_14d\",\"price_change_percentage_14d\",\"price_change_percentage_14d\",\"price_change_percentage_14d\",\"price_change_percentage_14d\",\"price_change_percentage_14d\",\"price_change_percentage_14d\",\"price_change_percentage_14d\",\"price_change_percentage_14d\",\"price_change_percentage_14d\",\"price_change_percentage_14d\",\"price_change_percentage_14d\",\"price_change_percentage_14d\",\"price_change_percentage_14d\",\"price_change_percentage_14d\",\"price_change_percentage_14d\",\"price_change_percentage_14d\",\"price_change_percentage_14d\",\"price_change_percentage_14d\",\"price_change_percentage_14d\",\"price_change_percentage_14d\",\"price_change_percentage_14d\",\"price_change_percentage_14d\",\"price_change_percentage_14d\",\"price_change_percentage_14d\",\"price_change_percentage_14d\",\"price_change_percentage_14d\",\"price_change_percentage_14d\",\"price_change_percentage_14d\",\"price_change_percentage_14d\",\"price_change_percentage_14d\",\"price_change_percentage_14d\",\"price_change_percentage_14d\",\"price_change_percentage_14d\",\"price_change_percentage_14d\",\"price_change_percentage_14d\",\"price_change_percentage_14d\",\"price_change_percentage_14d\",\"price_change_percentage_14d\"],\"coin_id\":[\"bitcoin\",\"ethereum\",\"tether\",\"ripple\",\"bitcoin-cash\",\"binancecoin\",\"chainlink\",\"cardano\",\"litecoin\",\"bitcoin-cash-sv\",\"crypto-com-chain\",\"usd-coin\",\"eos\",\"monero\",\"tron\",\"tezos\",\"okb\",\"stellar\",\"cosmos\",\"cdai\",\"neo\",\"wrapped-bitcoin\",\"leo-token\",\"huobi-token\",\"nem\",\"binance-usd\",\"iota\",\"vechain\",\"zcash\",\"theta-token\",\"dash\",\"ethereum-classic\",\"ethlend\",\"maker\",\"havven\",\"omisego\",\"celsius-degree-token\",\"ontology\",\"ftx-token\",\"true-usd\",\"digibyte\"],\"value\":{\"__ndarray__\":\"zQaZZORMGkB5knTN5DsTQC1DHOviNno/ctwpHaz/AUCLic3HtYEtQJgvL8A+OhtACoDxDBqaIkAOhGQBEzgWQICfceFAKB1AIVnABG7d/b8xsfm4NhQhwGtI3GPpQ3e/pfeNrz0z8j8ao3VUNWkyQBUA4xk0dPY/VIzzN6GQAkCXrfVFQhsUwKpla32RUPG/Qgkzbf8KFkDPg7uzdtvFP8MN+PwwsiPAYFlpUgo6GkB3+GuyRh0cwM2v5gDBHN0/jliLTwEwBUDWrZ6T3jeuP7pOIy2VNw7Am1Wfq60oMsAJM23/yioXQJfK2xFOSxrAQE0tW+uL4D9OucK7XET0v0SLbOf7mSPA/pqsUQ/R978vaYzWUZUqwDtT6LzGbirAvodLjjs9OEByUMJM2x8lwJ30vvG1Z8q/ZCMQr+sXvD+7D0BqE0cdwA==\",\"dtype\":\"float64\",\"order\":\"little\",\"shape\":[41]}},\"selected\":{\"id\":\"1091\"},\"selection_policy\":{\"id\":\"1109\"}},\"id\":\"1090\",\"type\":\"ColumnDataSource\"},{\"attributes\":{\"line_color\":\"#6d904f\",\"line_width\":2,\"x\":{\"field\":\"coin_id\"},\"y\":{\"field\":\"value\"}},\"id\":\"1139\",\"type\":\"Line\"},{\"attributes\":{\"label\":{\"value\":\"price_change_percentage_14d\"},\"renderers\":[{\"id\":\"1096\"}]},\"id\":\"1112\",\"type\":\"LegendItem\"},{\"attributes\":{\"click_policy\":\"mute\",\"coordinates\":null,\"group\":null,\"items\":[{\"id\":\"1066\"},{\"id\":\"1088\"},{\"id\":\"1112\"},{\"id\":\"1138\"},{\"id\":\"1166\"},{\"id\":\"1196\"},{\"id\":\"1228\"}],\"location\":[0,0],\"title\":\"Variable\"},\"id\":\"1065\",\"type\":\"Legend\"},{\"attributes\":{},\"id\":\"1135\",\"type\":\"UnionRenderers\"},{\"attributes\":{\"factors\":[\"bitcoin\",\"ethereum\",\"tether\",\"ripple\",\"bitcoin-cash\",\"binancecoin\",\"chainlink\",\"cardano\",\"litecoin\",\"bitcoin-cash-sv\",\"crypto-com-chain\",\"usd-coin\",\"eos\",\"monero\",\"tron\",\"tezos\",\"okb\",\"stellar\",\"cosmos\",\"cdai\",\"neo\",\"wrapped-bitcoin\",\"leo-token\",\"huobi-token\",\"nem\",\"binance-usd\",\"iota\",\"vechain\",\"zcash\",\"theta-token\",\"dash\",\"ethereum-classic\",\"ethlend\",\"maker\",\"havven\",\"omisego\",\"celsius-degree-token\",\"ontology\",\"ftx-token\",\"true-usd\",\"digibyte\"],\"tags\":[[[\"coin_id\",\"coin_id\",null]]]},\"id\":\"1003\",\"type\":\"FactorRange\"},{\"attributes\":{\"coordinates\":null,\"data_source\":{\"id\":\"1090\"},\"glyph\":{\"id\":\"1093\"},\"group\":null,\"hover_glyph\":null,\"muted_glyph\":{\"id\":\"1095\"},\"nonselection_glyph\":{\"id\":\"1094\"},\"selection_glyph\":{\"id\":\"1113\"},\"view\":{\"id\":\"1097\"}},\"id\":\"1096\",\"type\":\"GlyphRenderer\"},{\"attributes\":{\"coordinates\":null,\"data_source\":{\"id\":\"1047\"},\"glyph\":{\"id\":\"1050\"},\"group\":null,\"hover_glyph\":null,\"muted_glyph\":{\"id\":\"1052\"},\"nonselection_glyph\":{\"id\":\"1051\"},\"selection_glyph\":{\"id\":\"1067\"},\"view\":{\"id\":\"1054\"}},\"id\":\"1053\",\"type\":\"GlyphRenderer\"},{\"attributes\":{},\"id\":\"1193\",\"type\":\"UnionRenderers\"},{\"attributes\":{\"line_alpha\":0.2,\"line_color\":\"#e5ae38\",\"line_width\":2,\"x\":{\"field\":\"coin_id\"},\"y\":{\"field\":\"value\"}},\"id\":\"1095\",\"type\":\"Line\"},{\"attributes\":{},\"id\":\"1091\",\"type\":\"Selection\"},{\"attributes\":{\"source\":{\"id\":\"1047\"}},\"id\":\"1054\",\"type\":\"CDSView\"},{\"attributes\":{\"callback\":null,\"renderers\":[{\"id\":\"1053\"},{\"id\":\"1074\"},{\"id\":\"1096\"},{\"id\":\"1120\"},{\"id\":\"1146\"},{\"id\":\"1174\"},{\"id\":\"1204\"}],\"tags\":[\"hv_created\"],\"tooltips\":[[\"Variable\",\"@{Variable}\"],[\"coin_id\",\"@{coin_id}\"],[\"value\",\"@{value}\"]]},\"id\":\"1005\",\"type\":\"HoverTool\"},{\"attributes\":{\"data\":{\"Variable\":[\"price_change_percentage_60d\",\"price_change_percentage_60d\",\"price_change_percentage_60d\",\"price_change_percentage_60d\",\"price_change_percentage_60d\",\"price_change_percentage_60d\",\"price_change_percentage_60d\",\"price_change_percentage_60d\",\"price_change_percentage_60d\",\"price_change_percentage_60d\",\"price_change_percentage_60d\",\"price_change_percentage_60d\",\"price_change_percentage_60d\",\"price_change_percentage_60d\",\"price_change_percentage_60d\",\"price_change_percentage_60d\",\"price_change_percentage_60d\",\"price_change_percentage_60d\",\"price_change_percentage_60d\",\"price_change_percentage_60d\",\"price_change_percentage_60d\",\"price_change_percentage_60d\",\"price_change_percentage_60d\",\"price_change_percentage_60d\",\"price_change_percentage_60d\",\"price_change_percentage_60d\",\"price_change_percentage_60d\",\"price_change_percentage_60d\",\"price_change_percentage_60d\",\"price_change_percentage_60d\",\"price_change_percentage_60d\",\"price_change_percentage_60d\",\"price_change_percentage_60d\",\"price_change_percentage_60d\",\"price_change_percentage_60d\",\"price_change_percentage_60d\",\"price_change_percentage_60d\",\"price_change_percentage_60d\",\"price_change_percentage_60d\",\"price_change_percentage_60d\",\"price_change_percentage_60d\"],\"coin_id\":[\"bitcoin\",\"ethereum\",\"tether\",\"ripple\",\"bitcoin-cash\",\"binancecoin\",\"chainlink\",\"cardano\",\"litecoin\",\"bitcoin-cash-sv\",\"crypto-com-chain\",\"usd-coin\",\"eos\",\"monero\",\"tron\",\"tezos\",\"okb\",\"stellar\",\"cosmos\",\"cdai\",\"neo\",\"wrapped-bitcoin\",\"leo-token\",\"huobi-token\",\"nem\",\"binance-usd\",\"iota\",\"vechain\",\"zcash\",\"theta-token\",\"dash\",\"ethereum-classic\",\"ethlend\",\"maker\",\"havven\",\"omisego\",\"celsius-degree-token\",\"ontology\",\"ftx-token\",\"true-usd\",\"digibyte\"],\"value\":{\"__ndarray__\":\"FvvL7skDCsAs1JrmHccpwKjjMQOV8dE/2qz6XG2NMcBzol2FlG8rwIleRrHcKkJAN8MN+PzYRcBi26LMBtk2wCEf9GxWPTHAq5UJv9TfOMBg5dAi23kwwDygbMoV3qU/l631RUIrPsDNzMzMzNxEQJm7lpAPGhZAms5OBkdpRsBKe4MvTKYGwEsfuqC+zT7APL1SliHOHMC4AZ8fRgjlP9L7xteeCStAFqQZi6azDMCvJeSDni0ewDeOWItPQQvAXvQVpBm3VEDaOGItPgW4PwpLPKBsQkHAaw4QzNHPRcAJM23/yoo0wBmQvd79AVRAfa62Yn85OsBVGFsIcug5wLCsNCkFHQFA529CIQKeMsA0uoPYmbZDwPKwUGua0VNA/pqsUQ/ia0Ao8iTpmllAwFuxv+yenBdAmrFoOjsZ0D8s1JrmHRc/wA==\",\"dtype\":\"float64\",\"order\":\"little\",\"shape\":[41]}},\"selected\":{\"id\":\"1141\"},\"selection_policy\":{\"id\":\"1163\"}},\"id\":\"1140\",\"type\":\"ColumnDataSource\"},{\"attributes\":{\"label\":{\"value\":\"price_change_percentage_60d\"},\"renderers\":[{\"id\":\"1146\"}]},\"id\":\"1166\",\"type\":\"LegendItem\"},{\"attributes\":{\"source\":{\"id\":\"1090\"}},\"id\":\"1097\",\"type\":\"CDSView\"},{\"attributes\":{\"line_color\":\"#17becf\",\"line_width\":2,\"x\":{\"field\":\"coin_id\"},\"y\":{\"field\":\"value\"}},\"id\":\"1197\",\"type\":\"Line\"},{\"attributes\":{\"line_color\":\"#e5ae38\",\"line_width\":2,\"x\":{\"field\":\"coin_id\"},\"y\":{\"field\":\"value\"}},\"id\":\"1093\",\"type\":\"Line\"},{\"attributes\":{\"label\":{\"value\":\"price_change_percentage_24h\"},\"renderers\":[{\"id\":\"1053\"}]},\"id\":\"1066\",\"type\":\"LegendItem\"},{\"attributes\":{\"line_alpha\":0.1,\"line_color\":\"#fc4f30\",\"line_width\":2,\"x\":{\"field\":\"coin_id\"},\"y\":{\"field\":\"value\"}},\"id\":\"1072\",\"type\":\"Line\"},{\"attributes\":{\"coordinates\":null,\"data_source\":{\"id\":\"1140\"},\"glyph\":{\"id\":\"1143\"},\"group\":null,\"hover_glyph\":null,\"muted_glyph\":{\"id\":\"1145\"},\"nonselection_glyph\":{\"id\":\"1144\"},\"selection_glyph\":{\"id\":\"1167\"},\"view\":{\"id\":\"1147\"}},\"id\":\"1146\",\"type\":\"GlyphRenderer\"},{\"attributes\":{\"line_color\":\"#30a2da\",\"line_width\":2,\"x\":{\"field\":\"coin_id\"},\"y\":{\"field\":\"value\"}},\"id\":\"1067\",\"type\":\"Line\"},{\"attributes\":{\"line_alpha\":0.2,\"line_color\":\"#8b8b8b\",\"line_width\":2,\"x\":{\"field\":\"coin_id\"},\"y\":{\"field\":\"value\"}},\"id\":\"1145\",\"type\":\"Line\"},{\"attributes\":{},\"id\":\"1141\",\"type\":\"Selection\"},{\"attributes\":{},\"id\":\"1225\",\"type\":\"UnionRenderers\"},{\"attributes\":{\"label\":{\"value\":\"price_change_percentage_1y\"},\"renderers\":[{\"id\":\"1204\"}]},\"id\":\"1228\",\"type\":\"LegendItem\"},{\"attributes\":{\"source\":{\"id\":\"1140\"}},\"id\":\"1147\",\"type\":\"CDSView\"},{\"attributes\":{\"line_color\":\"#8b8b8b\",\"line_width\":2,\"x\":{\"field\":\"coin_id\"},\"y\":{\"field\":\"value\"}},\"id\":\"1143\",\"type\":\"Line\"},{\"attributes\":{\"line_alpha\":0.1,\"line_color\":\"#9467bd\",\"line_width\":2,\"x\":{\"field\":\"coin_id\"},\"y\":{\"field\":\"value\"}},\"id\":\"1202\",\"type\":\"Line\"},{\"attributes\":{},\"id\":\"1019\",\"type\":\"LinearScale\"},{\"attributes\":{\"coordinates\":null,\"data_source\":{\"id\":\"1198\"},\"glyph\":{\"id\":\"1201\"},\"group\":null,\"hover_glyph\":null,\"muted_glyph\":{\"id\":\"1203\"},\"nonselection_glyph\":{\"id\":\"1202\"},\"selection_glyph\":{\"id\":\"1229\"},\"view\":{\"id\":\"1205\"}},\"id\":\"1204\",\"type\":\"GlyphRenderer\"},{\"attributes\":{\"line_alpha\":0.1,\"line_color\":\"#6d904f\",\"line_width\":2,\"x\":{\"field\":\"coin_id\"},\"y\":{\"field\":\"value\"}},\"id\":\"1118\",\"type\":\"Line\"},{\"attributes\":{\"data\":{\"Variable\":[\"price_change_percentage_7d\",\"price_change_percentage_7d\",\"price_change_percentage_7d\",\"price_change_percentage_7d\",\"price_change_percentage_7d\",\"price_change_percentage_7d\",\"price_change_percentage_7d\",\"price_change_percentage_7d\",\"price_change_percentage_7d\",\"price_change_percentage_7d\",\"price_change_percentage_7d\",\"price_change_percentage_7d\",\"price_change_percentage_7d\",\"price_change_percentage_7d\",\"price_change_percentage_7d\",\"price_change_percentage_7d\",\"price_change_percentage_7d\",\"price_change_percentage_7d\",\"price_change_percentage_7d\",\"price_change_percentage_7d\",\"price_change_percentage_7d\",\"price_change_percentage_7d\",\"price_change_percentage_7d\",\"price_change_percentage_7d\",\"price_change_percentage_7d\",\"price_change_percentage_7d\",\"price_change_percentage_7d\",\"price_change_percentage_7d\",\"price_change_percentage_7d\",\"price_change_percentage_7d\",\"price_change_percentage_7d\",\"price_change_percentage_7d\",\"price_change_percentage_7d\",\"price_change_percentage_7d\",\"price_change_percentage_7d\",\"price_change_percentage_7d\",\"price_change_percentage_7d\",\"price_change_percentage_7d\",\"price_change_percentage_7d\",\"price_change_percentage_7d\",\"price_change_percentage_7d\"],\"coin_id\":[\"bitcoin\",\"ethereum\",\"tether\",\"ripple\",\"bitcoin-cash\",\"binancecoin\",\"chainlink\",\"cardano\",\"litecoin\",\"bitcoin-cash-sv\",\"crypto-com-chain\",\"usd-coin\",\"eos\",\"monero\",\"tron\",\"tezos\",\"okb\",\"stellar\",\"cosmos\",\"cdai\",\"neo\",\"wrapped-bitcoin\",\"leo-token\",\"huobi-token\",\"nem\",\"binance-usd\",\"iota\",\"vechain\",\"zcash\",\"theta-token\",\"dash\",\"ethereum-classic\",\"ethlend\",\"maker\",\"havven\",\"omisego\",\"celsius-degree-token\",\"ontology\",\"ftx-token\",\"true-usd\",\"digibyte\"],\"value\":{\"__ndarray__\":\"RbsKKT9pHkAzUBn/PsMkQL99HThnRKk/yVnY0w5/47/+JhQi4BgxQBL3WPrQtSlA7yB2ptCxNEA/jBAebfwrQPFL/bypaBpArKjBNAxfCkByv0NRoK8WwPlJtU/HY76/lPsdigL99L+n6Egu/5EvQE1KQbeX9BBA0m9fB87pIUBlU67wLjcSwKbtX1lpkgBAZwqd19gVMEBcIEHxY8ytP3wnZr0YigNAOh4zUBmfHUD3Hi457pT1vzNQGf8+4/k/kQ96Nqs+6781Y9F0djKoP2dEaW/wRRhAgXhdv2A3/L/8GHPXErIkQP8JLlbUYBjAVU0QdR9gFEDRlnMprmoIQGCrBIvD2RBAAiuHFtlOIECbG9MTllgRQKhXyjLEURtAqn06HjNQ4z+UvDrHgGzzvwltOZfiahxAsD2zJEBNxT8yj/zBwHPlPw==\",\"dtype\":\"float64\",\"order\":\"little\",\"shape\":[41]}},\"selected\":{\"id\":\"1069\"},\"selection_policy\":{\"id\":\"1085\"}},\"id\":\"1068\",\"type\":\"ColumnDataSource\"},{\"attributes\":{\"label\":{\"value\":\"price_change_percentage_7d\"},\"renderers\":[{\"id\":\"1074\"}]},\"id\":\"1088\",\"type\":\"LegendItem\"},{\"attributes\":{},\"id\":\"1109\",\"type\":\"UnionRenderers\"},{\"attributes\":{\"line_alpha\":0.2,\"line_color\":\"#9467bd\",\"line_width\":2,\"x\":{\"field\":\"coin_id\"},\"y\":{\"field\":\"value\"}},\"id\":\"1203\",\"type\":\"Line\"},{\"attributes\":{},\"id\":\"1199\",\"type\":\"Selection\"},{\"attributes\":{\"line_color\":\"#e5ae38\",\"line_width\":2,\"x\":{\"field\":\"coin_id\"},\"y\":{\"field\":\"value\"}},\"id\":\"1113\",\"type\":\"Line\"},{\"attributes\":{\"coordinates\":null,\"data_source\":{\"id\":\"1068\"},\"glyph\":{\"id\":\"1071\"},\"group\":null,\"hover_glyph\":null,\"muted_glyph\":{\"id\":\"1073\"},\"nonselection_glyph\":{\"id\":\"1072\"},\"selection_glyph\":{\"id\":\"1089\"},\"view\":{\"id\":\"1075\"}},\"id\":\"1074\",\"type\":\"GlyphRenderer\"},{\"attributes\":{\"axis_label\":\"coin_id\",\"coordinates\":null,\"formatter\":{\"id\":\"1042\"},\"group\":null,\"major_label_orientation\":1.5707963267948966,\"major_label_policy\":{\"id\":\"1043\"},\"ticker\":{\"id\":\"1022\"}},\"id\":\"1021\",\"type\":\"CategoricalAxis\"},{\"attributes\":{\"end\":8641.780918,\"reset_end\":8641.780918,\"reset_start\":-834.5136980000001,\"start\":-834.5136980000001,\"tags\":[[[\"value\",\"value\",null]]]},\"id\":\"1004\",\"type\":\"Range1d\"},{\"attributes\":{\"coordinates\":null,\"group\":null,\"text_color\":\"black\",\"text_font_size\":\"12pt\"},\"id\":\"1013\",\"type\":\"Title\"},{\"attributes\":{\"line_alpha\":0.2,\"line_color\":\"#fc4f30\",\"line_width\":2,\"x\":{\"field\":\"coin_id\"},\"y\":{\"field\":\"value\"}},\"id\":\"1073\",\"type\":\"Line\"},{\"attributes\":{},\"id\":\"1022\",\"type\":\"CategoricalTicker\"},{\"attributes\":{},\"id\":\"1069\",\"type\":\"Selection\"},{\"attributes\":{\"axis\":{\"id\":\"1021\"},\"coordinates\":null,\"grid_line_color\":null,\"group\":null,\"ticker\":null},\"id\":\"1023\",\"type\":\"Grid\"},{\"attributes\":{},\"id\":\"1085\",\"type\":\"UnionRenderers\"},{\"attributes\":{\"source\":{\"id\":\"1198\"}},\"id\":\"1205\",\"type\":\"CDSView\"},{\"attributes\":{},\"id\":\"1029\",\"type\":\"PanTool\"},{\"attributes\":{\"line_color\":\"#9467bd\",\"line_width\":2,\"x\":{\"field\":\"coin_id\"},\"y\":{\"field\":\"value\"}},\"id\":\"1201\",\"type\":\"Line\"},{\"attributes\":{\"axis_label\":\"\",\"coordinates\":null,\"formatter\":{\"id\":\"1045\"},\"group\":null,\"major_label_policy\":{\"id\":\"1046\"},\"ticker\":{\"id\":\"1025\"}},\"id\":\"1024\",\"type\":\"LinearAxis\"},{\"attributes\":{\"axis\":{\"id\":\"1024\"},\"coordinates\":null,\"dimension\":1,\"grid_line_color\":null,\"group\":null,\"ticker\":null},\"id\":\"1027\",\"type\":\"Grid\"},{\"attributes\":{\"children\":[{\"id\":\"1012\"}],\"height\":400,\"margin\":[0,0,0,0],\"name\":\"Row01047\",\"sizing_mode\":\"fixed\",\"tags\":[\"embedded\"],\"width\":800},\"id\":\"1002\",\"type\":\"Row\"},{\"attributes\":{},\"id\":\"1025\",\"type\":\"BasicTicker\"},{\"attributes\":{},\"id\":\"1030\",\"type\":\"WheelZoomTool\"},{\"attributes\":{\"source\":{\"id\":\"1068\"}},\"id\":\"1075\",\"type\":\"CDSView\"},{\"attributes\":{},\"id\":\"1062\",\"type\":\"UnionRenderers\"},{\"attributes\":{\"line_color\":\"#fc4f30\",\"line_width\":2,\"x\":{\"field\":\"coin_id\"},\"y\":{\"field\":\"value\"}},\"id\":\"1071\",\"type\":\"Line\"},{\"attributes\":{\"data\":{\"Variable\":[\"price_change_percentage_1y\",\"price_change_percentage_1y\",\"price_change_percentage_1y\",\"price_change_percentage_1y\",\"price_change_percentage_1y\",\"price_change_percentage_1y\",\"price_change_percentage_1y\",\"price_change_percentage_1y\",\"price_change_percentage_1y\",\"price_change_percentage_1y\",\"price_change_percentage_1y\",\"price_change_percentage_1y\",\"price_change_percentage_1y\",\"price_change_percentage_1y\",\"price_change_percentage_1y\",\"price_change_percentage_1y\",\"price_change_percentage_1y\",\"price_change_percentage_1y\",\"price_change_percentage_1y\",\"price_change_percentage_1y\",\"price_change_percentage_1y\",\"price_change_percentage_1y\",\"price_change_percentage_1y\",\"price_change_percentage_1y\",\"price_change_percentage_1y\",\"price_change_percentage_1y\",\"price_change_percentage_1y\",\"price_change_percentage_1y\",\"price_change_percentage_1y\",\"price_change_percentage_1y\",\"price_change_percentage_1y\",\"price_change_percentage_1y\",\"price_change_percentage_1y\",\"price_change_percentage_1y\",\"price_change_percentage_1y\",\"price_change_percentage_1y\",\"price_change_percentage_1y\",\"price_change_percentage_1y\",\"price_change_percentage_1y\",\"price_change_percentage_1y\",\"price_change_percentage_1y\"],\"coin_id\":[\"bitcoin\",\"ethereum\",\"tether\",\"ripple\",\"bitcoin-cash\",\"binancecoin\",\"chainlink\",\"cardano\",\"litecoin\",\"bitcoin-cash-sv\",\"crypto-com-chain\",\"usd-coin\",\"eos\",\"monero\",\"tron\",\"tezos\",\"okb\",\"stellar\",\"cosmos\",\"cdai\",\"neo\",\"wrapped-bitcoin\",\"leo-token\",\"huobi-token\",\"nem\",\"binance-usd\",\"iota\",\"vechain\",\"zcash\",\"theta-token\",\"dash\",\"ethereum-classic\",\"ethlend\",\"maker\",\"havven\",\"omisego\",\"celsius-degree-token\",\"ontology\",\"ftx-token\",\"true-usd\",\"digibyte\"],\"value\":{\"__ndarray__\":\"kQpjC0HCQkDWqIdodH1ZQN/42jNLApQ/NXugFRiaMMDN6bKY2PwsQOcdp+hIbFFAaTo7GRxSdEC6LCY2H4NjQPnaM0sCVCnA0NA/wcVuV0CQvd798RBzQL4wmSoYlci/t39lpUmRMcDovMYuUaFhQEPKT6p9nk1A6PaSxmiAYUBdUN8yp75hQMzuycNCnStAw7ZFmQ2cVEAHsTOFzmvSvx/0bFZ9aWBAhhvw+WHEQkAN/RNcrAA1QN8Vwf9WkjhAS7A4nPkWaUAVUn5S7dPBPzUk7rH04Q/AIsMq3shbaUBf0hito7hUQPyMCwcC64VAzsKedvirA8Dwoq8gzTgmQHRGlPYWrL5Ayk+qfTpOJUDfiVkvRjaFQEfJq3MMC3RAnFCIgONmn0CsVib8Uk8pwNttF5rrC2VAyXGndLD+2T/ZfFwbKgxnQA==\",\"dtype\":\"float64\",\"order\":\"little\",\"shape\":[41]}},\"selected\":{\"id\":\"1199\"},\"selection_policy\":{\"id\":\"1225\"}},\"id\":\"1198\",\"type\":\"ColumnDataSource\"},{\"attributes\":{\"data\":{\"Variable\":[\"price_change_percentage_30d\",\"price_change_percentage_30d\",\"price_change_percentage_30d\",\"price_change_percentage_30d\",\"price_change_percentage_30d\",\"price_change_percentage_30d\",\"price_change_percentage_30d\",\"price_change_percentage_30d\",\"price_change_percentage_30d\",\"price_change_percentage_30d\",\"price_change_percentage_30d\",\"price_change_percentage_30d\",\"price_change_percentage_30d\",\"price_change_percentage_30d\",\"price_change_percentage_30d\",\"price_change_percentage_30d\",\"price_change_percentage_30d\",\"price_change_percentage_30d\",\"price_change_percentage_30d\",\"price_change_percentage_30d\",\"price_change_percentage_30d\",\"price_change_percentage_30d\",\"price_change_percentage_30d\",\"price_change_percentage_30d\",\"price_change_percentage_30d\",\"price_change_percentage_30d\",\"price_change_percentage_30d\",\"price_change_percentage_30d\",\"price_change_percentage_30d\",\"price_change_percentage_30d\",\"price_change_percentage_30d\",\"price_change_percentage_30d\",\"price_change_percentage_30d\",\"price_change_percentage_30d\",\"price_change_percentage_30d\",\"price_change_percentage_30d\",\"price_change_percentage_30d\",\"price_change_percentage_30d\",\"price_change_percentage_30d\",\"price_change_percentage_30d\",\"price_change_percentage_30d\"],\"coin_id\":[\"bitcoin\",\"ethereum\",\"tether\",\"ripple\",\"bitcoin-cash\",\"binancecoin\",\"chainlink\",\"cardano\",\"litecoin\",\"bitcoin-cash-sv\",\"crypto-com-chain\",\"usd-coin\",\"eos\",\"monero\",\"tron\",\"tezos\",\"okb\",\"stellar\",\"cosmos\",\"cdai\",\"neo\",\"wrapped-bitcoin\",\"leo-token\",\"huobi-token\",\"nem\",\"binance-usd\",\"iota\",\"vechain\",\"zcash\",\"theta-token\",\"dash\",\"ethereum-classic\",\"ethlend\",\"maker\",\"havven\",\"omisego\",\"celsius-degree-token\",\"ontology\",\"ftx-token\",\"true-usd\",\"digibyte\"],\"value\":{\"__ndarray__\":\"VMa/z7iwHkAl6ZrJN9vAP/28qUiFsaW/L26jAbwFzj8dcjPcgH8vQPMf0m9fB64/5bhTOlhvJsBnfjUHCDYkQGWNeohGd/M/sCDNWDQdB0Cmft5UpHIxwJgvL8A+OsW/t0WZDTKJEsDeVKTC2HpDQEzD8BExNSnAjWK5pdVALMDjjcwjf+AkwIrIsIo3QiDAjliLTwFQEkAWpBmLpnMBwE3WqIdo9DXAVG8NbJWAHUAnMQisHJoIQGA8g4b+CQrACcTr+gU7DcCPpQ9dUN+SP80Bgjl6nBDA9S1zuixWLMBC7Eyh83odQEku/yH9bj9AtTf4wmQqH8Am/FI/byoHQNjYJaq3/j3A9GxWfa62MECdRloqb9c0wF4R/G8lOyLArK3YX3aZYUC1/SsrTVpBwP/PYb68ICXAFR3J5T+knz+ndLD+z4EqQA==\",\"dtype\":\"float64\",\"order\":\"little\",\"shape\":[41]}},\"selected\":{\"id\":\"1115\"},\"selection_policy\":{\"id\":\"1135\"}},\"id\":\"1114\",\"type\":\"ColumnDataSource\"},{\"attributes\":{},\"id\":\"1028\",\"type\":\"SaveTool\"},{\"attributes\":{\"label\":{\"value\":\"price_change_percentage_30d\"},\"renderers\":[{\"id\":\"1120\"}]},\"id\":\"1138\",\"type\":\"LegendItem\"},{\"attributes\":{\"overlay\":{\"id\":\"1033\"}},\"id\":\"1031\",\"type\":\"BoxZoomTool\"},{\"attributes\":{},\"id\":\"1163\",\"type\":\"UnionRenderers\"},{\"attributes\":{},\"id\":\"1032\",\"type\":\"ResetTool\"},{\"attributes\":{\"line_color\":\"#8b8b8b\",\"line_width\":2,\"x\":{\"field\":\"coin_id\"},\"y\":{\"field\":\"value\"}},\"id\":\"1167\",\"type\":\"Line\"},{\"attributes\":{\"coordinates\":null,\"data_source\":{\"id\":\"1114\"},\"glyph\":{\"id\":\"1117\"},\"group\":null,\"hover_glyph\":null,\"muted_glyph\":{\"id\":\"1119\"},\"nonselection_glyph\":{\"id\":\"1118\"},\"selection_glyph\":{\"id\":\"1139\"},\"view\":{\"id\":\"1121\"}},\"id\":\"1120\",\"type\":\"GlyphRenderer\"},{\"attributes\":{\"bottom_units\":\"screen\",\"coordinates\":null,\"fill_alpha\":0.5,\"fill_color\":\"lightgrey\",\"group\":null,\"left_units\":\"screen\",\"level\":\"overlay\",\"line_alpha\":1.0,\"line_color\":\"black\",\"line_dash\":[4,4],\"line_width\":2,\"right_units\":\"screen\",\"syncable\":false,\"top_units\":\"screen\"},\"id\":\"1033\",\"type\":\"BoxAnnotation\"},{\"attributes\":{\"line_alpha\":0.2,\"line_color\":\"#6d904f\",\"line_width\":2,\"x\":{\"field\":\"coin_id\"},\"y\":{\"field\":\"value\"}},\"id\":\"1119\",\"type\":\"Line\"},{\"attributes\":{},\"id\":\"1115\",\"type\":\"Selection\"},{\"attributes\":{\"active_drag\":{\"id\":\"1029\"},\"active_scroll\":{\"id\":\"1030\"},\"tools\":[{\"id\":\"1005\"},{\"id\":\"1028\"},{\"id\":\"1029\"},{\"id\":\"1030\"},{\"id\":\"1031\"},{\"id\":\"1032\"}]},\"id\":\"1034\",\"type\":\"Toolbar\"},{\"attributes\":{\"line_color\":\"#17becf\",\"line_width\":2,\"x\":{\"field\":\"coin_id\"},\"y\":{\"field\":\"value\"}},\"id\":\"1171\",\"type\":\"Line\"},{\"attributes\":{\"data\":{\"Variable\":[\"price_change_percentage_200d\",\"price_change_percentage_200d\",\"price_change_percentage_200d\",\"price_change_percentage_200d\",\"price_change_percentage_200d\",\"price_change_percentage_200d\",\"price_change_percentage_200d\",\"price_change_percentage_200d\",\"price_change_percentage_200d\",\"price_change_percentage_200d\",\"price_change_percentage_200d\",\"price_change_percentage_200d\",\"price_change_percentage_200d\",\"price_change_percentage_200d\",\"price_change_percentage_200d\",\"price_change_percentage_200d\",\"price_change_percentage_200d\",\"price_change_percentage_200d\",\"price_change_percentage_200d\",\"price_change_percentage_200d\",\"price_change_percentage_200d\",\"price_change_percentage_200d\",\"price_change_percentage_200d\",\"price_change_percentage_200d\",\"price_change_percentage_200d\",\"price_change_percentage_200d\",\"price_change_percentage_200d\",\"price_change_percentage_200d\",\"price_change_percentage_200d\",\"price_change_percentage_200d\",\"price_change_percentage_200d\",\"price_change_percentage_200d\",\"price_change_percentage_200d\",\"price_change_percentage_200d\",\"price_change_percentage_200d\",\"price_change_percentage_200d\",\"price_change_percentage_200d\",\"price_change_percentage_200d\",\"price_change_percentage_200d\",\"price_change_percentage_200d\",\"price_change_percentage_200d\"],\"coin_id\":[\"bitcoin\",\"ethereum\",\"tether\",\"ripple\",\"bitcoin-cash\",\"binancecoin\",\"chainlink\",\"cardano\",\"litecoin\",\"bitcoin-cash-sv\",\"crypto-com-chain\",\"usd-coin\",\"eos\",\"monero\",\"tron\",\"tezos\",\"okb\",\"stellar\",\"cosmos\",\"cdai\",\"neo\",\"wrapped-bitcoin\",\"leo-token\",\"huobi-token\",\"nem\",\"binance-usd\",\"iota\",\"vechain\",\"zcash\",\"theta-token\",\"dash\",\"ethereum-classic\",\"ethlend\",\"maker\",\"havven\",\"omisego\",\"celsius-degree-token\",\"ontology\",\"ftx-token\",\"true-usd\",\"digibyte\"],\"value\":{\"__ndarray__\":\"xY8xdy3hVED0piIVxlhnQBe86CtIM3a/9zsUBfrEQ0DTn/1IEak1QPTDCOHRc2NAl3MprqozeUAexM4UOohwQIB9dOrKfztAFhiyutWzHUCN7iB2plZsQIQqNXugFcS/ZHWr56QPMkALe9rhrzBlQH+8V61MnGBA5nlwd9a2RUARHm0csfpDQC+Lic3HJ1VAkj8YeO4/Z0AOvjCZKhjZv2vUQzS61GNAtRX7y+75VEC5GW7A52cwQAPso1NXHkVAKa4q+64Fa0A7NgLxun65P+TaUDHOwVdAyM1wAz7bcEAFwHgGDaNeQH3Qs1k1lYtAOUVHcvnvGEANGvonuMgkQCYZOQvbZ6FAGD4ipkSiVED5MeauZXeDQHi0ccQaSoJAC170FcTYmEB1PGagMmJLQC2yne+nvkxAndfYJaq3tr9R9wFIbSl+QA==\",\"dtype\":\"float64\",\"order\":\"little\",\"shape\":[41]}},\"selected\":{\"id\":\"1169\"},\"selection_policy\":{\"id\":\"1193\"}},\"id\":\"1168\",\"type\":\"ColumnDataSource\"},{\"attributes\":{},\"id\":\"1042\",\"type\":\"CategoricalTickFormatter\"},{\"attributes\":{},\"id\":\"1048\",\"type\":\"Selection\"},{\"attributes\":{},\"id\":\"1169\",\"type\":\"Selection\"},{\"attributes\":{\"source\":{\"id\":\"1114\"}},\"id\":\"1121\",\"type\":\"CDSView\"},{\"attributes\":{\"line_color\":\"#6d904f\",\"line_width\":2,\"x\":{\"field\":\"coin_id\"},\"y\":{\"field\":\"value\"}},\"id\":\"1117\",\"type\":\"Line\"},{\"attributes\":{},\"id\":\"1043\",\"type\":\"AllLabels\"}],\"root_ids\":[\"1002\"]},\"title\":\"Bokeh Application\",\"version\":\"2.4.3\"}};\n",
       "    var render_items = [{\"docid\":\"04e33388-b138-4f52-b303-04f48103f3b1\",\"root_ids\":[\"1002\"],\"roots\":{\"1002\":\"0f875efc-4afd-4d22-bc5b-d120398034a8\"}}];\n",
       "    root.Bokeh.embed.embed_items_notebook(docs_json, render_items);\n",
       "    for (const render_item of render_items) {\n",
       "      for (const root_id of render_item.root_ids) {\n",
       "\tconst id_el = document.getElementById(root_id)\n",
       "\tif (id_el.children.length && (id_el.children[0].className === 'bk-root')) {\n",
       "\t  const root_el = id_el.children[0]\n",
       "\t  root_el.id = root_el.id + '-rendered'\n",
       "\t}\n",
       "      }\n",
       "    }\n",
       "  }\n",
       "  if (root.Bokeh !== undefined && root.Bokeh.Panel !== undefined) {\n",
       "    embed_document(root);\n",
       "  } else {\n",
       "    var attempts = 0;\n",
       "    var timer = setInterval(function(root) {\n",
       "      if (root.Bokeh !== undefined && root.Bokeh.Panel !== undefined) {\n",
       "        clearInterval(timer);\n",
       "        embed_document(root);\n",
       "      } else if (document.readyState == \"complete\") {\n",
       "        attempts++;\n",
       "        if (attempts > 200) {\n",
       "          clearInterval(timer);\n",
       "          console.log(\"Bokeh: ERROR: Unable to run BokehJS code because BokehJS library is missing\");\n",
       "        }\n",
       "      }\n",
       "    }, 25, root)\n",
       "  }\n",
       "})(window);</script>"
      ],
      "text/plain": [
       ":NdOverlay   [Variable]\n",
       "   :Curve   [coin_id]   (value)"
      ]
     },
     "execution_count": 6,
     "metadata": {
      "application/vnd.holoviews_exec.v0+json": {
       "id": "1002"
      }
     },
     "output_type": "execute_result"
    }
   ],
   "source": [
    "# Plot your data to see what's in your DataFrame\n",
    "df_market_data.hvplot.line(\n",
    "    width=800,\n",
    "    height=400,\n",
    "    rot=90\n",
    ")"
   ]
  },
  {
   "attachments": {},
   "cell_type": "markdown",
   "metadata": {},
   "source": [
    "---"
   ]
  },
  {
   "attachments": {},
   "cell_type": "markdown",
   "metadata": {},
   "source": [
    "### Prepare the Data"
   ]
  },
  {
   "cell_type": "code",
   "execution_count": 7,
   "metadata": {},
   "outputs": [
    {
     "data": {
      "text/plain": [
       "array([[ 5.08529366e-01,  4.93193071e-01,  7.72200433e-01,\n",
       "         2.35459633e-01, -6.74950963e-02, -3.55953481e-01,\n",
       "        -2.51636882e-01],\n",
       "       [ 1.85445894e-01,  9.34445040e-01,  5.58692121e-01,\n",
       "        -5.43409317e-02, -2.73482725e-01, -1.15759474e-01,\n",
       "        -1.99352110e-01],\n",
       "       [ 2.17739616e-02, -7.06336853e-01, -2.16804207e-02,\n",
       "        -6.10301536e-02,  8.00452481e-03, -5.50246924e-01,\n",
       "        -2.82060506e-01],\n",
       "       [-4.07643829e-02, -8.10928066e-01,  2.49457974e-01,\n",
       "        -5.03879651e-02, -3.73164019e-01, -4.58258816e-01,\n",
       "        -2.95546142e-01],\n",
       "       [ 1.19303608e+00,  2.00095907e+00,  1.76061001e+00,\n",
       "         5.45842065e-01, -2.91202870e-01, -4.99847761e-01,\n",
       "        -2.70316950e-01],\n",
       "       [ 8.91870708e-01,  1.32729453e+00,  8.00214184e-01,\n",
       "        -5.71478992e-02,  7.78653106e-01, -1.88231917e-01,\n",
       "        -2.25532605e-01],\n",
       "       [ 1.13972400e-02,  2.57225091e+00,  1.10164693e+00,\n",
       "        -4.90495415e-01, -9.31954023e-01,  3.87758986e-01,\n",
       "        -1.82843995e-02],\n",
       "       [ 1.02529802e-01,  1.50800146e+00,  6.48885061e-01,\n",
       "         3.28959245e-01, -4.86348899e-01,  6.50796233e-02,\n",
       "        -1.55428416e-01],\n",
       "       [ 7.74971820e-02,  3.34296562e-01,  8.58519864e-01,\n",
       "        -1.26464730e-02, -3.66476990e-01, -4.86265591e-01,\n",
       "        -2.92351214e-01],\n",
       "       [ 4.48951505e-01, -1.90684278e-01, -2.48043224e-01,\n",
       "         5.16340055e-02, -5.29666139e-01, -5.32960809e-01,\n",
       "        -2.06028947e-01],\n",
       "       [ 3.31279783e-01, -1.61484369e+00, -1.05452114e+00,\n",
       "        -7.29931204e-01, -3.50155382e-01, -2.28656819e-02,\n",
       "        -3.45702165e-02],\n",
       "       [ 3.43522614e-02, -7.33025788e-01, -2.31403893e-02,\n",
       "        -6.57751738e-02,  2.92464871e-03, -5.50599321e-01,\n",
       "        -2.82232177e-01],\n",
       "       [ 1.55709561e-01, -9.22490861e-01,  1.15023636e-01,\n",
       "        -2.37488260e-01, -6.42836699e-01, -5.08220490e-01,\n",
       "        -2.96329571e-01],\n",
       "       [ 2.62722790e-01,  1.79260243e+00,  2.20266503e+00,\n",
       "         1.43784246e+00,  8.93864936e-01, -1.55892797e-01,\n",
       "        -1.67644252e-01],\n",
       "       [ 1.30049529e-01, -4.10175729e-02,  1.47155030e-01,\n",
       "        -5.43776301e-01,  1.20115762e-01, -2.41118188e-01,\n",
       "        -2.34014125e-01],\n",
       "       [-1.51583411e-01,  7.08195735e-01,  2.58012326e-01,\n",
       "        -6.02296039e-01, -9.56048701e-01, -4.49210952e-01,\n",
       "        -1.68478608e-01],\n",
       "       [-9.23202741e-01, -1.43735894e+00, -6.29962775e-01,\n",
       "        -4.60558015e-01, -5.85038908e-02, -4.57282624e-01,\n",
       "        -1.66900457e-01],\n",
       "       [-2.77542986e-01, -3.85208910e-01, -1.53243165e-01,\n",
       "        -3.71816490e-01, -6.56403341e-01, -3.53387283e-01,\n",
       "        -2.70874088e-01],\n",
       "       [-2.55978040e-01,  1.84027440e+00,  6.43564878e-01,\n",
       "         1.16538212e-01, -1.51912822e-01, -1.17565353e-01,\n",
       "        -2.15190977e-01],\n",
       "       [ 1.80851132e-01, -7.04931420e-01, -1.81614685e-03,\n",
       "        -1.43236947e-01,  1.60603798e-02, -5.51146420e-01,\n",
       "        -2.82309887e-01],\n",
       "       [ 2.86545668e-01, -3.26301416e-01, -1.21267030e+00,\n",
       "        -9.03133859e-01,  2.90969825e-01, -1.81187334e-01,\n",
       "        -1.75550428e-01],\n",
       "       [ 5.15453442e-01,  4.61843180e-01,  7.69975432e-01,\n",
       "         2.24045375e-01, -7.46741671e-02, -3.55053705e-01,\n",
       "        -2.51623389e-01],\n",
       "       [ 5.17582538e-02, -9.28380975e-01, -8.71917511e-01,\n",
       "         5.87817038e-02, -1.59249637e-01, -5.12070892e-01,\n",
       "        -2.65036119e-01],\n",
       "       [-5.20315039e-02, -4.57229014e-01,  3.25221197e-02,\n",
       "        -1.84488686e-01, -7.08090069e-02, -4.51982345e-01,\n",
       "        -2.62140444e-01],\n",
       "       [-2.17983910e-01, -8.49381348e-01,  2.97632101e-01,\n",
       "        -1.99820170e-01,  1.77312724e+00, -4.73610984e-02,\n",
       "        -1.19226165e-01],\n",
       "       [ 6.13385000e-02, -7.06668758e-01, -1.53208558e-02,\n",
       "        -5.86935760e-02,  4.01731582e-03, -5.50002649e-01,\n",
       "        -2.81963356e-01],\n",
       "       [ 2.59097324e-01,  2.49508456e-01, -4.78952718e-01,\n",
       "        -2.18996632e-01, -7.35815146e-01, -3.29179315e-01,\n",
       "        -2.85309811e-01],\n",
       "       [ 5.85088683e-01, -9.94231467e-01, -2.21710811e+00,\n",
       "        -6.03897825e-01, -9.30422964e-01,  7.71490396e-02,\n",
       "        -1.17481544e-01],\n",
       "       [-1.27467490e-01,  9.29118687e-01,  6.77532109e-01,\n",
       "         2.23834007e-01, -4.37067731e-01, -2.65163438e-01,\n",
       "        -2.14828585e-01],\n",
       "       [-1.61218775e+00, -1.68202656e+00, -8.16920931e-01,\n",
       "         1.14860683e+00,  1.71264110e+00,  1.50299207e+00,\n",
       "         2.86976907e-01],\n",
       "       [-2.96940167e-01,  9.47631360e-02,  4.00395074e-02,\n",
       "        -3.58829654e-01, -5.58527342e-01, -5.35731946e-01,\n",
       "        -2.84071416e-01],\n",
       "       [-7.13122190e-02, -2.29483757e-01, -1.75543942e-01,\n",
       "         5.18822668e-02, -5.51759945e-01, -5.26060334e-01,\n",
       "        -2.73061627e-01],\n",
       "       [-4.98104189e+00, -4.51782898e-02, -1.20695612e+00,\n",
       "        -1.21212587e+00,  4.77355426e-02,  4.63238025e+00,\n",
       "         6.08862545e+00],\n",
       "       [-1.25168231e-01,  5.80730108e-01, -2.02356361e-01,\n",
       "         5.82911022e-01, -3.95923001e-01, -3.58240047e-01,\n",
       "        -2.73433342e-01],\n",
       "       [-1.42857388e+00, -2.55101681e-02, -1.62885923e+00,\n",
       "        -8.60353737e-01, -8.40713540e-01,  8.98815486e-01,\n",
       "         2.68647377e-01],\n",
       "       [ 1.91981234e+00,  3.70447157e-01, -1.61976101e+00,\n",
       "        -4.09716316e-01,  1.69648044e+00,  8.11206969e-01,\n",
       "        -2.18878129e-02],\n",
       "       [ 1.04553034e+00, -6.18328162e-01,  2.90705393e+00,\n",
       "         5.35145461e+00,  4.76991278e+00,  3.14887546e+00,\n",
       "         1.34848839e+00],\n",
       "       [-4.09044076e-01, -9.06962812e-01, -1.29898610e+00,\n",
       "        -1.39315260e+00, -6.96936973e-01, -4.22834707e-01,\n",
       "        -2.92343790e-01],\n",
       "       [ 4.14710578e-01,  4.14044166e-01, -4.73857773e-02,\n",
       "        -4.65379896e-01,  1.28184655e-01, -4.16502012e-01,\n",
       "        -1.45469278e-01],\n",
       "       [ 7.80381841e-02, -6.87745436e-01, -9.19092169e-03,\n",
       "        -5.82143470e-02,  7.38829646e-03, -5.50440743e-01,\n",
       "        -2.81746818e-01],\n",
       "       [ 1.21745256e+00, -6.07713570e-01, -9.07065528e-01,\n",
       "         4.49939006e-01, -6.62529501e-01,  5.72366557e-01,\n",
       "        -1.32481673e-01]])"
      ]
     },
     "execution_count": 7,
     "metadata": {},
     "output_type": "execute_result"
    }
   ],
   "source": [
    "# Use the `StandardScaler()` module from scikit-learn to normalize the data from the CSV file\n",
    "df_market_data_scaled = StandardScaler().fit_transform(df_market_data)\n",
    "df_market_data_scaled"
   ]
  },
  {
   "cell_type": "code",
   "execution_count": 8,
   "metadata": {},
   "outputs": [
    {
     "data": {
      "text/html": [
       "<div>\n",
       "<style scoped>\n",
       "    .dataframe tbody tr th:only-of-type {\n",
       "        vertical-align: middle;\n",
       "    }\n",
       "\n",
       "    .dataframe tbody tr th {\n",
       "        vertical-align: top;\n",
       "    }\n",
       "\n",
       "    .dataframe thead th {\n",
       "        text-align: right;\n",
       "    }\n",
       "</style>\n",
       "<table border=\"1\" class=\"dataframe\">\n",
       "  <thead>\n",
       "    <tr style=\"text-align: right;\">\n",
       "      <th></th>\n",
       "      <th>price_change_percentage_24h</th>\n",
       "      <th>price_change_percentage_7d</th>\n",
       "      <th>price_change_percentage_14d</th>\n",
       "      <th>price_change_percentage_30d</th>\n",
       "      <th>price_change_percentage_60d</th>\n",
       "      <th>price_change_percentage_200d</th>\n",
       "      <th>price_change_percentage_1y</th>\n",
       "    </tr>\n",
       "    <tr>\n",
       "      <th>crypto_names</th>\n",
       "      <th></th>\n",
       "      <th></th>\n",
       "      <th></th>\n",
       "      <th></th>\n",
       "      <th></th>\n",
       "      <th></th>\n",
       "      <th></th>\n",
       "    </tr>\n",
       "  </thead>\n",
       "  <tbody>\n",
       "    <tr>\n",
       "      <th>bitcoin</th>\n",
       "      <td>0.508529</td>\n",
       "      <td>0.493193</td>\n",
       "      <td>0.772200</td>\n",
       "      <td>0.235460</td>\n",
       "      <td>-0.067495</td>\n",
       "      <td>-0.355953</td>\n",
       "      <td>-0.251637</td>\n",
       "    </tr>\n",
       "    <tr>\n",
       "      <th>ethereum</th>\n",
       "      <td>0.185446</td>\n",
       "      <td>0.934445</td>\n",
       "      <td>0.558692</td>\n",
       "      <td>-0.054341</td>\n",
       "      <td>-0.273483</td>\n",
       "      <td>-0.115759</td>\n",
       "      <td>-0.199352</td>\n",
       "    </tr>\n",
       "    <tr>\n",
       "      <th>tether</th>\n",
       "      <td>0.021774</td>\n",
       "      <td>-0.706337</td>\n",
       "      <td>-0.021680</td>\n",
       "      <td>-0.061030</td>\n",
       "      <td>0.008005</td>\n",
       "      <td>-0.550247</td>\n",
       "      <td>-0.282061</td>\n",
       "    </tr>\n",
       "    <tr>\n",
       "      <th>ripple</th>\n",
       "      <td>-0.040764</td>\n",
       "      <td>-0.810928</td>\n",
       "      <td>0.249458</td>\n",
       "      <td>-0.050388</td>\n",
       "      <td>-0.373164</td>\n",
       "      <td>-0.458259</td>\n",
       "      <td>-0.295546</td>\n",
       "    </tr>\n",
       "    <tr>\n",
       "      <th>bitcoin-cash</th>\n",
       "      <td>1.193036</td>\n",
       "      <td>2.000959</td>\n",
       "      <td>1.760610</td>\n",
       "      <td>0.545842</td>\n",
       "      <td>-0.291203</td>\n",
       "      <td>-0.499848</td>\n",
       "      <td>-0.270317</td>\n",
       "    </tr>\n",
       "  </tbody>\n",
       "</table>\n",
       "</div>"
      ],
      "text/plain": [
       "              price_change_percentage_24h  price_change_percentage_7d  \\\n",
       "crypto_names                                                            \n",
       "bitcoin                          0.508529                    0.493193   \n",
       "ethereum                         0.185446                    0.934445   \n",
       "tether                           0.021774                   -0.706337   \n",
       "ripple                          -0.040764                   -0.810928   \n",
       "bitcoin-cash                     1.193036                    2.000959   \n",
       "\n",
       "              price_change_percentage_14d  price_change_percentage_30d  \\\n",
       "crypto_names                                                             \n",
       "bitcoin                          0.772200                     0.235460   \n",
       "ethereum                         0.558692                    -0.054341   \n",
       "tether                          -0.021680                    -0.061030   \n",
       "ripple                           0.249458                    -0.050388   \n",
       "bitcoin-cash                     1.760610                     0.545842   \n",
       "\n",
       "              price_change_percentage_60d  price_change_percentage_200d  \\\n",
       "crypto_names                                                              \n",
       "bitcoin                         -0.067495                     -0.355953   \n",
       "ethereum                        -0.273483                     -0.115759   \n",
       "tether                           0.008005                     -0.550247   \n",
       "ripple                          -0.373164                     -0.458259   \n",
       "bitcoin-cash                    -0.291203                     -0.499848   \n",
       "\n",
       "              price_change_percentage_1y  \n",
       "crypto_names                              \n",
       "bitcoin                        -0.251637  \n",
       "ethereum                       -0.199352  \n",
       "tether                         -0.282061  \n",
       "ripple                         -0.295546  \n",
       "bitcoin-cash                   -0.270317  "
      ]
     },
     "execution_count": 8,
     "metadata": {},
     "output_type": "execute_result"
    }
   ],
   "source": [
    "# Create a DataFrame with the scaled data\n",
    "df_market_data_scaled = pd.DataFrame(df_market_data_scaled, columns=['price_change_percentage_24h', 'price_change_percentage_7d',\n",
    "       'price_change_percentage_14d', 'price_change_percentage_30d',\n",
    "       'price_change_percentage_60d', 'price_change_percentage_200d',\n",
    "       'price_change_percentage_1y'])\n",
    "\n",
    "# Copy the crypto names from the original data\n",
    "\n",
    "df_market_data_scaled[\"crypto_names\"] = df_market_data.index\n",
    "\n",
    "# Set the coinid column as index\n",
    "\n",
    "df_market_data_scaled = df_market_data_scaled.set_index(\"crypto_names\")\n",
    "\n",
    "\n",
    "# Display sample data\n",
    "df_market_data_scaled.head()"
   ]
  },
  {
   "attachments": {},
   "cell_type": "markdown",
   "metadata": {},
   "source": [
    "---"
   ]
  },
  {
   "attachments": {},
   "cell_type": "markdown",
   "metadata": {},
   "source": [
    "### Find the Best Value for k Using the Original Data."
   ]
  },
  {
   "cell_type": "code",
   "execution_count": 9,
   "metadata": {},
   "outputs": [],
   "source": [
    "# Create a list with the number of k-values from 1 to 11\n",
    "k = list(range(1,12))"
   ]
  },
  {
   "cell_type": "code",
   "execution_count": 10,
   "metadata": {},
   "outputs": [
    {
     "name": "stderr",
     "output_type": "stream",
     "text": [
      "c:\\Users\\bhart\\anaconda3\\envs\\dev\\lib\\site-packages\\sklearn\\cluster\\_kmeans.py:870: FutureWarning: The default value of `n_init` will change from 10 to 'auto' in 1.4. Set the value of `n_init` explicitly to suppress the warning\n",
      "  warnings.warn(\n",
      "c:\\Users\\bhart\\anaconda3\\envs\\dev\\lib\\site-packages\\sklearn\\cluster\\_kmeans.py:1382: UserWarning: KMeans is known to have a memory leak on Windows with MKL, when there are less chunks than available threads. You can avoid it by setting the environment variable OMP_NUM_THREADS=1.\n",
      "  warnings.warn(\n"
     ]
    },
    {
     "name": "stderr",
     "output_type": "stream",
     "text": [
      "c:\\Users\\bhart\\anaconda3\\envs\\dev\\lib\\site-packages\\sklearn\\cluster\\_kmeans.py:870: FutureWarning: The default value of `n_init` will change from 10 to 'auto' in 1.4. Set the value of `n_init` explicitly to suppress the warning\n",
      "  warnings.warn(\n",
      "c:\\Users\\bhart\\anaconda3\\envs\\dev\\lib\\site-packages\\sklearn\\cluster\\_kmeans.py:1382: UserWarning: KMeans is known to have a memory leak on Windows with MKL, when there are less chunks than available threads. You can avoid it by setting the environment variable OMP_NUM_THREADS=1.\n",
      "  warnings.warn(\n",
      "c:\\Users\\bhart\\anaconda3\\envs\\dev\\lib\\site-packages\\sklearn\\cluster\\_kmeans.py:870: FutureWarning: The default value of `n_init` will change from 10 to 'auto' in 1.4. Set the value of `n_init` explicitly to suppress the warning\n",
      "  warnings.warn(\n",
      "c:\\Users\\bhart\\anaconda3\\envs\\dev\\lib\\site-packages\\sklearn\\cluster\\_kmeans.py:1382: UserWarning: KMeans is known to have a memory leak on Windows with MKL, when there are less chunks than available threads. You can avoid it by setting the environment variable OMP_NUM_THREADS=1.\n",
      "  warnings.warn(\n",
      "c:\\Users\\bhart\\anaconda3\\envs\\dev\\lib\\site-packages\\sklearn\\cluster\\_kmeans.py:870: FutureWarning: The default value of `n_init` will change from 10 to 'auto' in 1.4. Set the value of `n_init` explicitly to suppress the warning\n",
      "  warnings.warn(\n",
      "c:\\Users\\bhart\\anaconda3\\envs\\dev\\lib\\site-packages\\sklearn\\cluster\\_kmeans.py:1382: UserWarning: KMeans is known to have a memory leak on Windows with MKL, when there are less chunks than available threads. You can avoid it by setting the environment variable OMP_NUM_THREADS=1.\n",
      "  warnings.warn(\n",
      "c:\\Users\\bhart\\anaconda3\\envs\\dev\\lib\\site-packages\\sklearn\\cluster\\_kmeans.py:870: FutureWarning: The default value of `n_init` will change from 10 to 'auto' in 1.4. Set the value of `n_init` explicitly to suppress the warning\n",
      "  warnings.warn(\n",
      "c:\\Users\\bhart\\anaconda3\\envs\\dev\\lib\\site-packages\\sklearn\\cluster\\_kmeans.py:1382: UserWarning: KMeans is known to have a memory leak on Windows with MKL, when there are less chunks than available threads. You can avoid it by setting the environment variable OMP_NUM_THREADS=1.\n",
      "  warnings.warn(\n",
      "c:\\Users\\bhart\\anaconda3\\envs\\dev\\lib\\site-packages\\sklearn\\cluster\\_kmeans.py:870: FutureWarning: The default value of `n_init` will change from 10 to 'auto' in 1.4. Set the value of `n_init` explicitly to suppress the warning\n",
      "  warnings.warn(\n",
      "c:\\Users\\bhart\\anaconda3\\envs\\dev\\lib\\site-packages\\sklearn\\cluster\\_kmeans.py:1382: UserWarning: KMeans is known to have a memory leak on Windows with MKL, when there are less chunks than available threads. You can avoid it by setting the environment variable OMP_NUM_THREADS=1.\n",
      "  warnings.warn(\n",
      "c:\\Users\\bhart\\anaconda3\\envs\\dev\\lib\\site-packages\\sklearn\\cluster\\_kmeans.py:870: FutureWarning: The default value of `n_init` will change from 10 to 'auto' in 1.4. Set the value of `n_init` explicitly to suppress the warning\n",
      "  warnings.warn(\n",
      "c:\\Users\\bhart\\anaconda3\\envs\\dev\\lib\\site-packages\\sklearn\\cluster\\_kmeans.py:1382: UserWarning: KMeans is known to have a memory leak on Windows with MKL, when there are less chunks than available threads. You can avoid it by setting the environment variable OMP_NUM_THREADS=1.\n",
      "  warnings.warn(\n",
      "c:\\Users\\bhart\\anaconda3\\envs\\dev\\lib\\site-packages\\sklearn\\cluster\\_kmeans.py:870: FutureWarning: The default value of `n_init` will change from 10 to 'auto' in 1.4. Set the value of `n_init` explicitly to suppress the warning\n",
      "  warnings.warn(\n",
      "c:\\Users\\bhart\\anaconda3\\envs\\dev\\lib\\site-packages\\sklearn\\cluster\\_kmeans.py:1382: UserWarning: KMeans is known to have a memory leak on Windows with MKL, when there are less chunks than available threads. You can avoid it by setting the environment variable OMP_NUM_THREADS=1.\n",
      "  warnings.warn(\n",
      "c:\\Users\\bhart\\anaconda3\\envs\\dev\\lib\\site-packages\\sklearn\\cluster\\_kmeans.py:870: FutureWarning: The default value of `n_init` will change from 10 to 'auto' in 1.4. Set the value of `n_init` explicitly to suppress the warning\n",
      "  warnings.warn(\n",
      "c:\\Users\\bhart\\anaconda3\\envs\\dev\\lib\\site-packages\\sklearn\\cluster\\_kmeans.py:1382: UserWarning: KMeans is known to have a memory leak on Windows with MKL, when there are less chunks than available threads. You can avoid it by setting the environment variable OMP_NUM_THREADS=1.\n",
      "  warnings.warn(\n",
      "c:\\Users\\bhart\\anaconda3\\envs\\dev\\lib\\site-packages\\sklearn\\cluster\\_kmeans.py:870: FutureWarning: The default value of `n_init` will change from 10 to 'auto' in 1.4. Set the value of `n_init` explicitly to suppress the warning\n",
      "  warnings.warn(\n",
      "c:\\Users\\bhart\\anaconda3\\envs\\dev\\lib\\site-packages\\sklearn\\cluster\\_kmeans.py:1382: UserWarning: KMeans is known to have a memory leak on Windows with MKL, when there are less chunks than available threads. You can avoid it by setting the environment variable OMP_NUM_THREADS=1.\n",
      "  warnings.warn(\n",
      "c:\\Users\\bhart\\anaconda3\\envs\\dev\\lib\\site-packages\\sklearn\\cluster\\_kmeans.py:870: FutureWarning: The default value of `n_init` will change from 10 to 'auto' in 1.4. Set the value of `n_init` explicitly to suppress the warning\n",
      "  warnings.warn(\n",
      "c:\\Users\\bhart\\anaconda3\\envs\\dev\\lib\\site-packages\\sklearn\\cluster\\_kmeans.py:1382: UserWarning: KMeans is known to have a memory leak on Windows with MKL, when there are less chunks than available threads. You can avoid it by setting the environment variable OMP_NUM_THREADS=1.\n",
      "  warnings.warn(\n"
     ]
    }
   ],
   "source": [
    "# Create an empty list to store the inertia values\n",
    "\n",
    "inertia = []\n",
    "# Create a for loop to compute the inertia with each possible value of k\n",
    "for i in k:\n",
    "    \n",
    "# Inside the loop:\n",
    "# 1. Create a KMeans model using the loop counter for the n_clusters\n",
    "    model = KMeans(n_clusters = i, random_state = 1)\n",
    "# 2. Fit the model to the data using `df_market_data_scaled`\n",
    "    model.fit(df_market_data_scaled)\n",
    "# 3. Append the model.inertia_ to the inertia list\n",
    "    inertia.append(model.inertia_)\n"
   ]
  },
  {
   "cell_type": "code",
   "execution_count": 11,
   "metadata": {},
   "outputs": [
    {
     "data": {
      "text/html": [
       "<div>\n",
       "<style scoped>\n",
       "    .dataframe tbody tr th:only-of-type {\n",
       "        vertical-align: middle;\n",
       "    }\n",
       "\n",
       "    .dataframe tbody tr th {\n",
       "        vertical-align: top;\n",
       "    }\n",
       "\n",
       "    .dataframe thead th {\n",
       "        text-align: right;\n",
       "    }\n",
       "</style>\n",
       "<table border=\"1\" class=\"dataframe\">\n",
       "  <thead>\n",
       "    <tr style=\"text-align: right;\">\n",
       "      <th></th>\n",
       "      <th>k</th>\n",
       "      <th>inertia</th>\n",
       "    </tr>\n",
       "  </thead>\n",
       "  <tbody>\n",
       "    <tr>\n",
       "      <th>0</th>\n",
       "      <td>1</td>\n",
       "      <td>287.000000</td>\n",
       "    </tr>\n",
       "    <tr>\n",
       "      <th>1</th>\n",
       "      <td>2</td>\n",
       "      <td>195.820218</td>\n",
       "    </tr>\n",
       "    <tr>\n",
       "      <th>2</th>\n",
       "      <td>3</td>\n",
       "      <td>123.190482</td>\n",
       "    </tr>\n",
       "    <tr>\n",
       "      <th>3</th>\n",
       "      <td>4</td>\n",
       "      <td>79.022435</td>\n",
       "    </tr>\n",
       "    <tr>\n",
       "      <th>4</th>\n",
       "      <td>5</td>\n",
       "      <td>65.405923</td>\n",
       "    </tr>\n",
       "  </tbody>\n",
       "</table>\n",
       "</div>"
      ],
      "text/plain": [
       "   k     inertia\n",
       "0  1  287.000000\n",
       "1  2  195.820218\n",
       "2  3  123.190482\n",
       "3  4   79.022435\n",
       "4  5   65.405923"
      ]
     },
     "execution_count": 11,
     "metadata": {},
     "output_type": "execute_result"
    }
   ],
   "source": [
    "# Create a dictionary with the data to plot the Elbow curve\n",
    "elbow_data = { \"k\": k, \"inertia\": inertia}\n",
    "\n",
    "# Create a DataFrame with the data to plot the Elbow curve\n",
    "elbow_df = pd.DataFrame(elbow_data)\n",
    "elbow_df.head()"
   ]
  },
  {
   "cell_type": "code",
   "execution_count": 12,
   "metadata": {},
   "outputs": [
    {
     "data": {},
     "metadata": {},
     "output_type": "display_data"
    },
    {
     "data": {
      "application/vnd.holoviews_exec.v0+json": "",
      "text/html": [
       "<div id='1367'>\n",
       "  <div class=\"bk-root\" id=\"701541db-2be8-4d22-9f12-acbb168d21b2\" data-root-id=\"1367\"></div>\n",
       "</div>\n",
       "<script type=\"application/javascript\">(function(root) {\n",
       "  function embed_document(root) {\n",
       "    var docs_json = {\"3b0fb0c0-e435-470b-8cb0-1458945a8f01\":{\"defs\":[{\"extends\":null,\"module\":null,\"name\":\"ReactiveHTML1\",\"overrides\":[],\"properties\":[]},{\"extends\":null,\"module\":null,\"name\":\"FlexBox1\",\"overrides\":[],\"properties\":[{\"default\":\"flex-start\",\"kind\":null,\"name\":\"align_content\"},{\"default\":\"flex-start\",\"kind\":null,\"name\":\"align_items\"},{\"default\":\"row\",\"kind\":null,\"name\":\"flex_direction\"},{\"default\":\"wrap\",\"kind\":null,\"name\":\"flex_wrap\"},{\"default\":\"flex-start\",\"kind\":null,\"name\":\"justify_content\"}]},{\"extends\":null,\"module\":null,\"name\":\"GridStack1\",\"overrides\":[],\"properties\":[{\"default\":\"warn\",\"kind\":null,\"name\":\"mode\"},{\"default\":null,\"kind\":null,\"name\":\"ncols\"},{\"default\":null,\"kind\":null,\"name\":\"nrows\"},{\"default\":true,\"kind\":null,\"name\":\"allow_resize\"},{\"default\":true,\"kind\":null,\"name\":\"allow_drag\"},{\"default\":[],\"kind\":null,\"name\":\"state\"}]},{\"extends\":null,\"module\":null,\"name\":\"click1\",\"overrides\":[],\"properties\":[{\"default\":\"\",\"kind\":null,\"name\":\"terminal_output\"},{\"default\":\"\",\"kind\":null,\"name\":\"debug_name\"},{\"default\":0,\"kind\":null,\"name\":\"clears\"}]},{\"extends\":null,\"module\":null,\"name\":\"NotificationAreaBase1\",\"overrides\":[],\"properties\":[{\"default\":\"bottom-right\",\"kind\":null,\"name\":\"position\"},{\"default\":0,\"kind\":null,\"name\":\"_clear\"}]},{\"extends\":null,\"module\":null,\"name\":\"NotificationArea1\",\"overrides\":[],\"properties\":[{\"default\":[],\"kind\":null,\"name\":\"notifications\"},{\"default\":\"bottom-right\",\"kind\":null,\"name\":\"position\"},{\"default\":0,\"kind\":null,\"name\":\"_clear\"},{\"default\":[{\"background\":\"#ffc107\",\"icon\":{\"className\":\"fas fa-exclamation-triangle\",\"color\":\"white\",\"tagName\":\"i\"},\"type\":\"warning\"},{\"background\":\"#007bff\",\"icon\":{\"className\":\"fas fa-info-circle\",\"color\":\"white\",\"tagName\":\"i\"},\"type\":\"info\"}],\"kind\":null,\"name\":\"types\"}]},{\"extends\":null,\"module\":null,\"name\":\"Notification\",\"overrides\":[],\"properties\":[{\"default\":null,\"kind\":null,\"name\":\"background\"},{\"default\":3000,\"kind\":null,\"name\":\"duration\"},{\"default\":null,\"kind\":null,\"name\":\"icon\"},{\"default\":\"\",\"kind\":null,\"name\":\"message\"},{\"default\":null,\"kind\":null,\"name\":\"notification_type\"},{\"default\":false,\"kind\":null,\"name\":\"_destroyed\"}]},{\"extends\":null,\"module\":null,\"name\":\"TemplateActions1\",\"overrides\":[],\"properties\":[{\"default\":0,\"kind\":null,\"name\":\"open_modal\"},{\"default\":0,\"kind\":null,\"name\":\"close_modal\"}]},{\"extends\":null,\"module\":null,\"name\":\"MaterialTemplateActions1\",\"overrides\":[],\"properties\":[{\"default\":0,\"kind\":null,\"name\":\"open_modal\"},{\"default\":0,\"kind\":null,\"name\":\"close_modal\"}]}],\"roots\":{\"references\":[{\"attributes\":{\"coordinates\":null,\"group\":null,\"text\":\"Elbow Curve\",\"text_color\":\"black\",\"text_font_size\":\"12pt\"},\"id\":\"1372\",\"type\":\"Title\"},{\"attributes\":{},\"id\":\"1417\",\"type\":\"BasicTickFormatter\"},{\"attributes\":{},\"id\":\"1378\",\"type\":\"LinearScale\"},{\"attributes\":{\"axis_label\":\"k\",\"coordinates\":null,\"formatter\":{\"id\":\"1412\"},\"group\":null,\"major_label_policy\":{\"id\":\"1413\"},\"ticker\":{\"id\":\"1410\"}},\"id\":\"1380\",\"type\":\"LinearAxis\"},{\"attributes\":{},\"id\":\"1389\",\"type\":\"PanTool\"},{\"attributes\":{},\"id\":\"1413\",\"type\":\"AllLabels\"},{\"attributes\":{\"axis_label\":\"inertia\",\"coordinates\":null,\"formatter\":{\"id\":\"1417\"},\"group\":null,\"major_label_policy\":{\"id\":\"1418\"},\"ticker\":{\"id\":\"1385\"}},\"id\":\"1384\",\"type\":\"LinearAxis\"},{\"attributes\":{\"axis\":{\"id\":\"1384\"},\"coordinates\":null,\"dimension\":1,\"grid_line_color\":null,\"group\":null,\"ticker\":null},\"id\":\"1387\",\"type\":\"Grid\"},{\"attributes\":{\"children\":[{\"id\":\"1371\"}],\"height\":300,\"margin\":[0,0,0,0],\"name\":\"Row01252\",\"sizing_mode\":\"fixed\",\"tags\":[\"embedded\"],\"width\":700},\"id\":\"1367\",\"type\":\"Row\"},{\"attributes\":{},\"id\":\"1385\",\"type\":\"BasicTicker\"},{\"attributes\":{},\"id\":\"1418\",\"type\":\"AllLabels\"},{\"attributes\":{},\"id\":\"1390\",\"type\":\"WheelZoomTool\"},{\"attributes\":{},\"id\":\"1429\",\"type\":\"UnionRenderers\"},{\"attributes\":{},\"id\":\"1376\",\"type\":\"LinearScale\"},{\"attributes\":{},\"id\":\"1388\",\"type\":\"SaveTool\"},{\"attributes\":{\"overlay\":{\"id\":\"1393\"}},\"id\":\"1391\",\"type\":\"BoxZoomTool\"},{\"attributes\":{},\"id\":\"1392\",\"type\":\"ResetTool\"},{\"attributes\":{\"end\":313.1751500621617,\"reset_end\":313.1751500621617,\"reset_start\":-0.926650683778945,\"start\":-0.926650683778945,\"tags\":[[[\"inertia\",\"inertia\",null]]]},\"id\":\"1369\",\"type\":\"Range1d\"},{\"attributes\":{\"bottom_units\":\"screen\",\"coordinates\":null,\"fill_alpha\":0.5,\"fill_color\":\"lightgrey\",\"group\":null,\"left_units\":\"screen\",\"level\":\"overlay\",\"line_alpha\":1.0,\"line_color\":\"black\",\"line_dash\":[4,4],\"line_width\":2,\"right_units\":\"screen\",\"syncable\":false,\"top_units\":\"screen\"},\"id\":\"1393\",\"type\":\"BoxAnnotation\"},{\"attributes\":{\"source\":{\"id\":\"1401\"}},\"id\":\"1408\",\"type\":\"CDSView\"},{\"attributes\":{\"line_alpha\":0.1,\"line_color\":\"#30a2da\",\"line_width\":2,\"x\":{\"field\":\"k\"},\"y\":{\"field\":\"inertia\"}},\"id\":\"1405\",\"type\":\"Line\"},{\"attributes\":{\"below\":[{\"id\":\"1380\"}],\"center\":[{\"id\":\"1383\"},{\"id\":\"1387\"}],\"height\":300,\"left\":[{\"id\":\"1384\"}],\"margin\":[5,5,5,5],\"min_border_bottom\":10,\"min_border_left\":10,\"min_border_right\":10,\"min_border_top\":10,\"renderers\":[{\"id\":\"1407\"}],\"sizing_mode\":\"fixed\",\"title\":{\"id\":\"1372\"},\"toolbar\":{\"id\":\"1394\"},\"width\":700,\"x_range\":{\"id\":\"1368\"},\"x_scale\":{\"id\":\"1376\"},\"y_range\":{\"id\":\"1369\"},\"y_scale\":{\"id\":\"1378\"}},\"id\":\"1371\",\"subtype\":\"Figure\",\"type\":\"Plot\"},{\"attributes\":{\"active_drag\":{\"id\":\"1389\"},\"active_scroll\":{\"id\":\"1390\"},\"tools\":[{\"id\":\"1370\"},{\"id\":\"1388\"},{\"id\":\"1389\"},{\"id\":\"1390\"},{\"id\":\"1391\"},{\"id\":\"1392\"}]},\"id\":\"1394\",\"type\":\"Toolbar\"},{\"attributes\":{\"data\":{\"inertia\":{\"__ndarray__\":\"AAAAAADwcUByhzI6P3poQOCRvNowzF5AGO6ulG/BU0C72mWm+llQQANT1dt+d0pAYKWsAtf9R0BIP/pR46RCQKMXKkrlh0BACvf32p3HPED4Or+nnT85QA==\",\"dtype\":\"float64\",\"order\":\"little\",\"shape\":[11]},\"k\":[1,2,3,4,5,6,7,8,9,10,11]},\"selected\":{\"id\":\"1402\"},\"selection_policy\":{\"id\":\"1429\"}},\"id\":\"1401\",\"type\":\"ColumnDataSource\"},{\"attributes\":{},\"id\":\"1402\",\"type\":\"Selection\"},{\"attributes\":{},\"id\":\"1412\",\"type\":\"BasicTickFormatter\"},{\"attributes\":{\"line_color\":\"#30a2da\",\"line_width\":2,\"x\":{\"field\":\"k\"},\"y\":{\"field\":\"inertia\"}},\"id\":\"1404\",\"type\":\"Line\"},{\"attributes\":{\"line_color\":\"#30a2da\",\"line_width\":2,\"x\":{\"field\":\"k\"},\"y\":{\"field\":\"inertia\"}},\"id\":\"1409\",\"type\":\"Line\"},{\"attributes\":{\"end\":11.0,\"reset_end\":11.0,\"reset_start\":1.0,\"start\":1.0,\"tags\":[[[\"k\",\"k\",null]]]},\"id\":\"1368\",\"type\":\"Range1d\"},{\"attributes\":{\"coordinates\":null,\"data_source\":{\"id\":\"1401\"},\"glyph\":{\"id\":\"1404\"},\"group\":null,\"hover_glyph\":null,\"muted_glyph\":{\"id\":\"1406\"},\"nonselection_glyph\":{\"id\":\"1405\"},\"selection_glyph\":{\"id\":\"1409\"},\"view\":{\"id\":\"1408\"}},\"id\":\"1407\",\"type\":\"GlyphRenderer\"},{\"attributes\":{\"ticks\":[1,2,3,4,5,6,7,8,9,10,11]},\"id\":\"1410\",\"type\":\"FixedTicker\"},{\"attributes\":{\"line_alpha\":0.2,\"line_color\":\"#30a2da\",\"line_width\":2,\"x\":{\"field\":\"k\"},\"y\":{\"field\":\"inertia\"}},\"id\":\"1406\",\"type\":\"Line\"},{\"attributes\":{\"callback\":null,\"renderers\":[{\"id\":\"1407\"}],\"tags\":[\"hv_created\"],\"tooltips\":[[\"k\",\"@{k}\"],[\"inertia\",\"@{inertia}\"]]},\"id\":\"1370\",\"type\":\"HoverTool\"},{\"attributes\":{\"axis\":{\"id\":\"1380\"},\"coordinates\":null,\"grid_line_color\":null,\"group\":null,\"ticker\":null},\"id\":\"1383\",\"type\":\"Grid\"}],\"root_ids\":[\"1367\"]},\"title\":\"Bokeh Application\",\"version\":\"2.4.3\"}};\n",
       "    var render_items = [{\"docid\":\"3b0fb0c0-e435-470b-8cb0-1458945a8f01\",\"root_ids\":[\"1367\"],\"roots\":{\"1367\":\"701541db-2be8-4d22-9f12-acbb168d21b2\"}}];\n",
       "    root.Bokeh.embed.embed_items_notebook(docs_json, render_items);\n",
       "    for (const render_item of render_items) {\n",
       "      for (const root_id of render_item.root_ids) {\n",
       "\tconst id_el = document.getElementById(root_id)\n",
       "\tif (id_el.children.length && (id_el.children[0].className === 'bk-root')) {\n",
       "\t  const root_el = id_el.children[0]\n",
       "\t  root_el.id = root_el.id + '-rendered'\n",
       "\t}\n",
       "      }\n",
       "    }\n",
       "  }\n",
       "  if (root.Bokeh !== undefined && root.Bokeh.Panel !== undefined) {\n",
       "    embed_document(root);\n",
       "  } else {\n",
       "    var attempts = 0;\n",
       "    var timer = setInterval(function(root) {\n",
       "      if (root.Bokeh !== undefined && root.Bokeh.Panel !== undefined) {\n",
       "        clearInterval(timer);\n",
       "        embed_document(root);\n",
       "      } else if (document.readyState == \"complete\") {\n",
       "        attempts++;\n",
       "        if (attempts > 200) {\n",
       "          clearInterval(timer);\n",
       "          console.log(\"Bokeh: ERROR: Unable to run BokehJS code because BokehJS library is missing\");\n",
       "        }\n",
       "      }\n",
       "    }, 25, root)\n",
       "  }\n",
       "})(window);</script>"
      ],
      "text/plain": [
       ":Curve   [k]   (inertia)"
      ]
     },
     "execution_count": 12,
     "metadata": {
      "application/vnd.holoviews_exec.v0+json": {
       "id": "1367"
      }
     },
     "output_type": "execute_result"
    }
   ],
   "source": [
    "# Plot a line chart with all the inertia values computed with \n",
    "elbow_df.hvplot.line(\n",
    "    x=\"k\", \n",
    "    y=\"inertia\", \n",
    "    title=\"Elbow Curve\", \n",
    "    xticks=k\n",
    ")\n",
    "# the different values of k to visually identify the optimal value for k.\n"
   ]
  },
  {
   "attachments": {},
   "cell_type": "markdown",
   "metadata": {},
   "source": [
    "#### Answer the following question: \n",
    "\n",
    "**Question:** What is the best value for `k`?\n",
    "\n",
    "**Answer:** K-value could be 3 or 4. K - value = 3 would be the best option as the rate of change seems to be decreasing after 3."
   ]
  },
  {
   "attachments": {},
   "cell_type": "markdown",
   "metadata": {},
   "source": [
    "---"
   ]
  },
  {
   "attachments": {},
   "cell_type": "markdown",
   "metadata": {},
   "source": [
    "### Cluster Cryptocurrencies with K-means Using the Original Data"
   ]
  },
  {
   "cell_type": "code",
   "execution_count": 13,
   "metadata": {},
   "outputs": [],
   "source": [
    "# Initialize the K-Means model using the best value for k\n",
    "k_model = KMeans(n_clusters = 3, random_state = 1 )"
   ]
  },
  {
   "cell_type": "code",
   "execution_count": 14,
   "metadata": {},
   "outputs": [
    {
     "name": "stderr",
     "output_type": "stream",
     "text": [
      "c:\\Users\\bhart\\anaconda3\\envs\\dev\\lib\\site-packages\\sklearn\\cluster\\_kmeans.py:870: FutureWarning: The default value of `n_init` will change from 10 to 'auto' in 1.4. Set the value of `n_init` explicitly to suppress the warning\n",
      "  warnings.warn(\n",
      "c:\\Users\\bhart\\anaconda3\\envs\\dev\\lib\\site-packages\\sklearn\\cluster\\_kmeans.py:1382: UserWarning: KMeans is known to have a memory leak on Windows with MKL, when there are less chunks than available threads. You can avoid it by setting the environment variable OMP_NUM_THREADS=1.\n",
      "  warnings.warn(\n"
     ]
    },
    {
     "data": {
      "text/html": [
       "<style>#sk-container-id-1 {color: black;background-color: white;}#sk-container-id-1 pre{padding: 0;}#sk-container-id-1 div.sk-toggleable {background-color: white;}#sk-container-id-1 label.sk-toggleable__label {cursor: pointer;display: block;width: 100%;margin-bottom: 0;padding: 0.3em;box-sizing: border-box;text-align: center;}#sk-container-id-1 label.sk-toggleable__label-arrow:before {content: \"▸\";float: left;margin-right: 0.25em;color: #696969;}#sk-container-id-1 label.sk-toggleable__label-arrow:hover:before {color: black;}#sk-container-id-1 div.sk-estimator:hover label.sk-toggleable__label-arrow:before {color: black;}#sk-container-id-1 div.sk-toggleable__content {max-height: 0;max-width: 0;overflow: hidden;text-align: left;background-color: #f0f8ff;}#sk-container-id-1 div.sk-toggleable__content pre {margin: 0.2em;color: black;border-radius: 0.25em;background-color: #f0f8ff;}#sk-container-id-1 input.sk-toggleable__control:checked~div.sk-toggleable__content {max-height: 200px;max-width: 100%;overflow: auto;}#sk-container-id-1 input.sk-toggleable__control:checked~label.sk-toggleable__label-arrow:before {content: \"▾\";}#sk-container-id-1 div.sk-estimator input.sk-toggleable__control:checked~label.sk-toggleable__label {background-color: #d4ebff;}#sk-container-id-1 div.sk-label input.sk-toggleable__control:checked~label.sk-toggleable__label {background-color: #d4ebff;}#sk-container-id-1 input.sk-hidden--visually {border: 0;clip: rect(1px 1px 1px 1px);clip: rect(1px, 1px, 1px, 1px);height: 1px;margin: -1px;overflow: hidden;padding: 0;position: absolute;width: 1px;}#sk-container-id-1 div.sk-estimator {font-family: monospace;background-color: #f0f8ff;border: 1px dotted black;border-radius: 0.25em;box-sizing: border-box;margin-bottom: 0.5em;}#sk-container-id-1 div.sk-estimator:hover {background-color: #d4ebff;}#sk-container-id-1 div.sk-parallel-item::after {content: \"\";width: 100%;border-bottom: 1px solid gray;flex-grow: 1;}#sk-container-id-1 div.sk-label:hover label.sk-toggleable__label {background-color: #d4ebff;}#sk-container-id-1 div.sk-serial::before {content: \"\";position: absolute;border-left: 1px solid gray;box-sizing: border-box;top: 0;bottom: 0;left: 50%;z-index: 0;}#sk-container-id-1 div.sk-serial {display: flex;flex-direction: column;align-items: center;background-color: white;padding-right: 0.2em;padding-left: 0.2em;position: relative;}#sk-container-id-1 div.sk-item {position: relative;z-index: 1;}#sk-container-id-1 div.sk-parallel {display: flex;align-items: stretch;justify-content: center;background-color: white;position: relative;}#sk-container-id-1 div.sk-item::before, #sk-container-id-1 div.sk-parallel-item::before {content: \"\";position: absolute;border-left: 1px solid gray;box-sizing: border-box;top: 0;bottom: 0;left: 50%;z-index: -1;}#sk-container-id-1 div.sk-parallel-item {display: flex;flex-direction: column;z-index: 1;position: relative;background-color: white;}#sk-container-id-1 div.sk-parallel-item:first-child::after {align-self: flex-end;width: 50%;}#sk-container-id-1 div.sk-parallel-item:last-child::after {align-self: flex-start;width: 50%;}#sk-container-id-1 div.sk-parallel-item:only-child::after {width: 0;}#sk-container-id-1 div.sk-dashed-wrapped {border: 1px dashed gray;margin: 0 0.4em 0.5em 0.4em;box-sizing: border-box;padding-bottom: 0.4em;background-color: white;}#sk-container-id-1 div.sk-label label {font-family: monospace;font-weight: bold;display: inline-block;line-height: 1.2em;}#sk-container-id-1 div.sk-label-container {text-align: center;}#sk-container-id-1 div.sk-container {/* jupyter's `normalize.less` sets `[hidden] { display: none; }` but bootstrap.min.css set `[hidden] { display: none !important; }` so we also need the `!important` here to be able to override the default hidden behavior on the sphinx rendered scikit-learn.org. See: https://github.com/scikit-learn/scikit-learn/issues/21755 */display: inline-block !important;position: relative;}#sk-container-id-1 div.sk-text-repr-fallback {display: none;}</style><div id=\"sk-container-id-1\" class=\"sk-top-container\"><div class=\"sk-text-repr-fallback\"><pre>KMeans(n_clusters=3, random_state=1)</pre><b>In a Jupyter environment, please rerun this cell to show the HTML representation or trust the notebook. <br />On GitHub, the HTML representation is unable to render, please try loading this page with nbviewer.org.</b></div><div class=\"sk-container\" hidden><div class=\"sk-item\"><div class=\"sk-estimator sk-toggleable\"><input class=\"sk-toggleable__control sk-hidden--visually\" id=\"sk-estimator-id-1\" type=\"checkbox\" checked><label for=\"sk-estimator-id-1\" class=\"sk-toggleable__label sk-toggleable__label-arrow\">KMeans</label><div class=\"sk-toggleable__content\"><pre>KMeans(n_clusters=3, random_state=1)</pre></div></div></div></div></div>"
      ],
      "text/plain": [
       "KMeans(n_clusters=3, random_state=1)"
      ]
     },
     "execution_count": 14,
     "metadata": {},
     "output_type": "execute_result"
    }
   ],
   "source": [
    "# Fit the K-Means model using the scaled data\n",
    "k_model.fit(df_market_data_scaled)"
   ]
  },
  {
   "cell_type": "code",
   "execution_count": 15,
   "metadata": {},
   "outputs": [
    {
     "data": {
      "text/plain": [
       "array([1, 1, 1, 1, 1, 1, 1, 1, 1, 1, 1, 1, 1, 1, 1, 1, 1, 1, 1, 1, 1, 1,\n",
       "       1, 1, 1, 1, 1, 1, 1, 1, 1, 1, 2, 1, 1, 1, 0, 1, 1, 1, 1])"
      ]
     },
     "execution_count": 15,
     "metadata": {},
     "output_type": "execute_result"
    }
   ],
   "source": [
    "# Predict the clusters to group the cryptocurrencies using the scaled data\n",
    "kmeans_predictions = k_model.predict(df_market_data_scaled)\n",
    "\n",
    "# Print the resulting array of cluster values.\n",
    "kmeans_predictions"
   ]
  },
  {
   "cell_type": "code",
   "execution_count": 16,
   "metadata": {},
   "outputs": [],
   "source": [
    "# Create a copy of the DataFrame\n",
    "market_prediction_df = df_market_data_scaled.copy()"
   ]
  },
  {
   "cell_type": "code",
   "execution_count": 17,
   "metadata": {},
   "outputs": [
    {
     "data": {
      "text/html": [
       "<div>\n",
       "<style scoped>\n",
       "    .dataframe tbody tr th:only-of-type {\n",
       "        vertical-align: middle;\n",
       "    }\n",
       "\n",
       "    .dataframe tbody tr th {\n",
       "        vertical-align: top;\n",
       "    }\n",
       "\n",
       "    .dataframe thead th {\n",
       "        text-align: right;\n",
       "    }\n",
       "</style>\n",
       "<table border=\"1\" class=\"dataframe\">\n",
       "  <thead>\n",
       "    <tr style=\"text-align: right;\">\n",
       "      <th></th>\n",
       "      <th>price_change_percentage_24h</th>\n",
       "      <th>price_change_percentage_7d</th>\n",
       "      <th>price_change_percentage_14d</th>\n",
       "      <th>price_change_percentage_30d</th>\n",
       "      <th>price_change_percentage_60d</th>\n",
       "      <th>price_change_percentage_200d</th>\n",
       "      <th>price_change_percentage_1y</th>\n",
       "      <th>kmeans_segments</th>\n",
       "    </tr>\n",
       "    <tr>\n",
       "      <th>crypto_names</th>\n",
       "      <th></th>\n",
       "      <th></th>\n",
       "      <th></th>\n",
       "      <th></th>\n",
       "      <th></th>\n",
       "      <th></th>\n",
       "      <th></th>\n",
       "      <th></th>\n",
       "    </tr>\n",
       "  </thead>\n",
       "  <tbody>\n",
       "    <tr>\n",
       "      <th>bitcoin</th>\n",
       "      <td>0.508529</td>\n",
       "      <td>0.493193</td>\n",
       "      <td>0.772200</td>\n",
       "      <td>0.235460</td>\n",
       "      <td>-0.067495</td>\n",
       "      <td>-0.355953</td>\n",
       "      <td>-0.251637</td>\n",
       "      <td>1</td>\n",
       "    </tr>\n",
       "    <tr>\n",
       "      <th>ethereum</th>\n",
       "      <td>0.185446</td>\n",
       "      <td>0.934445</td>\n",
       "      <td>0.558692</td>\n",
       "      <td>-0.054341</td>\n",
       "      <td>-0.273483</td>\n",
       "      <td>-0.115759</td>\n",
       "      <td>-0.199352</td>\n",
       "      <td>1</td>\n",
       "    </tr>\n",
       "    <tr>\n",
       "      <th>tether</th>\n",
       "      <td>0.021774</td>\n",
       "      <td>-0.706337</td>\n",
       "      <td>-0.021680</td>\n",
       "      <td>-0.061030</td>\n",
       "      <td>0.008005</td>\n",
       "      <td>-0.550247</td>\n",
       "      <td>-0.282061</td>\n",
       "      <td>1</td>\n",
       "    </tr>\n",
       "    <tr>\n",
       "      <th>ripple</th>\n",
       "      <td>-0.040764</td>\n",
       "      <td>-0.810928</td>\n",
       "      <td>0.249458</td>\n",
       "      <td>-0.050388</td>\n",
       "      <td>-0.373164</td>\n",
       "      <td>-0.458259</td>\n",
       "      <td>-0.295546</td>\n",
       "      <td>1</td>\n",
       "    </tr>\n",
       "    <tr>\n",
       "      <th>bitcoin-cash</th>\n",
       "      <td>1.193036</td>\n",
       "      <td>2.000959</td>\n",
       "      <td>1.760610</td>\n",
       "      <td>0.545842</td>\n",
       "      <td>-0.291203</td>\n",
       "      <td>-0.499848</td>\n",
       "      <td>-0.270317</td>\n",
       "      <td>1</td>\n",
       "    </tr>\n",
       "  </tbody>\n",
       "</table>\n",
       "</div>"
      ],
      "text/plain": [
       "              price_change_percentage_24h  price_change_percentage_7d  \\\n",
       "crypto_names                                                            \n",
       "bitcoin                          0.508529                    0.493193   \n",
       "ethereum                         0.185446                    0.934445   \n",
       "tether                           0.021774                   -0.706337   \n",
       "ripple                          -0.040764                   -0.810928   \n",
       "bitcoin-cash                     1.193036                    2.000959   \n",
       "\n",
       "              price_change_percentage_14d  price_change_percentage_30d  \\\n",
       "crypto_names                                                             \n",
       "bitcoin                          0.772200                     0.235460   \n",
       "ethereum                         0.558692                    -0.054341   \n",
       "tether                          -0.021680                    -0.061030   \n",
       "ripple                           0.249458                    -0.050388   \n",
       "bitcoin-cash                     1.760610                     0.545842   \n",
       "\n",
       "              price_change_percentage_60d  price_change_percentage_200d  \\\n",
       "crypto_names                                                              \n",
       "bitcoin                         -0.067495                     -0.355953   \n",
       "ethereum                        -0.273483                     -0.115759   \n",
       "tether                           0.008005                     -0.550247   \n",
       "ripple                          -0.373164                     -0.458259   \n",
       "bitcoin-cash                    -0.291203                     -0.499848   \n",
       "\n",
       "              price_change_percentage_1y  kmeans_segments  \n",
       "crypto_names                                               \n",
       "bitcoin                        -0.251637                1  \n",
       "ethereum                       -0.199352                1  \n",
       "tether                         -0.282061                1  \n",
       "ripple                         -0.295546                1  \n",
       "bitcoin-cash                   -0.270317                1  "
      ]
     },
     "execution_count": 17,
     "metadata": {},
     "output_type": "execute_result"
    }
   ],
   "source": [
    "# Add a new column to the DataFrame with the predicted clusters\n",
    "market_prediction_df[\"kmeans_segments\"] = kmeans_predictions\n",
    "\n",
    "# Display sample data\n",
    "market_prediction_df.head()"
   ]
  },
  {
   "cell_type": "code",
   "execution_count": 18,
   "metadata": {},
   "outputs": [
    {
     "data": {},
     "metadata": {},
     "output_type": "display_data"
    },
    {
     "data": {
      "application/vnd.holoviews_exec.v0+json": "",
      "text/html": [
       "<div id='1478'>\n",
       "  <div class=\"bk-root\" id=\"d286dc5f-5070-416a-9c3a-7ec1e107b8a9\" data-root-id=\"1478\"></div>\n",
       "</div>\n",
       "<script type=\"application/javascript\">(function(root) {\n",
       "  function embed_document(root) {\n",
       "    var docs_json = {\"1f238bc6-7f80-4fe1-a141-b6fa5bef148e\":{\"defs\":[{\"extends\":null,\"module\":null,\"name\":\"ReactiveHTML1\",\"overrides\":[],\"properties\":[]},{\"extends\":null,\"module\":null,\"name\":\"FlexBox1\",\"overrides\":[],\"properties\":[{\"default\":\"flex-start\",\"kind\":null,\"name\":\"align_content\"},{\"default\":\"flex-start\",\"kind\":null,\"name\":\"align_items\"},{\"default\":\"row\",\"kind\":null,\"name\":\"flex_direction\"},{\"default\":\"wrap\",\"kind\":null,\"name\":\"flex_wrap\"},{\"default\":\"flex-start\",\"kind\":null,\"name\":\"justify_content\"}]},{\"extends\":null,\"module\":null,\"name\":\"GridStack1\",\"overrides\":[],\"properties\":[{\"default\":\"warn\",\"kind\":null,\"name\":\"mode\"},{\"default\":null,\"kind\":null,\"name\":\"ncols\"},{\"default\":null,\"kind\":null,\"name\":\"nrows\"},{\"default\":true,\"kind\":null,\"name\":\"allow_resize\"},{\"default\":true,\"kind\":null,\"name\":\"allow_drag\"},{\"default\":[],\"kind\":null,\"name\":\"state\"}]},{\"extends\":null,\"module\":null,\"name\":\"click1\",\"overrides\":[],\"properties\":[{\"default\":\"\",\"kind\":null,\"name\":\"terminal_output\"},{\"default\":\"\",\"kind\":null,\"name\":\"debug_name\"},{\"default\":0,\"kind\":null,\"name\":\"clears\"}]},{\"extends\":null,\"module\":null,\"name\":\"NotificationAreaBase1\",\"overrides\":[],\"properties\":[{\"default\":\"bottom-right\",\"kind\":null,\"name\":\"position\"},{\"default\":0,\"kind\":null,\"name\":\"_clear\"}]},{\"extends\":null,\"module\":null,\"name\":\"NotificationArea1\",\"overrides\":[],\"properties\":[{\"default\":[],\"kind\":null,\"name\":\"notifications\"},{\"default\":\"bottom-right\",\"kind\":null,\"name\":\"position\"},{\"default\":0,\"kind\":null,\"name\":\"_clear\"},{\"default\":[{\"background\":\"#ffc107\",\"icon\":{\"className\":\"fas fa-exclamation-triangle\",\"color\":\"white\",\"tagName\":\"i\"},\"type\":\"warning\"},{\"background\":\"#007bff\",\"icon\":{\"className\":\"fas fa-info-circle\",\"color\":\"white\",\"tagName\":\"i\"},\"type\":\"info\"}],\"kind\":null,\"name\":\"types\"}]},{\"extends\":null,\"module\":null,\"name\":\"Notification\",\"overrides\":[],\"properties\":[{\"default\":null,\"kind\":null,\"name\":\"background\"},{\"default\":3000,\"kind\":null,\"name\":\"duration\"},{\"default\":null,\"kind\":null,\"name\":\"icon\"},{\"default\":\"\",\"kind\":null,\"name\":\"message\"},{\"default\":null,\"kind\":null,\"name\":\"notification_type\"},{\"default\":false,\"kind\":null,\"name\":\"_destroyed\"}]},{\"extends\":null,\"module\":null,\"name\":\"TemplateActions1\",\"overrides\":[],\"properties\":[{\"default\":0,\"kind\":null,\"name\":\"open_modal\"},{\"default\":0,\"kind\":null,\"name\":\"close_modal\"}]},{\"extends\":null,\"module\":null,\"name\":\"MaterialTemplateActions1\",\"overrides\":[],\"properties\":[{\"default\":0,\"kind\":null,\"name\":\"open_modal\"},{\"default\":0,\"kind\":null,\"name\":\"close_modal\"}]}],\"roots\":{\"references\":[{\"attributes\":{\"coordinates\":null,\"data_source\":{\"id\":\"1563\"},\"glyph\":{\"id\":\"1566\"},\"group\":null,\"hover_glyph\":null,\"muted_glyph\":{\"id\":\"1568\"},\"nonselection_glyph\":{\"id\":\"1567\"},\"selection_glyph\":{\"id\":\"1586\"},\"view\":{\"id\":\"1570\"}},\"id\":\"1569\",\"type\":\"GlyphRenderer\"},{\"attributes\":{\"data\":{\"crypto_names\":[\"celsius-degree-token\"],\"kmeans_segments\":[0],\"price_change_percentage_24h\":{\"__ndarray__\":\"VLqXBn668D8=\",\"dtype\":\"float64\",\"order\":\"little\",\"shape\":[1]},\"price_change_percentage_7d\":{\"__ndarray__\":\"Nv03JFjJ478=\",\"dtype\":\"float64\",\"order\":\"little\",\"shape\":[1]}},\"selected\":{\"id\":\"1521\"},\"selection_policy\":{\"id\":\"1535\"}},\"id\":\"1520\",\"type\":\"ColumnDataSource\"},{\"attributes\":{\"below\":[{\"id\":\"1493\"}],\"center\":[{\"id\":\"1496\"},{\"id\":\"1500\"}],\"height\":300,\"left\":[{\"id\":\"1497\"}],\"margin\":[5,5,5,5],\"min_border_bottom\":10,\"min_border_left\":10,\"min_border_right\":10,\"min_border_top\":10,\"renderers\":[{\"id\":\"1526\"},{\"id\":\"1547\"},{\"id\":\"1569\"}],\"right\":[{\"id\":\"1538\"}],\"sizing_mode\":\"fixed\",\"title\":{\"id\":\"1485\"},\"toolbar\":{\"id\":\"1507\"},\"width\":700,\"x_range\":{\"id\":\"1479\"},\"x_scale\":{\"id\":\"1489\"},\"y_range\":{\"id\":\"1480\"},\"y_scale\":{\"id\":\"1491\"}},\"id\":\"1484\",\"subtype\":\"Figure\",\"type\":\"Plot\"},{\"attributes\":{\"coordinates\":null,\"group\":null,\"text_color\":\"black\",\"text_font_size\":\"12pt\"},\"id\":\"1485\",\"type\":\"Title\"},{\"attributes\":{},\"id\":\"1521\",\"type\":\"Selection\"},{\"attributes\":{\"angle\":{\"value\":0.0},\"fill_alpha\":{\"value\":1.0},\"fill_color\":{\"value\":\"#e5ae38\"},\"hatch_alpha\":{\"value\":1.0},\"hatch_color\":{\"value\":\"#e5ae38\"},\"hatch_scale\":{\"value\":12.0},\"hatch_weight\":{\"value\":1.0},\"line_alpha\":{\"value\":1.0},\"line_cap\":{\"value\":\"butt\"},\"line_color\":{\"value\":\"#e5ae38\"},\"line_dash\":{\"value\":[]},\"line_dash_offset\":{\"value\":0},\"line_join\":{\"value\":\"bevel\"},\"line_width\":{\"value\":1},\"marker\":{\"value\":\"circle\"},\"size\":{\"value\":5.477225575051661},\"x\":{\"field\":\"price_change_percentage_24h\"},\"y\":{\"field\":\"price_change_percentage_7d\"}},\"id\":\"1586\",\"type\":\"Scatter\"},{\"attributes\":{\"coordinates\":null,\"data_source\":{\"id\":\"1520\"},\"glyph\":{\"id\":\"1523\"},\"group\":null,\"hover_glyph\":null,\"muted_glyph\":{\"id\":\"1525\"},\"nonselection_glyph\":{\"id\":\"1524\"},\"selection_glyph\":{\"id\":\"1540\"},\"view\":{\"id\":\"1527\"}},\"id\":\"1526\",\"type\":\"GlyphRenderer\"},{\"attributes\":{\"source\":{\"id\":\"1520\"}},\"id\":\"1527\",\"type\":\"CDSView\"},{\"attributes\":{\"fill_alpha\":{\"value\":0.1},\"fill_color\":{\"value\":\"#e5ae38\"},\"hatch_alpha\":{\"value\":0.1},\"hatch_color\":{\"value\":\"#e5ae38\"},\"line_alpha\":{\"value\":0.1},\"line_color\":{\"value\":\"#e5ae38\"},\"size\":{\"value\":5.477225575051661},\"x\":{\"field\":\"price_change_percentage_24h\"},\"y\":{\"field\":\"price_change_percentage_7d\"}},\"id\":\"1567\",\"type\":\"Scatter\"},{\"attributes\":{},\"id\":\"1516\",\"type\":\"AllLabels\"},{\"attributes\":{\"axis_label\":\"price_change_percentage_24h\",\"coordinates\":null,\"formatter\":{\"id\":\"1515\"},\"group\":null,\"major_label_policy\":{\"id\":\"1516\"},\"ticker\":{\"id\":\"1494\"}},\"id\":\"1493\",\"type\":\"LinearAxis\"},{\"attributes\":{\"label\":{\"value\":\"2\"},\"renderers\":[{\"id\":\"1569\"}]},\"id\":\"1585\",\"type\":\"LegendItem\"},{\"attributes\":{},\"id\":\"1535\",\"type\":\"UnionRenderers\"},{\"attributes\":{},\"id\":\"1502\",\"type\":\"PanTool\"},{\"attributes\":{\"click_policy\":\"mute\",\"coordinates\":null,\"group\":null,\"items\":[{\"id\":\"1539\"},{\"id\":\"1561\"},{\"id\":\"1585\"}],\"location\":[0,0],\"title\":\"kmeans_segments\"},\"id\":\"1538\",\"type\":\"Legend\"},{\"attributes\":{},\"id\":\"1494\",\"type\":\"BasicTicker\"},{\"attributes\":{\"fill_alpha\":{\"value\":0.1},\"fill_color\":{\"value\":\"#30a2da\"},\"hatch_alpha\":{\"value\":0.1},\"hatch_color\":{\"value\":\"#30a2da\"},\"line_alpha\":{\"value\":0.1},\"line_color\":{\"value\":\"#30a2da\"},\"size\":{\"value\":5.477225575051661},\"x\":{\"field\":\"price_change_percentage_24h\"},\"y\":{\"field\":\"price_change_percentage_7d\"}},\"id\":\"1524\",\"type\":\"Scatter\"},{\"attributes\":{\"axis\":{\"id\":\"1493\"},\"coordinates\":null,\"grid_line_color\":null,\"group\":null,\"ticker\":null},\"id\":\"1496\",\"type\":\"Grid\"},{\"attributes\":{\"fill_alpha\":{\"value\":0.1},\"fill_color\":{\"value\":\"#fc4f30\"},\"hatch_alpha\":{\"value\":0.1},\"hatch_color\":{\"value\":\"#fc4f30\"},\"line_alpha\":{\"value\":0.1},\"line_color\":{\"value\":\"#fc4f30\"},\"size\":{\"value\":5.477225575051661},\"x\":{\"field\":\"price_change_percentage_24h\"},\"y\":{\"field\":\"price_change_percentage_7d\"}},\"id\":\"1545\",\"type\":\"Scatter\"},{\"attributes\":{\"children\":[{\"id\":\"1484\"}],\"height\":300,\"margin\":[0,0,0,0],\"name\":\"Row01410\",\"sizing_mode\":\"fixed\",\"tags\":[\"embedded\"],\"width\":700},\"id\":\"1478\",\"type\":\"Row\"},{\"attributes\":{\"axis_label\":\"price_change_percentage_7d\",\"coordinates\":null,\"formatter\":{\"id\":\"1518\"},\"group\":null,\"major_label_policy\":{\"id\":\"1519\"},\"ticker\":{\"id\":\"1498\"}},\"id\":\"1497\",\"type\":\"LinearAxis\"},{\"attributes\":{\"fill_alpha\":{\"value\":0.2},\"fill_color\":{\"value\":\"#30a2da\"},\"hatch_alpha\":{\"value\":0.2},\"hatch_color\":{\"value\":\"#30a2da\"},\"line_alpha\":{\"value\":0.2},\"line_color\":{\"value\":\"#30a2da\"},\"size\":{\"value\":5.477225575051661},\"x\":{\"field\":\"price_change_percentage_24h\"},\"y\":{\"field\":\"price_change_percentage_7d\"}},\"id\":\"1525\",\"type\":\"Scatter\"},{\"attributes\":{\"axis\":{\"id\":\"1497\"},\"coordinates\":null,\"dimension\":1,\"grid_line_color\":null,\"group\":null,\"ticker\":null},\"id\":\"1500\",\"type\":\"Grid\"},{\"attributes\":{},\"id\":\"1498\",\"type\":\"BasicTicker\"},{\"attributes\":{\"coordinates\":null,\"data_source\":{\"id\":\"1541\"},\"glyph\":{\"id\":\"1544\"},\"group\":null,\"hover_glyph\":null,\"muted_glyph\":{\"id\":\"1546\"},\"nonselection_glyph\":{\"id\":\"1545\"},\"selection_glyph\":{\"id\":\"1562\"},\"view\":{\"id\":\"1548\"}},\"id\":\"1547\",\"type\":\"GlyphRenderer\"},{\"attributes\":{},\"id\":\"1503\",\"type\":\"WheelZoomTool\"},{\"attributes\":{},\"id\":\"1582\",\"type\":\"UnionRenderers\"},{\"attributes\":{},\"id\":\"1501\",\"type\":\"SaveTool\"},{\"attributes\":{\"angle\":{\"value\":0.0},\"fill_alpha\":{\"value\":1.0},\"fill_color\":{\"value\":\"#fc4f30\"},\"hatch_alpha\":{\"value\":1.0},\"hatch_color\":{\"value\":\"#fc4f30\"},\"hatch_scale\":{\"value\":12.0},\"hatch_weight\":{\"value\":1.0},\"line_alpha\":{\"value\":1.0},\"line_cap\":{\"value\":\"butt\"},\"line_color\":{\"value\":\"#fc4f30\"},\"line_dash\":{\"value\":[]},\"line_dash_offset\":{\"value\":0},\"line_join\":{\"value\":\"bevel\"},\"line_width\":{\"value\":1},\"marker\":{\"value\":\"circle\"},\"size\":{\"value\":5.477225575051661},\"x\":{\"field\":\"price_change_percentage_24h\"},\"y\":{\"field\":\"price_change_percentage_7d\"}},\"id\":\"1562\",\"type\":\"Scatter\"},{\"attributes\":{\"fill_color\":{\"value\":\"#e5ae38\"},\"hatch_color\":{\"value\":\"#e5ae38\"},\"line_color\":{\"value\":\"#e5ae38\"},\"size\":{\"value\":5.477225575051661},\"x\":{\"field\":\"price_change_percentage_24h\"},\"y\":{\"field\":\"price_change_percentage_7d\"}},\"id\":\"1566\",\"type\":\"Scatter\"},{\"attributes\":{\"overlay\":{\"id\":\"1506\"}},\"id\":\"1504\",\"type\":\"BoxZoomTool\"},{\"attributes\":{\"fill_color\":{\"value\":\"#30a2da\"},\"hatch_color\":{\"value\":\"#30a2da\"},\"line_color\":{\"value\":\"#30a2da\"},\"size\":{\"value\":5.477225575051661},\"x\":{\"field\":\"price_change_percentage_24h\"},\"y\":{\"field\":\"price_change_percentage_7d\"}},\"id\":\"1523\",\"type\":\"Scatter\"},{\"attributes\":{\"data\":{\"crypto_names\":[\"bitcoin\",\"ethereum\",\"tether\",\"ripple\",\"bitcoin-cash\",\"binancecoin\",\"chainlink\",\"cardano\",\"litecoin\",\"bitcoin-cash-sv\",\"crypto-com-chain\",\"usd-coin\",\"eos\",\"monero\",\"tron\",\"tezos\",\"okb\",\"stellar\",\"cosmos\",\"cdai\",\"neo\",\"wrapped-bitcoin\",\"leo-token\",\"huobi-token\",\"nem\",\"binance-usd\",\"iota\",\"vechain\",\"zcash\",\"theta-token\",\"dash\",\"ethereum-classic\",\"maker\",\"havven\",\"omisego\",\"ontology\",\"ftx-token\",\"true-usd\",\"digibyte\"],\"kmeans_segments\":[1,1,1,1,1,1,1,1,1,1,1,1,1,1,1,1,1,1,1,1,1,1,1,1,1,1,1,1,1,1,1,1,1,1,1,1,1,1,1],\"price_change_percentage_24h\":{\"__ndarray__\":\"DdlqYN9F4D86azDosLzHP5giRdTpS5Y/5iURtxHfpL8wCyMArRbzP/cOjHA0iuw/1QxzqW9Xhz8zBL2hZD+6P0nbN/ba1rM/WpkZGJ+73D/+slcesDPVP/IxOp6elqE/H2STd0ruwz9Epj8/c9DQPxk0XoR2pcA/jEB40RVnw790fnl54Irtv9XPDahDw9G/qq8st/Fh0L/5U5ZBISbHP6Slu6TDVtI/BVlpN5h+4D+njODODoCqPwXDDo/fo6q/woaukuXmy79od0yHwmevP8HhEPEMldA/ypmU5gu54j+sKNPN2lDAv1YH9WGFy/m/N7JuVBEB07/EU4GAhEGyv/wAhTiDBcC/w5x/SHDb9r+Ws8Eljbf+P8gpxDPHLdq/lauYPJ6K2j8F/bZ4T/qzP1jfrYivevM/\",\"dtype\":\"float64\",\"order\":\"little\",\"shape\":[39]},\"price_change_percentage_7d\":{\"__ndarray__\":\"U1k8q3mQ3z9yoPpI+ebtP22UiL5Pmua/Ubo8ah/z6b8wAdnT9gEAQIJpDjGZPPU/BTbpSPiTBEAmUWkixiD4P/OMI2gdZdU/DZTtp1doyL936vtUZtb5v0QZLH/ydOe/it8GjguF7b8rMp3jf678PwRAcFxBAKW/ZWZRGoqp5j8Udj8VbP/2vySelkVDp9i/XK6ZksNx/T/tJm9WzI7mvy674lUf4tS/Q3zKstaO3T84jfoETLXtv6NqpXs9Q92/wrTyyiEu678mI2rMB53mv1Euo6Hk788/3UZrgr7Q778kzwwdV7vtP/9TV66U6fq/ZWX+mWVCuD8GJ0pHuV/Nv7K1u05XleI/ycgTZlYfmr9NPGP+Z7XXP4e129/WBe2/YC+KGbN/2j97fXG3AgLmv9JOW7pjcuO/\",\"dtype\":\"float64\",\"order\":\"little\",\"shape\":[39]}},\"selected\":{\"id\":\"1542\"},\"selection_policy\":{\"id\":\"1558\"}},\"id\":\"1541\",\"type\":\"ColumnDataSource\"},{\"attributes\":{},\"id\":\"1505\",\"type\":\"ResetTool\"},{\"attributes\":{},\"id\":\"1564\",\"type\":\"Selection\"},{\"attributes\":{\"label\":{\"value\":\"1\"},\"renderers\":[{\"id\":\"1547\"}]},\"id\":\"1561\",\"type\":\"LegendItem\"},{\"attributes\":{\"source\":{\"id\":\"1563\"}},\"id\":\"1570\",\"type\":\"CDSView\"},{\"attributes\":{\"bottom_units\":\"screen\",\"coordinates\":null,\"fill_alpha\":0.5,\"fill_color\":\"lightgrey\",\"group\":null,\"left_units\":\"screen\",\"level\":\"overlay\",\"line_alpha\":1.0,\"line_color\":\"black\",\"line_dash\":[4,4],\"line_width\":2,\"right_units\":\"screen\",\"syncable\":false,\"top_units\":\"screen\"},\"id\":\"1506\",\"type\":\"BoxAnnotation\"},{\"attributes\":{\"fill_color\":{\"value\":\"#fc4f30\"},\"hatch_color\":{\"value\":\"#fc4f30\"},\"line_color\":{\"value\":\"#fc4f30\"},\"size\":{\"value\":5.477225575051661},\"x\":{\"field\":\"price_change_percentage_24h\"},\"y\":{\"field\":\"price_change_percentage_7d\"}},\"id\":\"1544\",\"type\":\"Scatter\"},{\"attributes\":{\"fill_alpha\":{\"value\":0.2},\"fill_color\":{\"value\":\"#e5ae38\"},\"hatch_alpha\":{\"value\":0.2},\"hatch_color\":{\"value\":\"#e5ae38\"},\"line_alpha\":{\"value\":0.2},\"line_color\":{\"value\":\"#e5ae38\"},\"size\":{\"value\":5.477225575051661},\"x\":{\"field\":\"price_change_percentage_24h\"},\"y\":{\"field\":\"price_change_percentage_7d\"}},\"id\":\"1568\",\"type\":\"Scatter\"},{\"attributes\":{},\"id\":\"1489\",\"type\":\"LinearScale\"},{\"attributes\":{\"active_drag\":{\"id\":\"1502\"},\"active_scroll\":{\"id\":\"1503\"},\"tools\":[{\"id\":\"1481\"},{\"id\":\"1501\"},{\"id\":\"1502\"},{\"id\":\"1503\"},{\"id\":\"1504\"},{\"id\":\"1505\"}]},\"id\":\"1507\",\"type\":\"Toolbar\"},{\"attributes\":{\"end\":2.2155632386560065,\"reset_end\":2.2155632386560065,\"reset_start\":-5.276792781891412,\"start\":-5.276792781891412,\"tags\":[[[\"price_change_percentage_24h\",\"price_change_percentage_24h\",null]]]},\"id\":\"1479\",\"type\":\"Range1d\"},{\"attributes\":{\"callback\":null,\"renderers\":[{\"id\":\"1526\"},{\"id\":\"1547\"},{\"id\":\"1569\"}],\"tags\":[\"hv_created\"],\"tooltips\":[[\"kmeans_segments\",\"@{kmeans_segments}\"],[\"price_change_percentage_24h\",\"@{price_change_percentage_24h}\"],[\"price_change_percentage_7d\",\"@{price_change_percentage_7d}\"],[\"crypto_names\",\"@{crypto_names}\"]]},\"id\":\"1481\",\"type\":\"HoverTool\"},{\"attributes\":{\"label\":{\"value\":\"0\"},\"renderers\":[{\"id\":\"1526\"}]},\"id\":\"1539\",\"type\":\"LegendItem\"},{\"attributes\":{},\"id\":\"1515\",\"type\":\"BasicTickFormatter\"},{\"attributes\":{\"angle\":{\"value\":0.0},\"fill_alpha\":{\"value\":1.0},\"fill_color\":{\"value\":\"#30a2da\"},\"hatch_alpha\":{\"value\":1.0},\"hatch_color\":{\"value\":\"#30a2da\"},\"hatch_scale\":{\"value\":12.0},\"hatch_weight\":{\"value\":1.0},\"line_alpha\":{\"value\":1.0},\"line_cap\":{\"value\":\"butt\"},\"line_color\":{\"value\":\"#30a2da\"},\"line_dash\":{\"value\":[]},\"line_dash_offset\":{\"value\":0},\"line_join\":{\"value\":\"bevel\"},\"line_width\":{\"value\":1},\"marker\":{\"value\":\"circle\"},\"size\":{\"value\":5.477225575051661},\"x\":{\"field\":\"price_change_percentage_24h\"},\"y\":{\"field\":\"price_change_percentage_7d\"}},\"id\":\"1540\",\"type\":\"Scatter\"},{\"attributes\":{\"source\":{\"id\":\"1541\"}},\"id\":\"1548\",\"type\":\"CDSView\"},{\"attributes\":{},\"id\":\"1491\",\"type\":\"LinearScale\"},{\"attributes\":{},\"id\":\"1519\",\"type\":\"AllLabels\"},{\"attributes\":{},\"id\":\"1518\",\"type\":\"BasicTickFormatter\"},{\"attributes\":{},\"id\":\"1542\",\"type\":\"Selection\"},{\"attributes\":{\"end\":2.997678656273595,\"reset_end\":2.997678656273595,\"reset_start\":-2.107454305728652,\"start\":-2.107454305728652,\"tags\":[[[\"price_change_percentage_7d\",\"price_change_percentage_7d\",null]]]},\"id\":\"1480\",\"type\":\"Range1d\"},{\"attributes\":{\"data\":{\"crypto_names\":[\"ethlend\"],\"kmeans_segments\":[2],\"price_change_percentage_24h\":{\"__ndarray__\":\"3WeHPpbsE8A=\",\"dtype\":\"float64\",\"order\":\"little\",\"shape\":[1]},\"price_change_percentage_7d\":{\"__ndarray__\":\"dIWi2pshp78=\",\"dtype\":\"float64\",\"order\":\"little\",\"shape\":[1]}},\"selected\":{\"id\":\"1564\"},\"selection_policy\":{\"id\":\"1582\"}},\"id\":\"1563\",\"type\":\"ColumnDataSource\"},{\"attributes\":{\"fill_alpha\":{\"value\":0.2},\"fill_color\":{\"value\":\"#fc4f30\"},\"hatch_alpha\":{\"value\":0.2},\"hatch_color\":{\"value\":\"#fc4f30\"},\"line_alpha\":{\"value\":0.2},\"line_color\":{\"value\":\"#fc4f30\"},\"size\":{\"value\":5.477225575051661},\"x\":{\"field\":\"price_change_percentage_24h\"},\"y\":{\"field\":\"price_change_percentage_7d\"}},\"id\":\"1546\",\"type\":\"Scatter\"},{\"attributes\":{},\"id\":\"1558\",\"type\":\"UnionRenderers\"}],\"root_ids\":[\"1478\"]},\"title\":\"Bokeh Application\",\"version\":\"2.4.3\"}};\n",
       "    var render_items = [{\"docid\":\"1f238bc6-7f80-4fe1-a141-b6fa5bef148e\",\"root_ids\":[\"1478\"],\"roots\":{\"1478\":\"d286dc5f-5070-416a-9c3a-7ec1e107b8a9\"}}];\n",
       "    root.Bokeh.embed.embed_items_notebook(docs_json, render_items);\n",
       "    for (const render_item of render_items) {\n",
       "      for (const root_id of render_item.root_ids) {\n",
       "\tconst id_el = document.getElementById(root_id)\n",
       "\tif (id_el.children.length && (id_el.children[0].className === 'bk-root')) {\n",
       "\t  const root_el = id_el.children[0]\n",
       "\t  root_el.id = root_el.id + '-rendered'\n",
       "\t}\n",
       "      }\n",
       "    }\n",
       "  }\n",
       "  if (root.Bokeh !== undefined && root.Bokeh.Panel !== undefined) {\n",
       "    embed_document(root);\n",
       "  } else {\n",
       "    var attempts = 0;\n",
       "    var timer = setInterval(function(root) {\n",
       "      if (root.Bokeh !== undefined && root.Bokeh.Panel !== undefined) {\n",
       "        clearInterval(timer);\n",
       "        embed_document(root);\n",
       "      } else if (document.readyState == \"complete\") {\n",
       "        attempts++;\n",
       "        if (attempts > 200) {\n",
       "          clearInterval(timer);\n",
       "          console.log(\"Bokeh: ERROR: Unable to run BokehJS code because BokehJS library is missing\");\n",
       "        }\n",
       "      }\n",
       "    }, 25, root)\n",
       "  }\n",
       "})(window);</script>"
      ],
      "text/plain": [
       ":NdOverlay   [kmeans_segments]\n",
       "   :Scatter   [price_change_percentage_24h]   (price_change_percentage_7d,crypto_names)"
      ]
     },
     "execution_count": 18,
     "metadata": {
      "application/vnd.holoviews_exec.v0+json": {
       "id": "1478"
      }
     },
     "output_type": "execute_result"
    }
   ],
   "source": [
    "# Create a scatter plot using hvPlot by setting \n",
    "# `x=\"price_change_percentage_24h\"` and `y=\"price_change_percentage_7d\"`. \n",
    "# Color the graph points with the labels found using K-Means and \n",
    "# add the crypto name in the `hover_cols` parameter to identify \n",
    "# the cryptocurrency represented by each data point.\n",
    "market_prediction_df.hvplot.scatter(\n",
    "    x = \"price_change_percentage_24h\",\n",
    "    y = \"price_change_percentage_7d\",\n",
    "    by = \"kmeans_segments\",\n",
    "    hover_cols = [\"crypto_names\"]\n",
    ")\n"
   ]
  },
  {
   "attachments": {},
   "cell_type": "markdown",
   "metadata": {},
   "source": [
    "---"
   ]
  },
  {
   "attachments": {},
   "cell_type": "markdown",
   "metadata": {},
   "source": [
    "### Optimize Clusters with Principal Component Analysis."
   ]
  },
  {
   "cell_type": "code",
   "execution_count": 19,
   "metadata": {},
   "outputs": [],
   "source": [
    "# Create a PCA model instance and set `n_components=3`.\n",
    "pca = PCA(n_components = 3)"
   ]
  },
  {
   "cell_type": "code",
   "execution_count": 37,
   "metadata": {},
   "outputs": [
    {
     "data": {
      "text/plain": [
       "array([[-0.60066733,  0.84276006,  0.46159457],\n",
       "       [-0.45826071,  0.45846566,  0.95287678],\n",
       "       [-0.43306981, -0.16812638, -0.64175193],\n",
       "       [-0.47183495, -0.22266008, -0.47905316],\n",
       "       [-1.15779997,  2.04120919,  1.85971527]])"
      ]
     },
     "execution_count": 37,
     "metadata": {},
     "output_type": "execute_result"
    }
   ],
   "source": [
    "# Use the PCA model with `fit_transform` to reduce to \n",
    "# three principal components.\n",
    "df_market_data_pca = pca.fit_transform(df_market_data_scaled)\n",
    "\n",
    "# View the first five rows of the DataFrame. \n",
    "df_market_data_pca[:5]"
   ]
  },
  {
   "cell_type": "code",
   "execution_count": 38,
   "metadata": {},
   "outputs": [
    {
     "data": {
      "text/plain": [
       "array([0.3719856 , 0.34700813, 0.17603793])"
      ]
     },
     "execution_count": 38,
     "metadata": {},
     "output_type": "execute_result"
    }
   ],
   "source": [
    "# Retrieve the explained variance to determine how much information \n",
    "# can be attributed to each principal component.\n",
    " # Calculate the PCA explained variance ratio\n",
    "pca.explained_variance_ratio_"
   ]
  },
  {
   "cell_type": "code",
   "execution_count": 39,
   "metadata": {},
   "outputs": [
    {
     "data": {
      "text/plain": [
       "89.5"
      ]
     },
     "execution_count": 39,
     "metadata": {},
     "output_type": "execute_result"
    }
   ],
   "source": [
    "\n",
    "total_explained_variance = round(sum(list(pca.explained_variance_ratio_))*100, 2)\n",
    "total_explained_variance"
   ]
  },
  {
   "attachments": {},
   "cell_type": "markdown",
   "metadata": {},
   "source": [
    "#### Answer the following question: \n",
    "\n",
    "**Question:** What is the total explained variance of the three principal components?\n",
    "\n",
    "**Answer:** The total explained variance is 99.98%"
   ]
  },
  {
   "cell_type": "code",
   "execution_count": 41,
   "metadata": {},
   "outputs": [
    {
     "data": {
      "text/html": [
       "<div>\n",
       "<style scoped>\n",
       "    .dataframe tbody tr th:only-of-type {\n",
       "        vertical-align: middle;\n",
       "    }\n",
       "\n",
       "    .dataframe tbody tr th {\n",
       "        vertical-align: top;\n",
       "    }\n",
       "\n",
       "    .dataframe thead th {\n",
       "        text-align: right;\n",
       "    }\n",
       "</style>\n",
       "<table border=\"1\" class=\"dataframe\">\n",
       "  <thead>\n",
       "    <tr style=\"text-align: right;\">\n",
       "      <th></th>\n",
       "      <th>PCA1</th>\n",
       "      <th>PCA2</th>\n",
       "      <th>PCA3</th>\n",
       "    </tr>\n",
       "    <tr>\n",
       "      <th>crypto_names</th>\n",
       "      <th></th>\n",
       "      <th></th>\n",
       "      <th></th>\n",
       "    </tr>\n",
       "  </thead>\n",
       "  <tbody>\n",
       "    <tr>\n",
       "      <th>bitcoin</th>\n",
       "      <td>-0.600667</td>\n",
       "      <td>0.842760</td>\n",
       "      <td>0.461595</td>\n",
       "    </tr>\n",
       "    <tr>\n",
       "      <th>ethereum</th>\n",
       "      <td>-0.458261</td>\n",
       "      <td>0.458466</td>\n",
       "      <td>0.952877</td>\n",
       "    </tr>\n",
       "    <tr>\n",
       "      <th>tether</th>\n",
       "      <td>-0.433070</td>\n",
       "      <td>-0.168126</td>\n",
       "      <td>-0.641752</td>\n",
       "    </tr>\n",
       "    <tr>\n",
       "      <th>ripple</th>\n",
       "      <td>-0.471835</td>\n",
       "      <td>-0.222660</td>\n",
       "      <td>-0.479053</td>\n",
       "    </tr>\n",
       "    <tr>\n",
       "      <th>bitcoin-cash</th>\n",
       "      <td>-1.157800</td>\n",
       "      <td>2.041209</td>\n",
       "      <td>1.859715</td>\n",
       "    </tr>\n",
       "  </tbody>\n",
       "</table>\n",
       "</div>"
      ],
      "text/plain": [
       "                  PCA1      PCA2      PCA3\n",
       "crypto_names                              \n",
       "bitcoin      -0.600667  0.842760  0.461595\n",
       "ethereum     -0.458261  0.458466  0.952877\n",
       "tether       -0.433070 -0.168126 -0.641752\n",
       "ripple       -0.471835 -0.222660 -0.479053\n",
       "bitcoin-cash -1.157800  2.041209  1.859715"
      ]
     },
     "execution_count": 41,
     "metadata": {},
     "output_type": "execute_result"
    }
   ],
   "source": [
    "# Create a new DataFrame with the PCA data.\n",
    "market_pca_df = pd.DataFrame(\n",
    "    df_market_data_pca,\n",
    "    columns=[\"PCA1\", \"PCA2\" , \"PCA3\"]\n",
    ")\n",
    "\n",
    "# Creating a DataFrame with the PCA data\n",
    "\n",
    "# Copy the crypto names from the original data\n",
    "market_pca_df[\"crypto_names\"]=df_market_data.index\n",
    "\n",
    "# Set the coinid column as index\n",
    "market_pca_df = market_pca_df.set_index(\"crypto_names\")\n",
    "\n",
    "# Display sample data\n",
    "market_pca_df.head()"
   ]
  },
  {
   "attachments": {},
   "cell_type": "markdown",
   "metadata": {},
   "source": [
    "---"
   ]
  },
  {
   "attachments": {},
   "cell_type": "markdown",
   "metadata": {},
   "source": [
    "### Find the Best Value for k Using the PCA Data"
   ]
  },
  {
   "cell_type": "code",
   "execution_count": 42,
   "metadata": {},
   "outputs": [],
   "source": [
    "# Create a list with the number of k-values from 1 to 11\n",
    "k2 = list(range(1,12))"
   ]
  },
  {
   "cell_type": "code",
   "execution_count": 43,
   "metadata": {},
   "outputs": [
    {
     "name": "stderr",
     "output_type": "stream",
     "text": [
      "c:\\Users\\bhart\\anaconda3\\envs\\dev\\lib\\site-packages\\sklearn\\cluster\\_kmeans.py:870: FutureWarning: The default value of `n_init` will change from 10 to 'auto' in 1.4. Set the value of `n_init` explicitly to suppress the warning\n",
      "  warnings.warn(\n",
      "c:\\Users\\bhart\\anaconda3\\envs\\dev\\lib\\site-packages\\sklearn\\cluster\\_kmeans.py:1382: UserWarning: KMeans is known to have a memory leak on Windows with MKL, when there are less chunks than available threads. You can avoid it by setting the environment variable OMP_NUM_THREADS=1.\n",
      "  warnings.warn(\n",
      "c:\\Users\\bhart\\anaconda3\\envs\\dev\\lib\\site-packages\\sklearn\\cluster\\_kmeans.py:870: FutureWarning: The default value of `n_init` will change from 10 to 'auto' in 1.4. Set the value of `n_init` explicitly to suppress the warning\n",
      "  warnings.warn(\n",
      "c:\\Users\\bhart\\anaconda3\\envs\\dev\\lib\\site-packages\\sklearn\\cluster\\_kmeans.py:1382: UserWarning: KMeans is known to have a memory leak on Windows with MKL, when there are less chunks than available threads. You can avoid it by setting the environment variable OMP_NUM_THREADS=1.\n",
      "  warnings.warn(\n",
      "c:\\Users\\bhart\\anaconda3\\envs\\dev\\lib\\site-packages\\sklearn\\cluster\\_kmeans.py:870: FutureWarning: The default value of `n_init` will change from 10 to 'auto' in 1.4. Set the value of `n_init` explicitly to suppress the warning\n",
      "  warnings.warn(\n",
      "c:\\Users\\bhart\\anaconda3\\envs\\dev\\lib\\site-packages\\sklearn\\cluster\\_kmeans.py:1382: UserWarning: KMeans is known to have a memory leak on Windows with MKL, when there are less chunks than available threads. You can avoid it by setting the environment variable OMP_NUM_THREADS=1.\n",
      "  warnings.warn(\n",
      "c:\\Users\\bhart\\anaconda3\\envs\\dev\\lib\\site-packages\\sklearn\\cluster\\_kmeans.py:870: FutureWarning: The default value of `n_init` will change from 10 to 'auto' in 1.4. Set the value of `n_init` explicitly to suppress the warning\n",
      "  warnings.warn(\n",
      "c:\\Users\\bhart\\anaconda3\\envs\\dev\\lib\\site-packages\\sklearn\\cluster\\_kmeans.py:1382: UserWarning: KMeans is known to have a memory leak on Windows with MKL, when there are less chunks than available threads. You can avoid it by setting the environment variable OMP_NUM_THREADS=1.\n",
      "  warnings.warn(\n",
      "c:\\Users\\bhart\\anaconda3\\envs\\dev\\lib\\site-packages\\sklearn\\cluster\\_kmeans.py:870: FutureWarning: The default value of `n_init` will change from 10 to 'auto' in 1.4. Set the value of `n_init` explicitly to suppress the warning\n",
      "  warnings.warn(\n",
      "c:\\Users\\bhart\\anaconda3\\envs\\dev\\lib\\site-packages\\sklearn\\cluster\\_kmeans.py:1382: UserWarning: KMeans is known to have a memory leak on Windows with MKL, when there are less chunks than available threads. You can avoid it by setting the environment variable OMP_NUM_THREADS=1.\n",
      "  warnings.warn(\n",
      "c:\\Users\\bhart\\anaconda3\\envs\\dev\\lib\\site-packages\\sklearn\\cluster\\_kmeans.py:870: FutureWarning: The default value of `n_init` will change from 10 to 'auto' in 1.4. Set the value of `n_init` explicitly to suppress the warning\n",
      "  warnings.warn(\n",
      "c:\\Users\\bhart\\anaconda3\\envs\\dev\\lib\\site-packages\\sklearn\\cluster\\_kmeans.py:1382: UserWarning: KMeans is known to have a memory leak on Windows with MKL, when there are less chunks than available threads. You can avoid it by setting the environment variable OMP_NUM_THREADS=1.\n",
      "  warnings.warn(\n",
      "c:\\Users\\bhart\\anaconda3\\envs\\dev\\lib\\site-packages\\sklearn\\cluster\\_kmeans.py:870: FutureWarning: The default value of `n_init` will change from 10 to 'auto' in 1.4. Set the value of `n_init` explicitly to suppress the warning\n",
      "  warnings.warn(\n",
      "c:\\Users\\bhart\\anaconda3\\envs\\dev\\lib\\site-packages\\sklearn\\cluster\\_kmeans.py:1382: UserWarning: KMeans is known to have a memory leak on Windows with MKL, when there are less chunks than available threads. You can avoid it by setting the environment variable OMP_NUM_THREADS=1.\n",
      "  warnings.warn(\n",
      "c:\\Users\\bhart\\anaconda3\\envs\\dev\\lib\\site-packages\\sklearn\\cluster\\_kmeans.py:870: FutureWarning: The default value of `n_init` will change from 10 to 'auto' in 1.4. Set the value of `n_init` explicitly to suppress the warning\n",
      "  warnings.warn(\n",
      "c:\\Users\\bhart\\anaconda3\\envs\\dev\\lib\\site-packages\\sklearn\\cluster\\_kmeans.py:1382: UserWarning: KMeans is known to have a memory leak on Windows with MKL, when there are less chunks than available threads. You can avoid it by setting the environment variable OMP_NUM_THREADS=1.\n",
      "  warnings.warn(\n",
      "c:\\Users\\bhart\\anaconda3\\envs\\dev\\lib\\site-packages\\sklearn\\cluster\\_kmeans.py:870: FutureWarning: The default value of `n_init` will change from 10 to 'auto' in 1.4. Set the value of `n_init` explicitly to suppress the warning\n",
      "  warnings.warn(\n",
      "c:\\Users\\bhart\\anaconda3\\envs\\dev\\lib\\site-packages\\sklearn\\cluster\\_kmeans.py:1382: UserWarning: KMeans is known to have a memory leak on Windows with MKL, when there are less chunks than available threads. You can avoid it by setting the environment variable OMP_NUM_THREADS=1.\n",
      "  warnings.warn(\n",
      "c:\\Users\\bhart\\anaconda3\\envs\\dev\\lib\\site-packages\\sklearn\\cluster\\_kmeans.py:870: FutureWarning: The default value of `n_init` will change from 10 to 'auto' in 1.4. Set the value of `n_init` explicitly to suppress the warning\n",
      "  warnings.warn(\n",
      "c:\\Users\\bhart\\anaconda3\\envs\\dev\\lib\\site-packages\\sklearn\\cluster\\_kmeans.py:1382: UserWarning: KMeans is known to have a memory leak on Windows with MKL, when there are less chunks than available threads. You can avoid it by setting the environment variable OMP_NUM_THREADS=1.\n",
      "  warnings.warn(\n",
      "c:\\Users\\bhart\\anaconda3\\envs\\dev\\lib\\site-packages\\sklearn\\cluster\\_kmeans.py:870: FutureWarning: The default value of `n_init` will change from 10 to 'auto' in 1.4. Set the value of `n_init` explicitly to suppress the warning\n",
      "  warnings.warn(\n",
      "c:\\Users\\bhart\\anaconda3\\envs\\dev\\lib\\site-packages\\sklearn\\cluster\\_kmeans.py:1382: UserWarning: KMeans is known to have a memory leak on Windows with MKL, when there are less chunks than available threads. You can avoid it by setting the environment variable OMP_NUM_THREADS=1.\n",
      "  warnings.warn(\n"
     ]
    }
   ],
   "source": [
    "# Create an empty list to store the inertia values\n",
    "inertia2 = []\n",
    "\n",
    "# Create a for loop to compute the inertia with each possible value of k\n",
    "for i in k2:\n",
    "# Inside the loop:\n",
    "# 1. Create a KMeans model using the loop counter for the n_clusters\n",
    "    k_model = KMeans(n_clusters = i, random_state = 1)\n",
    "# 2. Fit the model to the data using `df_market_data_pca`\n",
    "    k_model.fit(market_pca_df)\n",
    "# 3. Append the model.inertia_ to the inertia list\n",
    "    inertia2.append(k_model.inertia_)\n"
   ]
  },
  {
   "cell_type": "code",
   "execution_count": 44,
   "metadata": {},
   "outputs": [],
   "source": [
    "# Create a dictionary with the data to plot the Elbow curve\n",
    "elbow_curve = {\"k2\" : k2, \"inertia2\" :inertia2}\n",
    "# Create a DataFrame with the data to plot the Elbow curve\n",
    "elbow_pca_df = pd.DataFrame(elbow_curve)"
   ]
  },
  {
   "cell_type": "code",
   "execution_count": 45,
   "metadata": {},
   "outputs": [
    {
     "data": {},
     "metadata": {},
     "output_type": "display_data"
    },
    {
     "data": {
      "application/vnd.holoviews_exec.v0+json": "",
      "text/html": [
       "<div id='2959'>\n",
       "  <div class=\"bk-root\" id=\"7fc9d920-735d-4613-8355-3dc8421028cc\" data-root-id=\"2959\"></div>\n",
       "</div>\n",
       "<script type=\"application/javascript\">(function(root) {\n",
       "  function embed_document(root) {\n",
       "    var docs_json = {\"4ad33620-ff41-41b3-b365-a6264c68ecd1\":{\"defs\":[{\"extends\":null,\"module\":null,\"name\":\"ReactiveHTML1\",\"overrides\":[],\"properties\":[]},{\"extends\":null,\"module\":null,\"name\":\"FlexBox1\",\"overrides\":[],\"properties\":[{\"default\":\"flex-start\",\"kind\":null,\"name\":\"align_content\"},{\"default\":\"flex-start\",\"kind\":null,\"name\":\"align_items\"},{\"default\":\"row\",\"kind\":null,\"name\":\"flex_direction\"},{\"default\":\"wrap\",\"kind\":null,\"name\":\"flex_wrap\"},{\"default\":\"flex-start\",\"kind\":null,\"name\":\"justify_content\"}]},{\"extends\":null,\"module\":null,\"name\":\"GridStack1\",\"overrides\":[],\"properties\":[{\"default\":\"warn\",\"kind\":null,\"name\":\"mode\"},{\"default\":null,\"kind\":null,\"name\":\"ncols\"},{\"default\":null,\"kind\":null,\"name\":\"nrows\"},{\"default\":true,\"kind\":null,\"name\":\"allow_resize\"},{\"default\":true,\"kind\":null,\"name\":\"allow_drag\"},{\"default\":[],\"kind\":null,\"name\":\"state\"}]},{\"extends\":null,\"module\":null,\"name\":\"click1\",\"overrides\":[],\"properties\":[{\"default\":\"\",\"kind\":null,\"name\":\"terminal_output\"},{\"default\":\"\",\"kind\":null,\"name\":\"debug_name\"},{\"default\":0,\"kind\":null,\"name\":\"clears\"}]},{\"extends\":null,\"module\":null,\"name\":\"NotificationAreaBase1\",\"overrides\":[],\"properties\":[{\"default\":\"bottom-right\",\"kind\":null,\"name\":\"position\"},{\"default\":0,\"kind\":null,\"name\":\"_clear\"}]},{\"extends\":null,\"module\":null,\"name\":\"NotificationArea1\",\"overrides\":[],\"properties\":[{\"default\":[],\"kind\":null,\"name\":\"notifications\"},{\"default\":\"bottom-right\",\"kind\":null,\"name\":\"position\"},{\"default\":0,\"kind\":null,\"name\":\"_clear\"},{\"default\":[{\"background\":\"#ffc107\",\"icon\":{\"className\":\"fas fa-exclamation-triangle\",\"color\":\"white\",\"tagName\":\"i\"},\"type\":\"warning\"},{\"background\":\"#007bff\",\"icon\":{\"className\":\"fas fa-info-circle\",\"color\":\"white\",\"tagName\":\"i\"},\"type\":\"info\"}],\"kind\":null,\"name\":\"types\"}]},{\"extends\":null,\"module\":null,\"name\":\"Notification\",\"overrides\":[],\"properties\":[{\"default\":null,\"kind\":null,\"name\":\"background\"},{\"default\":3000,\"kind\":null,\"name\":\"duration\"},{\"default\":null,\"kind\":null,\"name\":\"icon\"},{\"default\":\"\",\"kind\":null,\"name\":\"message\"},{\"default\":null,\"kind\":null,\"name\":\"notification_type\"},{\"default\":false,\"kind\":null,\"name\":\"_destroyed\"}]},{\"extends\":null,\"module\":null,\"name\":\"TemplateActions1\",\"overrides\":[],\"properties\":[{\"default\":0,\"kind\":null,\"name\":\"open_modal\"},{\"default\":0,\"kind\":null,\"name\":\"close_modal\"}]},{\"extends\":null,\"module\":null,\"name\":\"MaterialTemplateActions1\",\"overrides\":[],\"properties\":[{\"default\":0,\"kind\":null,\"name\":\"open_modal\"},{\"default\":0,\"kind\":null,\"name\":\"close_modal\"}]}],\"roots\":{\"references\":[{\"attributes\":{\"bottom_units\":\"screen\",\"coordinates\":null,\"fill_alpha\":0.5,\"fill_color\":\"lightgrey\",\"group\":null,\"left_units\":\"screen\",\"level\":\"overlay\",\"line_alpha\":1.0,\"line_color\":\"black\",\"line_dash\":[4,4],\"line_width\":2,\"right_units\":\"screen\",\"syncable\":false,\"top_units\":\"screen\"},\"id\":\"2985\",\"type\":\"BoxAnnotation\"},{\"attributes\":{},\"id\":\"3005\",\"type\":\"AllLabels\"},{\"attributes\":{\"axis_label\":\"inertia2\",\"coordinates\":null,\"formatter\":{\"id\":\"3009\"},\"group\":null,\"major_label_policy\":{\"id\":\"3010\"},\"ticker\":{\"id\":\"2977\"}},\"id\":\"2976\",\"type\":\"LinearAxis\"},{\"attributes\":{\"axis\":{\"id\":\"2976\"},\"coordinates\":null,\"dimension\":1,\"grid_line_color\":null,\"group\":null,\"ticker\":null},\"id\":\"2979\",\"type\":\"Grid\"},{\"attributes\":{\"source\":{\"id\":\"2993\"}},\"id\":\"3000\",\"type\":\"CDSView\"},{\"attributes\":{},\"id\":\"3010\",\"type\":\"AllLabels\"},{\"attributes\":{},\"id\":\"2980\",\"type\":\"SaveTool\"},{\"attributes\":{},\"id\":\"2984\",\"type\":\"ResetTool\"},{\"attributes\":{\"end\":11.0,\"reset_end\":11.0,\"reset_start\":1.0,\"start\":1.0,\"tags\":[[[\"k2\",\"k2\",null]]]},\"id\":\"2960\",\"type\":\"Range1d\"},{\"attributes\":{},\"id\":\"2994\",\"type\":\"Selection\"},{\"attributes\":{\"line_alpha\":0.1,\"line_color\":\"#30a2da\",\"line_width\":2,\"x\":{\"field\":\"k2\"},\"y\":{\"field\":\"inertia2\"}},\"id\":\"2997\",\"type\":\"Line\"},{\"attributes\":{},\"id\":\"2977\",\"type\":\"BasicTicker\"},{\"attributes\":{},\"id\":\"2970\",\"type\":\"LinearScale\"},{\"attributes\":{},\"id\":\"2981\",\"type\":\"PanTool\"},{\"attributes\":{\"active_drag\":{\"id\":\"2981\"},\"active_scroll\":{\"id\":\"2982\"},\"tools\":[{\"id\":\"2962\"},{\"id\":\"2980\"},{\"id\":\"2981\"},{\"id\":\"2982\"},{\"id\":\"2983\"},{\"id\":\"2984\"}]},\"id\":\"2986\",\"type\":\"Toolbar\"},{\"attributes\":{\"coordinates\":null,\"group\":null,\"text\":\"elbow_pca_chart\",\"text_color\":\"black\",\"text_font_size\":\"12pt\"},\"id\":\"2964\",\"type\":\"Title\"},{\"attributes\":{\"below\":[{\"id\":\"2972\"}],\"center\":[{\"id\":\"2975\"},{\"id\":\"2979\"}],\"height\":300,\"left\":[{\"id\":\"2976\"}],\"margin\":[5,5,5,5],\"min_border_bottom\":10,\"min_border_left\":10,\"min_border_right\":10,\"min_border_top\":10,\"renderers\":[{\"id\":\"2999\"}],\"sizing_mode\":\"fixed\",\"title\":{\"id\":\"2964\"},\"toolbar\":{\"id\":\"2986\"},\"width\":700,\"x_range\":{\"id\":\"2960\"},\"x_scale\":{\"id\":\"2968\"},\"y_range\":{\"id\":\"2961\"},\"y_scale\":{\"id\":\"2970\"}},\"id\":\"2963\",\"subtype\":\"Figure\",\"type\":\"Plot\"},{\"attributes\":{\"line_color\":\"#30a2da\",\"line_width\":2,\"x\":{\"field\":\"k2\"},\"y\":{\"field\":\"inertia2\"}},\"id\":\"2996\",\"type\":\"Line\"},{\"attributes\":{\"end\":281.7499955455994,\"reset_end\":281.7499955455994,\"reset_start\":-16.76092418688608,\"start\":-16.76092418688608,\"tags\":[[[\"inertia2\",\"inertia2\",null]]]},\"id\":\"2961\",\"type\":\"Range1d\"},{\"attributes\":{\"overlay\":{\"id\":\"2985\"}},\"id\":\"2983\",\"type\":\"BoxZoomTool\"},{\"attributes\":{},\"id\":\"3004\",\"type\":\"BasicTickFormatter\"},{\"attributes\":{\"coordinates\":null,\"data_source\":{\"id\":\"2993\"},\"glyph\":{\"id\":\"2996\"},\"group\":null,\"hover_glyph\":null,\"muted_glyph\":{\"id\":\"2998\"},\"nonselection_glyph\":{\"id\":\"2997\"},\"selection_glyph\":{\"id\":\"3001\"},\"view\":{\"id\":\"3000\"}},\"id\":\"2999\",\"type\":\"GlyphRenderer\"},{\"attributes\":{},\"id\":\"3009\",\"type\":\"BasicTickFormatter\"},{\"attributes\":{\"line_alpha\":0.2,\"line_color\":\"#30a2da\",\"line_width\":2,\"x\":{\"field\":\"k2\"},\"y\":{\"field\":\"inertia2\"}},\"id\":\"2998\",\"type\":\"Line\"},{\"attributes\":{\"line_color\":\"#30a2da\",\"line_width\":2,\"x\":{\"field\":\"k2\"},\"y\":{\"field\":\"inertia2\"}},\"id\":\"3001\",\"type\":\"Line\"},{\"attributes\":{},\"id\":\"3021\",\"type\":\"UnionRenderers\"},{\"attributes\":{\"callback\":null,\"renderers\":[{\"id\":\"2999\"}],\"tags\":[\"hv_created\"],\"tooltips\":[[\"k2\",\"@{k2}\"],[\"inertia2\",\"@{inertia2}\"]]},\"id\":\"2962\",\"type\":\"HoverTool\"},{\"attributes\":{},\"id\":\"2982\",\"type\":\"WheelZoomTool\"},{\"attributes\":{\"ticks\":[1,2,3,4,5,6,7,8,9,10,11]},\"id\":\"3002\",\"type\":\"FixedTicker\"},{\"attributes\":{\"data\":{\"inertia2\":{\"__ndarray__\":\"DAAmQfwNcEBIVJAi3bxkQPgsl3eTcVdAmoiJ/i7VSEDILV+RFi1DQH9sYu90njtAzscYf1EiNUCloXDDCnAxQNH9UzpPfCtAKdPWkEP4JECDKeZq3zogQA==\",\"dtype\":\"float64\",\"order\":\"little\",\"shape\":[11]},\"k2\":[1,2,3,4,5,6,7,8,9,10,11]},\"selected\":{\"id\":\"2994\"},\"selection_policy\":{\"id\":\"3021\"}},\"id\":\"2993\",\"type\":\"ColumnDataSource\"},{\"attributes\":{\"children\":[{\"id\":\"2963\"}],\"height\":300,\"margin\":[0,0,0,0],\"name\":\"Row02986\",\"sizing_mode\":\"fixed\",\"tags\":[\"embedded\"],\"width\":700},\"id\":\"2959\",\"type\":\"Row\"},{\"attributes\":{\"axis\":{\"id\":\"2972\"},\"coordinates\":null,\"grid_line_color\":null,\"group\":null,\"ticker\":null},\"id\":\"2975\",\"type\":\"Grid\"},{\"attributes\":{},\"id\":\"2968\",\"type\":\"LinearScale\"},{\"attributes\":{\"axis_label\":\"k2\",\"coordinates\":null,\"formatter\":{\"id\":\"3004\"},\"group\":null,\"major_label_policy\":{\"id\":\"3005\"},\"ticker\":{\"id\":\"3002\"}},\"id\":\"2972\",\"type\":\"LinearAxis\"}],\"root_ids\":[\"2959\"]},\"title\":\"Bokeh Application\",\"version\":\"2.4.3\"}};\n",
       "    var render_items = [{\"docid\":\"4ad33620-ff41-41b3-b365-a6264c68ecd1\",\"root_ids\":[\"2959\"],\"roots\":{\"2959\":\"7fc9d920-735d-4613-8355-3dc8421028cc\"}}];\n",
       "    root.Bokeh.embed.embed_items_notebook(docs_json, render_items);\n",
       "    for (const render_item of render_items) {\n",
       "      for (const root_id of render_item.root_ids) {\n",
       "\tconst id_el = document.getElementById(root_id)\n",
       "\tif (id_el.children.length && (id_el.children[0].className === 'bk-root')) {\n",
       "\t  const root_el = id_el.children[0]\n",
       "\t  root_el.id = root_el.id + '-rendered'\n",
       "\t}\n",
       "      }\n",
       "    }\n",
       "  }\n",
       "  if (root.Bokeh !== undefined && root.Bokeh.Panel !== undefined) {\n",
       "    embed_document(root);\n",
       "  } else {\n",
       "    var attempts = 0;\n",
       "    var timer = setInterval(function(root) {\n",
       "      if (root.Bokeh !== undefined && root.Bokeh.Panel !== undefined) {\n",
       "        clearInterval(timer);\n",
       "        embed_document(root);\n",
       "      } else if (document.readyState == \"complete\") {\n",
       "        attempts++;\n",
       "        if (attempts > 200) {\n",
       "          clearInterval(timer);\n",
       "          console.log(\"Bokeh: ERROR: Unable to run BokehJS code because BokehJS library is missing\");\n",
       "        }\n",
       "      }\n",
       "    }, 25, root)\n",
       "  }\n",
       "})(window);</script>"
      ],
      "text/plain": [
       ":Curve   [k2]   (inertia2)"
      ]
     },
     "execution_count": 45,
     "metadata": {
      "application/vnd.holoviews_exec.v0+json": {
       "id": "2959"
      }
     },
     "output_type": "execute_result"
    }
   ],
   "source": [
    "# Plot a line chart with all the inertia values computed with \n",
    "\n",
    "# the different values of k to visually identify the optimal value for k.\n",
    "elbow_pca_df.hvplot.line(\n",
    "    x = \"k2\",\n",
    "    y = \"inertia2\",\n",
    "    xticks = k2,\n",
    "    title = \"elbow_pca_chart\"\n",
    ")"
   ]
  },
  {
   "attachments": {},
   "cell_type": "markdown",
   "metadata": {},
   "source": [
    "#### Answer the following questions: \n",
    "\n",
    "* **Question:** What is the best value for `k` when using the PCA data?\n",
    "\n",
    "  * **Answer:**  The best value for \"k\" using the PCA method would be 2.\n",
    "\n",
    "\n",
    "* **Question:** Does it differ from the best k value found using the original data?\n",
    "\n",
    "  * **Answer:** Yes, it differs. The k-value for the original data was 3 while its value is 2 using the PCA data."
   ]
  },
  {
   "attachments": {},
   "cell_type": "markdown",
   "metadata": {},
   "source": [
    "### Cluster Cryptocurrencies with K-means Using the PCA Data"
   ]
  },
  {
   "cell_type": "code",
   "execution_count": 58,
   "metadata": {},
   "outputs": [],
   "source": [
    "# Initialize the K-Means model using the best value for k\n",
    "model = KMeans(n_clusters=4, random_state = 1)"
   ]
  },
  {
   "cell_type": "code",
   "execution_count": 59,
   "metadata": {},
   "outputs": [
    {
     "name": "stderr",
     "output_type": "stream",
     "text": [
      "c:\\Users\\bhart\\anaconda3\\envs\\dev\\lib\\site-packages\\sklearn\\cluster\\_kmeans.py:870: FutureWarning: The default value of `n_init` will change from 10 to 'auto' in 1.4. Set the value of `n_init` explicitly to suppress the warning\n",
      "  warnings.warn(\n",
      "c:\\Users\\bhart\\anaconda3\\envs\\dev\\lib\\site-packages\\sklearn\\cluster\\_kmeans.py:1382: UserWarning: KMeans is known to have a memory leak on Windows with MKL, when there are less chunks than available threads. You can avoid it by setting the environment variable OMP_NUM_THREADS=1.\n",
      "  warnings.warn(\n"
     ]
    },
    {
     "data": {
      "text/html": [
       "<style>#sk-container-id-5 {color: black;background-color: white;}#sk-container-id-5 pre{padding: 0;}#sk-container-id-5 div.sk-toggleable {background-color: white;}#sk-container-id-5 label.sk-toggleable__label {cursor: pointer;display: block;width: 100%;margin-bottom: 0;padding: 0.3em;box-sizing: border-box;text-align: center;}#sk-container-id-5 label.sk-toggleable__label-arrow:before {content: \"▸\";float: left;margin-right: 0.25em;color: #696969;}#sk-container-id-5 label.sk-toggleable__label-arrow:hover:before {color: black;}#sk-container-id-5 div.sk-estimator:hover label.sk-toggleable__label-arrow:before {color: black;}#sk-container-id-5 div.sk-toggleable__content {max-height: 0;max-width: 0;overflow: hidden;text-align: left;background-color: #f0f8ff;}#sk-container-id-5 div.sk-toggleable__content pre {margin: 0.2em;color: black;border-radius: 0.25em;background-color: #f0f8ff;}#sk-container-id-5 input.sk-toggleable__control:checked~div.sk-toggleable__content {max-height: 200px;max-width: 100%;overflow: auto;}#sk-container-id-5 input.sk-toggleable__control:checked~label.sk-toggleable__label-arrow:before {content: \"▾\";}#sk-container-id-5 div.sk-estimator input.sk-toggleable__control:checked~label.sk-toggleable__label {background-color: #d4ebff;}#sk-container-id-5 div.sk-label input.sk-toggleable__control:checked~label.sk-toggleable__label {background-color: #d4ebff;}#sk-container-id-5 input.sk-hidden--visually {border: 0;clip: rect(1px 1px 1px 1px);clip: rect(1px, 1px, 1px, 1px);height: 1px;margin: -1px;overflow: hidden;padding: 0;position: absolute;width: 1px;}#sk-container-id-5 div.sk-estimator {font-family: monospace;background-color: #f0f8ff;border: 1px dotted black;border-radius: 0.25em;box-sizing: border-box;margin-bottom: 0.5em;}#sk-container-id-5 div.sk-estimator:hover {background-color: #d4ebff;}#sk-container-id-5 div.sk-parallel-item::after {content: \"\";width: 100%;border-bottom: 1px solid gray;flex-grow: 1;}#sk-container-id-5 div.sk-label:hover label.sk-toggleable__label {background-color: #d4ebff;}#sk-container-id-5 div.sk-serial::before {content: \"\";position: absolute;border-left: 1px solid gray;box-sizing: border-box;top: 0;bottom: 0;left: 50%;z-index: 0;}#sk-container-id-5 div.sk-serial {display: flex;flex-direction: column;align-items: center;background-color: white;padding-right: 0.2em;padding-left: 0.2em;position: relative;}#sk-container-id-5 div.sk-item {position: relative;z-index: 1;}#sk-container-id-5 div.sk-parallel {display: flex;align-items: stretch;justify-content: center;background-color: white;position: relative;}#sk-container-id-5 div.sk-item::before, #sk-container-id-5 div.sk-parallel-item::before {content: \"\";position: absolute;border-left: 1px solid gray;box-sizing: border-box;top: 0;bottom: 0;left: 50%;z-index: -1;}#sk-container-id-5 div.sk-parallel-item {display: flex;flex-direction: column;z-index: 1;position: relative;background-color: white;}#sk-container-id-5 div.sk-parallel-item:first-child::after {align-self: flex-end;width: 50%;}#sk-container-id-5 div.sk-parallel-item:last-child::after {align-self: flex-start;width: 50%;}#sk-container-id-5 div.sk-parallel-item:only-child::after {width: 0;}#sk-container-id-5 div.sk-dashed-wrapped {border: 1px dashed gray;margin: 0 0.4em 0.5em 0.4em;box-sizing: border-box;padding-bottom: 0.4em;background-color: white;}#sk-container-id-5 div.sk-label label {font-family: monospace;font-weight: bold;display: inline-block;line-height: 1.2em;}#sk-container-id-5 div.sk-label-container {text-align: center;}#sk-container-id-5 div.sk-container {/* jupyter's `normalize.less` sets `[hidden] { display: none; }` but bootstrap.min.css set `[hidden] { display: none !important; }` so we also need the `!important` here to be able to override the default hidden behavior on the sphinx rendered scikit-learn.org. See: https://github.com/scikit-learn/scikit-learn/issues/21755 */display: inline-block !important;position: relative;}#sk-container-id-5 div.sk-text-repr-fallback {display: none;}</style><div id=\"sk-container-id-5\" class=\"sk-top-container\"><div class=\"sk-text-repr-fallback\"><pre>KMeans(n_clusters=4, random_state=1)</pre><b>In a Jupyter environment, please rerun this cell to show the HTML representation or trust the notebook. <br />On GitHub, the HTML representation is unable to render, please try loading this page with nbviewer.org.</b></div><div class=\"sk-container\" hidden><div class=\"sk-item\"><div class=\"sk-estimator sk-toggleable\"><input class=\"sk-toggleable__control sk-hidden--visually\" id=\"sk-estimator-id-5\" type=\"checkbox\" checked><label for=\"sk-estimator-id-5\" class=\"sk-toggleable__label sk-toggleable__label-arrow\">KMeans</label><div class=\"sk-toggleable__content\"><pre>KMeans(n_clusters=4, random_state=1)</pre></div></div></div></div></div>"
      ],
      "text/plain": [
       "KMeans(n_clusters=4, random_state=1)"
      ]
     },
     "execution_count": 59,
     "metadata": {},
     "output_type": "execute_result"
    }
   ],
   "source": [
    "# Fit the K-Means model using the PCA data\n",
    "model.fit(market_pca_df)"
   ]
  },
  {
   "cell_type": "code",
   "execution_count": 60,
   "metadata": {},
   "outputs": [
    {
     "data": {
      "text/plain": [
       "array([1, 1, 0, 0, 1, 1, 1, 1, 1, 0, 0, 0, 0, 1, 0, 1, 0, 0, 1, 0, 0, 1,\n",
       "       0, 0, 0, 0, 0, 0, 1, 0, 0, 0, 2, 1, 0, 0, 3, 0, 0, 0, 0])"
      ]
     },
     "execution_count": 60,
     "metadata": {},
     "output_type": "execute_result"
    }
   ],
   "source": [
    "# Predict the clusters to group the cryptocurrencies using the PCA data\n",
    "predictions = model.predict(market_pca_df)\n",
    "# Print the resulting array of cluster values.\n",
    "predictions"
   ]
  },
  {
   "cell_type": "code",
   "execution_count": 61,
   "metadata": {},
   "outputs": [
    {
     "data": {
      "text/html": [
       "<div>\n",
       "<style scoped>\n",
       "    .dataframe tbody tr th:only-of-type {\n",
       "        vertical-align: middle;\n",
       "    }\n",
       "\n",
       "    .dataframe tbody tr th {\n",
       "        vertical-align: top;\n",
       "    }\n",
       "\n",
       "    .dataframe thead th {\n",
       "        text-align: right;\n",
       "    }\n",
       "</style>\n",
       "<table border=\"1\" class=\"dataframe\">\n",
       "  <thead>\n",
       "    <tr style=\"text-align: right;\">\n",
       "      <th></th>\n",
       "      <th>PCA1</th>\n",
       "      <th>PCA2</th>\n",
       "      <th>PCA3</th>\n",
       "      <th>labels</th>\n",
       "    </tr>\n",
       "    <tr>\n",
       "      <th>crypto_names</th>\n",
       "      <th></th>\n",
       "      <th></th>\n",
       "      <th></th>\n",
       "      <th></th>\n",
       "    </tr>\n",
       "  </thead>\n",
       "  <tbody>\n",
       "    <tr>\n",
       "      <th>bitcoin</th>\n",
       "      <td>-0.600667</td>\n",
       "      <td>0.842760</td>\n",
       "      <td>0.461595</td>\n",
       "      <td>1</td>\n",
       "    </tr>\n",
       "    <tr>\n",
       "      <th>ethereum</th>\n",
       "      <td>-0.458261</td>\n",
       "      <td>0.458466</td>\n",
       "      <td>0.952877</td>\n",
       "      <td>1</td>\n",
       "    </tr>\n",
       "    <tr>\n",
       "      <th>tether</th>\n",
       "      <td>-0.433070</td>\n",
       "      <td>-0.168126</td>\n",
       "      <td>-0.641752</td>\n",
       "      <td>0</td>\n",
       "    </tr>\n",
       "    <tr>\n",
       "      <th>ripple</th>\n",
       "      <td>-0.471835</td>\n",
       "      <td>-0.222660</td>\n",
       "      <td>-0.479053</td>\n",
       "      <td>0</td>\n",
       "    </tr>\n",
       "    <tr>\n",
       "      <th>bitcoin-cash</th>\n",
       "      <td>-1.157800</td>\n",
       "      <td>2.041209</td>\n",
       "      <td>1.859715</td>\n",
       "      <td>1</td>\n",
       "    </tr>\n",
       "  </tbody>\n",
       "</table>\n",
       "</div>"
      ],
      "text/plain": [
       "                  PCA1      PCA2      PCA3  labels\n",
       "crypto_names                                      \n",
       "bitcoin      -0.600667  0.842760  0.461595       1\n",
       "ethereum     -0.458261  0.458466  0.952877       1\n",
       "tether       -0.433070 -0.168126 -0.641752       0\n",
       "ripple       -0.471835 -0.222660 -0.479053       0\n",
       "bitcoin-cash -1.157800  2.041209  1.859715       1"
      ]
     },
     "execution_count": 61,
     "metadata": {},
     "output_type": "execute_result"
    }
   ],
   "source": [
    "# Create a copy of the DataFrame with the PCA data\n",
    "market_prediction_pca_df = market_pca_df.copy()\n",
    "# Add a new column to the DataFrame with the predicted clusters\n",
    "market_prediction_pca_df[\"labels\"] = predictions\n",
    "\n",
    "\n",
    "# Display sample data\n",
    "market_prediction_pca_df.head()"
   ]
  },
  {
   "cell_type": "code",
   "execution_count": 62,
   "metadata": {},
   "outputs": [
    {
     "data": {},
     "metadata": {},
     "output_type": "display_data"
    },
    {
     "data": {
      "application/vnd.holoviews_exec.v0+json": "",
      "text/html": [
       "<div id='3998'>\n",
       "  <div class=\"bk-root\" id=\"b03385d8-ffc5-4a3a-8008-2fd0f9991085\" data-root-id=\"3998\"></div>\n",
       "</div>\n",
       "<script type=\"application/javascript\">(function(root) {\n",
       "  function embed_document(root) {\n",
       "    var docs_json = {\"c7eff4bb-39f2-4dba-aeb6-2e58a9c4723c\":{\"defs\":[{\"extends\":null,\"module\":null,\"name\":\"ReactiveHTML1\",\"overrides\":[],\"properties\":[]},{\"extends\":null,\"module\":null,\"name\":\"FlexBox1\",\"overrides\":[],\"properties\":[{\"default\":\"flex-start\",\"kind\":null,\"name\":\"align_content\"},{\"default\":\"flex-start\",\"kind\":null,\"name\":\"align_items\"},{\"default\":\"row\",\"kind\":null,\"name\":\"flex_direction\"},{\"default\":\"wrap\",\"kind\":null,\"name\":\"flex_wrap\"},{\"default\":\"flex-start\",\"kind\":null,\"name\":\"justify_content\"}]},{\"extends\":null,\"module\":null,\"name\":\"GridStack1\",\"overrides\":[],\"properties\":[{\"default\":\"warn\",\"kind\":null,\"name\":\"mode\"},{\"default\":null,\"kind\":null,\"name\":\"ncols\"},{\"default\":null,\"kind\":null,\"name\":\"nrows\"},{\"default\":true,\"kind\":null,\"name\":\"allow_resize\"},{\"default\":true,\"kind\":null,\"name\":\"allow_drag\"},{\"default\":[],\"kind\":null,\"name\":\"state\"}]},{\"extends\":null,\"module\":null,\"name\":\"click1\",\"overrides\":[],\"properties\":[{\"default\":\"\",\"kind\":null,\"name\":\"terminal_output\"},{\"default\":\"\",\"kind\":null,\"name\":\"debug_name\"},{\"default\":0,\"kind\":null,\"name\":\"clears\"}]},{\"extends\":null,\"module\":null,\"name\":\"NotificationAreaBase1\",\"overrides\":[],\"properties\":[{\"default\":\"bottom-right\",\"kind\":null,\"name\":\"position\"},{\"default\":0,\"kind\":null,\"name\":\"_clear\"}]},{\"extends\":null,\"module\":null,\"name\":\"NotificationArea1\",\"overrides\":[],\"properties\":[{\"default\":[],\"kind\":null,\"name\":\"notifications\"},{\"default\":\"bottom-right\",\"kind\":null,\"name\":\"position\"},{\"default\":0,\"kind\":null,\"name\":\"_clear\"},{\"default\":[{\"background\":\"#ffc107\",\"icon\":{\"className\":\"fas fa-exclamation-triangle\",\"color\":\"white\",\"tagName\":\"i\"},\"type\":\"warning\"},{\"background\":\"#007bff\",\"icon\":{\"className\":\"fas fa-info-circle\",\"color\":\"white\",\"tagName\":\"i\"},\"type\":\"info\"}],\"kind\":null,\"name\":\"types\"}]},{\"extends\":null,\"module\":null,\"name\":\"Notification\",\"overrides\":[],\"properties\":[{\"default\":null,\"kind\":null,\"name\":\"background\"},{\"default\":3000,\"kind\":null,\"name\":\"duration\"},{\"default\":null,\"kind\":null,\"name\":\"icon\"},{\"default\":\"\",\"kind\":null,\"name\":\"message\"},{\"default\":null,\"kind\":null,\"name\":\"notification_type\"},{\"default\":false,\"kind\":null,\"name\":\"_destroyed\"}]},{\"extends\":null,\"module\":null,\"name\":\"TemplateActions1\",\"overrides\":[],\"properties\":[{\"default\":0,\"kind\":null,\"name\":\"open_modal\"},{\"default\":0,\"kind\":null,\"name\":\"close_modal\"}]},{\"extends\":null,\"module\":null,\"name\":\"MaterialTemplateActions1\",\"overrides\":[],\"properties\":[{\"default\":0,\"kind\":null,\"name\":\"open_modal\"},{\"default\":0,\"kind\":null,\"name\":\"close_modal\"}]}],\"roots\":{\"references\":[{\"attributes\":{\"angle\":{\"value\":0.0},\"fill_alpha\":{\"value\":1.0},\"fill_color\":{\"value\":\"#e5ae38\"},\"hatch_alpha\":{\"value\":1.0},\"hatch_color\":{\"value\":\"#e5ae38\"},\"hatch_scale\":{\"value\":12.0},\"hatch_weight\":{\"value\":1.0},\"line_alpha\":{\"value\":1.0},\"line_cap\":{\"value\":\"butt\"},\"line_color\":{\"value\":\"#e5ae38\"},\"line_dash\":{\"value\":[]},\"line_dash_offset\":{\"value\":0},\"line_join\":{\"value\":\"bevel\"},\"line_width\":{\"value\":1},\"marker\":{\"value\":\"circle\"},\"size\":{\"value\":5.477225575051661},\"x\":{\"field\":\"PCA1\"},\"y\":{\"field\":\"PCA2\"}},\"id\":\"4107\",\"type\":\"Scatter\"},{\"attributes\":{\"label\":{\"value\":\"3\"},\"renderers\":[{\"id\":\"4114\"}]},\"id\":\"4132\",\"type\":\"LegendItem\"},{\"attributes\":{\"fill_alpha\":{\"value\":0.2},\"fill_color\":{\"value\":\"#30a2da\"},\"hatch_alpha\":{\"value\":0.2},\"hatch_color\":{\"value\":\"#30a2da\"},\"line_alpha\":{\"value\":0.2},\"line_color\":{\"value\":\"#30a2da\"},\"size\":{\"value\":5.477225575051661},\"x\":{\"field\":\"PCA1\"},\"y\":{\"field\":\"PCA2\"}},\"id\":\"4046\",\"type\":\"Scatter\"},{\"attributes\":{\"fill_alpha\":{\"value\":0.1},\"fill_color\":{\"value\":\"#30a2da\"},\"hatch_alpha\":{\"value\":0.1},\"hatch_color\":{\"value\":\"#30a2da\"},\"line_alpha\":{\"value\":0.1},\"line_color\":{\"value\":\"#30a2da\"},\"size\":{\"value\":5.477225575051661},\"x\":{\"field\":\"PCA1\"},\"y\":{\"field\":\"PCA2\"}},\"id\":\"4045\",\"type\":\"Scatter\"},{\"attributes\":{\"source\":{\"id\":\"4084\"}},\"id\":\"4091\",\"type\":\"CDSView\"},{\"attributes\":{\"click_policy\":\"mute\",\"coordinates\":null,\"group\":null,\"items\":[{\"id\":\"4060\"},{\"id\":\"4082\"},{\"id\":\"4106\"},{\"id\":\"4132\"}],\"location\":[0,0],\"title\":\"labels\"},\"id\":\"4059\",\"type\":\"Legend\"},{\"attributes\":{\"data\":{\"PCA1\":{\"__ndarray__\":\"ZBQ7s2krE0A=\",\"dtype\":\"float64\",\"order\":\"little\",\"shape\":[1]},\"PCA2\":{\"__ndarray__\":\"CFrQWxoSG0A=\",\"dtype\":\"float64\",\"order\":\"little\",\"shape\":[1]},\"crypto_names\":[\"celsius-degree-token\"],\"labels\":[3]},\"selected\":{\"id\":\"4109\"},\"selection_policy\":{\"id\":\"4129\"}},\"id\":\"4108\",\"type\":\"ColumnDataSource\"},{\"attributes\":{\"source\":{\"id\":\"4041\"}},\"id\":\"4048\",\"type\":\"CDSView\"},{\"attributes\":{\"angle\":{\"value\":0.0},\"fill_alpha\":{\"value\":1.0},\"fill_color\":{\"value\":\"#fc4f30\"},\"hatch_alpha\":{\"value\":1.0},\"hatch_color\":{\"value\":\"#fc4f30\"},\"hatch_scale\":{\"value\":12.0},\"hatch_weight\":{\"value\":1.0},\"line_alpha\":{\"value\":1.0},\"line_cap\":{\"value\":\"butt\"},\"line_color\":{\"value\":\"#fc4f30\"},\"line_dash\":{\"value\":[]},\"line_dash_offset\":{\"value\":0},\"line_join\":{\"value\":\"bevel\"},\"line_width\":{\"value\":1},\"marker\":{\"value\":\"circle\"},\"size\":{\"value\":5.477225575051661},\"x\":{\"field\":\"PCA1\"},\"y\":{\"field\":\"PCA2\"}},\"id\":\"4083\",\"type\":\"Scatter\"},{\"attributes\":{\"coordinates\":null,\"data_source\":{\"id\":\"4041\"},\"glyph\":{\"id\":\"4044\"},\"group\":null,\"hover_glyph\":null,\"muted_glyph\":{\"id\":\"4046\"},\"nonselection_glyph\":{\"id\":\"4045\"},\"selection_glyph\":{\"id\":\"4061\"},\"view\":{\"id\":\"4048\"}},\"id\":\"4047\",\"type\":\"GlyphRenderer\"},{\"attributes\":{},\"id\":\"4129\",\"type\":\"UnionRenderers\"},{\"attributes\":{\"source\":{\"id\":\"4108\"}},\"id\":\"4115\",\"type\":\"CDSView\"},{\"attributes\":{},\"id\":\"4109\",\"type\":\"Selection\"},{\"attributes\":{},\"id\":\"4012\",\"type\":\"LinearScale\"},{\"attributes\":{\"data\":{\"PCA1\":{\"__ndarray__\":\"CfXQrqo447+90e2+JFTdvz0Tj0NZhvK/79IJ1HGH4L/4WkdgdNjcv+r9x3tOHta/iW1M83DI5L8quU+KvvmuP7IxxVNFeum/ss6LH/eZ07+93W/HIlbjv0nz5tCaNdu/tUmjFh7m2L8=\",\"dtype\":\"float64\",\"order\":\"little\",\"shape\":[13]},\"PCA2\":{\"__ndarray__\":\"pwJY8+P36j94P81egFfdP6hEN3tlVABAc6RxTss29j+6ZPC8/ZDgP3/E/UiRV+c/iC0795eo2z+Q9tOGdUYHQCyknptkpN+/Z0Nue2CC5j9qCxibCnrqP+h0su7rjN8/SUntLg0gxT8=\",\"dtype\":\"float64\",\"order\":\"little\",\"shape\":[13]},\"crypto_names\":[\"bitcoin\",\"ethereum\",\"bitcoin-cash\",\"binancecoin\",\"chainlink\",\"cardano\",\"litecoin\",\"monero\",\"tezos\",\"cosmos\",\"wrapped-bitcoin\",\"zcash\",\"maker\"],\"labels\":[1,1,1,1,1,1,1,1,1,1,1,1,1]},\"selected\":{\"id\":\"4063\"},\"selection_policy\":{\"id\":\"4079\"}},\"id\":\"4062\",\"type\":\"ColumnDataSource\"},{\"attributes\":{\"fill_alpha\":{\"value\":0.2},\"fill_color\":{\"value\":\"#6d904f\"},\"hatch_alpha\":{\"value\":0.2},\"hatch_color\":{\"value\":\"#6d904f\"},\"line_alpha\":{\"value\":0.2},\"line_color\":{\"value\":\"#6d904f\"},\"size\":{\"value\":5.477225575051661},\"x\":{\"field\":\"PCA1\"},\"y\":{\"field\":\"PCA2\"}},\"id\":\"4113\",\"type\":\"Scatter\"},{\"attributes\":{\"end\":7.8341355963371155,\"reset_end\":7.8341355963371155,\"reset_start\":-4.963347456561399,\"start\":-4.963347456561399,\"tags\":[[[\"PCA2\",\"PCA2\",null]]]},\"id\":\"4000\",\"type\":\"Range1d\"},{\"attributes\":{\"label\":{\"value\":\"0\"},\"renderers\":[{\"id\":\"4047\"}]},\"id\":\"4060\",\"type\":\"LegendItem\"},{\"attributes\":{\"callback\":null,\"renderers\":[{\"id\":\"4047\"},{\"id\":\"4068\"},{\"id\":\"4090\"},{\"id\":\"4114\"}],\"tags\":[\"hv_created\"],\"tooltips\":[[\"labels\",\"@{labels}\"],[\"PCA1\",\"@{PCA1}\"],[\"PCA2\",\"@{PCA2}\"],[\"crypto_names\",\"@{crypto_names}\"]]},\"id\":\"4001\",\"type\":\"HoverTool\"},{\"attributes\":{\"angle\":{\"value\":0.0},\"fill_alpha\":{\"value\":1.0},\"fill_color\":{\"value\":\"#30a2da\"},\"hatch_alpha\":{\"value\":1.0},\"hatch_color\":{\"value\":\"#30a2da\"},\"hatch_scale\":{\"value\":12.0},\"hatch_weight\":{\"value\":1.0},\"line_alpha\":{\"value\":1.0},\"line_cap\":{\"value\":\"butt\"},\"line_color\":{\"value\":\"#30a2da\"},\"line_dash\":{\"value\":[]},\"line_dash_offset\":{\"value\":0},\"line_join\":{\"value\":\"bevel\"},\"line_width\":{\"value\":1},\"marker\":{\"value\":\"circle\"},\"size\":{\"value\":5.477225575051661},\"x\":{\"field\":\"PCA1\"},\"y\":{\"field\":\"PCA2\"}},\"id\":\"4061\",\"type\":\"Scatter\"},{\"attributes\":{\"fill_alpha\":{\"value\":0.1},\"fill_color\":{\"value\":\"#6d904f\"},\"hatch_alpha\":{\"value\":0.1},\"hatch_color\":{\"value\":\"#6d904f\"},\"line_alpha\":{\"value\":0.1},\"line_color\":{\"value\":\"#6d904f\"},\"size\":{\"value\":5.477225575051661},\"x\":{\"field\":\"PCA1\"},\"y\":{\"field\":\"PCA2\"}},\"id\":\"4112\",\"type\":\"Scatter\"},{\"attributes\":{\"source\":{\"id\":\"4062\"}},\"id\":\"4069\",\"type\":\"CDSView\"},{\"attributes\":{\"coordinates\":null,\"data_source\":{\"id\":\"4108\"},\"glyph\":{\"id\":\"4111\"},\"group\":null,\"hover_glyph\":null,\"muted_glyph\":{\"id\":\"4113\"},\"nonselection_glyph\":{\"id\":\"4112\"},\"selection_glyph\":{\"id\":\"4133\"},\"view\":{\"id\":\"4115\"}},\"id\":\"4114\",\"type\":\"GlyphRenderer\"},{\"attributes\":{},\"id\":\"4010\",\"type\":\"LinearScale\"},{\"attributes\":{},\"id\":\"4103\",\"type\":\"UnionRenderers\"},{\"attributes\":{\"label\":{\"value\":\"2\"},\"renderers\":[{\"id\":\"4090\"}]},\"id\":\"4106\",\"type\":\"LegendItem\"},{\"attributes\":{\"fill_color\":{\"value\":\"#fc4f30\"},\"hatch_color\":{\"value\":\"#fc4f30\"},\"line_color\":{\"value\":\"#fc4f30\"},\"size\":{\"value\":5.477225575051661},\"x\":{\"field\":\"PCA1\"},\"y\":{\"field\":\"PCA2\"}},\"id\":\"4065\",\"type\":\"Scatter\"},{\"attributes\":{\"data\":{\"PCA1\":{\"__ndarray__\":\"QJZ8amq3278YYXw2izLev+Dya5vXSei/5/tzoPfEz79+h/TX3g7cv5oZGVOKMOa/eUwjp68s2b/FA7sJMGewP+ayldMFTN+/C+kqwdFu4L8PF4kx+yzXv7sSO2dvc9q/yxEoujMU2r+jZdmqtnzjP+FN1mNC0Ny/oNi9MiN46L8usu9uVM3hv+hGFZE5agVArCC8UEGl47/CvuS6vI7ivxcKKydStOs/PZO6/7yWvD+vXMBgQDzkv5EbmkYF++K/Cr1JmQJS3b8d4q/49hDTvw==\",\"dtype\":\"float64\",\"order\":\"little\",\"shape\":[26]},\"PCA2\":{\"__ndarray__\":\"M9F7TyqFxb8/j1UaIIDMv0XhzCbqwMm/vzoUYyAF9r9hZsaEbXHGv/fIIJL6Ut6/wCq0IHiyu79kgFApNFH0v+ugJl5vcue/bZKaSllHwr+piEuGzZTvv1r5wy5akuW/Yd3jHmozy7+jF2SFdAjiPw4uIf2aVMO/HeuFsYSS4L9QbbiA5wL/vxOOJoz3k4y/WI8PRXSt3r/k3rYoLM7Wv2v+1spVGALAtSEohoZp2z83qFKDbN0AwI0R7msnAJY/9vStmbtfwb9LSPDBzXbIvw==\",\"dtype\":\"float64\",\"order\":\"little\",\"shape\":[26]},\"crypto_names\":[\"tether\",\"ripple\",\"bitcoin-cash-sv\",\"crypto-com-chain\",\"usd-coin\",\"eos\",\"tron\",\"okb\",\"stellar\",\"cdai\",\"neo\",\"leo-token\",\"huobi-token\",\"nem\",\"binance-usd\",\"iota\",\"vechain\",\"theta-token\",\"dash\",\"ethereum-classic\",\"havven\",\"omisego\",\"ontology\",\"ftx-token\",\"true-usd\",\"digibyte\"],\"labels\":[0,0,0,0,0,0,0,0,0,0,0,0,0,0,0,0,0,0,0,0,0,0,0,0,0,0]},\"selected\":{\"id\":\"4042\"},\"selection_policy\":{\"id\":\"4056\"}},\"id\":\"4041\",\"type\":\"ColumnDataSource\"},{\"attributes\":{},\"id\":\"4079\",\"type\":\"UnionRenderers\"},{\"attributes\":{\"fill_color\":{\"value\":\"#e5ae38\"},\"hatch_color\":{\"value\":\"#e5ae38\"},\"line_color\":{\"value\":\"#e5ae38\"},\"size\":{\"value\":5.477225575051661},\"x\":{\"field\":\"PCA1\"},\"y\":{\"field\":\"PCA2\"}},\"id\":\"4087\",\"type\":\"Scatter\"},{\"attributes\":{\"below\":[{\"id\":\"4014\"}],\"center\":[{\"id\":\"4017\"},{\"id\":\"4021\"}],\"height\":300,\"left\":[{\"id\":\"4018\"}],\"margin\":[5,5,5,5],\"min_border_bottom\":10,\"min_border_left\":10,\"min_border_right\":10,\"min_border_top\":10,\"renderers\":[{\"id\":\"4047\"},{\"id\":\"4068\"},{\"id\":\"4090\"},{\"id\":\"4114\"}],\"right\":[{\"id\":\"4059\"}],\"sizing_mode\":\"fixed\",\"title\":{\"id\":\"4006\"},\"toolbar\":{\"id\":\"4028\"},\"width\":700,\"x_range\":{\"id\":\"3999\"},\"x_scale\":{\"id\":\"4010\"},\"y_range\":{\"id\":\"4000\"},\"y_scale\":{\"id\":\"4012\"}},\"id\":\"4005\",\"subtype\":\"Figure\",\"type\":\"Plot\"},{\"attributes\":{\"coordinates\":null,\"group\":null,\"text_color\":\"black\",\"text_font_size\":\"12pt\"},\"id\":\"4006\",\"type\":\"Title\"},{\"attributes\":{},\"id\":\"4085\",\"type\":\"Selection\"},{\"attributes\":{\"axis_label\":\"PCA1\",\"coordinates\":null,\"formatter\":{\"id\":\"4036\"},\"group\":null,\"major_label_policy\":{\"id\":\"4037\"},\"ticker\":{\"id\":\"4015\"}},\"id\":\"4014\",\"type\":\"LinearAxis\"},{\"attributes\":{\"fill_alpha\":{\"value\":0.2},\"fill_color\":{\"value\":\"#e5ae38\"},\"hatch_alpha\":{\"value\":0.2},\"hatch_color\":{\"value\":\"#e5ae38\"},\"line_alpha\":{\"value\":0.2},\"line_color\":{\"value\":\"#e5ae38\"},\"size\":{\"value\":5.477225575051661},\"x\":{\"field\":\"PCA1\"},\"y\":{\"field\":\"PCA2\"}},\"id\":\"4089\",\"type\":\"Scatter\"},{\"attributes\":{},\"id\":\"4015\",\"type\":\"BasicTicker\"},{\"attributes\":{\"axis_label\":\"PCA2\",\"coordinates\":null,\"formatter\":{\"id\":\"4039\"},\"group\":null,\"major_label_policy\":{\"id\":\"4040\"},\"ticker\":{\"id\":\"4019\"}},\"id\":\"4018\",\"type\":\"LinearAxis\"},{\"attributes\":{},\"id\":\"4023\",\"type\":\"PanTool\"},{\"attributes\":{},\"id\":\"4042\",\"type\":\"Selection\"},{\"attributes\":{\"fill_alpha\":{\"value\":0.1},\"fill_color\":{\"value\":\"#e5ae38\"},\"hatch_alpha\":{\"value\":0.1},\"hatch_color\":{\"value\":\"#e5ae38\"},\"line_alpha\":{\"value\":0.1},\"line_color\":{\"value\":\"#e5ae38\"},\"size\":{\"value\":5.477225575051661},\"x\":{\"field\":\"PCA1\"},\"y\":{\"field\":\"PCA2\"}},\"id\":\"4088\",\"type\":\"Scatter\"},{\"attributes\":{\"axis\":{\"id\":\"4018\"},\"coordinates\":null,\"dimension\":1,\"grid_line_color\":null,\"group\":null,\"ticker\":null},\"id\":\"4021\",\"type\":\"Grid\"},{\"attributes\":{\"fill_color\":{\"value\":\"#6d904f\"},\"hatch_color\":{\"value\":\"#6d904f\"},\"line_color\":{\"value\":\"#6d904f\"},\"size\":{\"value\":5.477225575051661},\"x\":{\"field\":\"PCA1\"},\"y\":{\"field\":\"PCA2\"}},\"id\":\"4111\",\"type\":\"Scatter\"},{\"attributes\":{},\"id\":\"4019\",\"type\":\"BasicTicker\"},{\"attributes\":{\"coordinates\":null,\"data_source\":{\"id\":\"4084\"},\"glyph\":{\"id\":\"4087\"},\"group\":null,\"hover_glyph\":null,\"muted_glyph\":{\"id\":\"4089\"},\"nonselection_glyph\":{\"id\":\"4088\"},\"selection_glyph\":{\"id\":\"4107\"},\"view\":{\"id\":\"4091\"}},\"id\":\"4090\",\"type\":\"GlyphRenderer\"},{\"attributes\":{\"data\":{\"PCA1\":{\"__ndarray__\":\"QVWiy5MtIEA=\",\"dtype\":\"float64\",\"order\":\"little\",\"shape\":[1]},\"PCA2\":{\"__ndarray__\":\"Zw3w8dQsD8A=\",\"dtype\":\"float64\",\"order\":\"little\",\"shape\":[1]},\"crypto_names\":[\"ethlend\"],\"labels\":[2]},\"selected\":{\"id\":\"4085\"},\"selection_policy\":{\"id\":\"4103\"}},\"id\":\"4084\",\"type\":\"ColumnDataSource\"},{\"attributes\":{},\"id\":\"4024\",\"type\":\"WheelZoomTool\"},{\"attributes\":{},\"id\":\"4056\",\"type\":\"UnionRenderers\"},{\"attributes\":{},\"id\":\"4022\",\"type\":\"SaveTool\"},{\"attributes\":{\"angle\":{\"value\":0.0},\"fill_alpha\":{\"value\":1.0},\"fill_color\":{\"value\":\"#6d904f\"},\"hatch_alpha\":{\"value\":1.0},\"hatch_color\":{\"value\":\"#6d904f\"},\"hatch_scale\":{\"value\":12.0},\"hatch_weight\":{\"value\":1.0},\"line_alpha\":{\"value\":1.0},\"line_cap\":{\"value\":\"butt\"},\"line_color\":{\"value\":\"#6d904f\"},\"line_dash\":{\"value\":[]},\"line_dash_offset\":{\"value\":0},\"line_join\":{\"value\":\"bevel\"},\"line_width\":{\"value\":1},\"marker\":{\"value\":\"circle\"},\"size\":{\"value\":5.477225575051661},\"x\":{\"field\":\"PCA1\"},\"y\":{\"field\":\"PCA2\"}},\"id\":\"4133\",\"type\":\"Scatter\"},{\"attributes\":{\"axis\":{\"id\":\"4014\"},\"coordinates\":null,\"grid_line_color\":null,\"group\":null,\"ticker\":null},\"id\":\"4017\",\"type\":\"Grid\"},{\"attributes\":{\"overlay\":{\"id\":\"4027\"}},\"id\":\"4025\",\"type\":\"BoxZoomTool\"},{\"attributes\":{},\"id\":\"4026\",\"type\":\"ResetTool\"},{\"attributes\":{},\"id\":\"4063\",\"type\":\"Selection\"},{\"attributes\":{\"bottom_units\":\"screen\",\"coordinates\":null,\"fill_alpha\":0.5,\"fill_color\":\"lightgrey\",\"group\":null,\"left_units\":\"screen\",\"level\":\"overlay\",\"line_alpha\":1.0,\"line_color\":\"black\",\"line_dash\":[4,4],\"line_width\":2,\"right_units\":\"screen\",\"syncable\":false,\"top_units\":\"screen\"},\"id\":\"4027\",\"type\":\"BoxAnnotation\"},{\"attributes\":{\"fill_alpha\":{\"value\":0.2},\"fill_color\":{\"value\":\"#fc4f30\"},\"hatch_alpha\":{\"value\":0.2},\"hatch_color\":{\"value\":\"#fc4f30\"},\"line_alpha\":{\"value\":0.2},\"line_color\":{\"value\":\"#fc4f30\"},\"size\":{\"value\":5.477225575051661},\"x\":{\"field\":\"PCA1\"},\"y\":{\"field\":\"PCA2\"}},\"id\":\"4067\",\"type\":\"Scatter\"},{\"attributes\":{\"active_drag\":{\"id\":\"4023\"},\"active_scroll\":{\"id\":\"4024\"},\"tools\":[{\"id\":\"4001\"},{\"id\":\"4022\"},{\"id\":\"4023\"},{\"id\":\"4024\"},{\"id\":\"4025\"},{\"id\":\"4026\"}]},\"id\":\"4028\",\"type\":\"Toolbar\"},{\"attributes\":{\"end\":8.485310422788713,\"reset_end\":8.485310422788713,\"reset_start\":-1.5540921804637513,\"start\":-1.5540921804637513,\"tags\":[[[\"PCA1\",\"PCA1\",null]]]},\"id\":\"3999\",\"type\":\"Range1d\"},{\"attributes\":{\"children\":[{\"id\":\"4005\"}],\"height\":300,\"margin\":[0,0,0,0],\"name\":\"Row04237\",\"sizing_mode\":\"fixed\",\"tags\":[\"embedded\"],\"width\":700},\"id\":\"3998\",\"type\":\"Row\"},{\"attributes\":{},\"id\":\"4036\",\"type\":\"BasicTickFormatter\"},{\"attributes\":{\"fill_alpha\":{\"value\":0.1},\"fill_color\":{\"value\":\"#fc4f30\"},\"hatch_alpha\":{\"value\":0.1},\"hatch_color\":{\"value\":\"#fc4f30\"},\"line_alpha\":{\"value\":0.1},\"line_color\":{\"value\":\"#fc4f30\"},\"size\":{\"value\":5.477225575051661},\"x\":{\"field\":\"PCA1\"},\"y\":{\"field\":\"PCA2\"}},\"id\":\"4066\",\"type\":\"Scatter\"},{\"attributes\":{\"label\":{\"value\":\"1\"},\"renderers\":[{\"id\":\"4068\"}]},\"id\":\"4082\",\"type\":\"LegendItem\"},{\"attributes\":{\"coordinates\":null,\"data_source\":{\"id\":\"4062\"},\"glyph\":{\"id\":\"4065\"},\"group\":null,\"hover_glyph\":null,\"muted_glyph\":{\"id\":\"4067\"},\"nonselection_glyph\":{\"id\":\"4066\"},\"selection_glyph\":{\"id\":\"4083\"},\"view\":{\"id\":\"4069\"}},\"id\":\"4068\",\"type\":\"GlyphRenderer\"},{\"attributes\":{\"fill_color\":{\"value\":\"#30a2da\"},\"hatch_color\":{\"value\":\"#30a2da\"},\"line_color\":{\"value\":\"#30a2da\"},\"size\":{\"value\":5.477225575051661},\"x\":{\"field\":\"PCA1\"},\"y\":{\"field\":\"PCA2\"}},\"id\":\"4044\",\"type\":\"Scatter\"},{\"attributes\":{},\"id\":\"4037\",\"type\":\"AllLabels\"},{\"attributes\":{},\"id\":\"4039\",\"type\":\"BasicTickFormatter\"},{\"attributes\":{},\"id\":\"4040\",\"type\":\"AllLabels\"}],\"root_ids\":[\"3998\"]},\"title\":\"Bokeh Application\",\"version\":\"2.4.3\"}};\n",
       "    var render_items = [{\"docid\":\"c7eff4bb-39f2-4dba-aeb6-2e58a9c4723c\",\"root_ids\":[\"3998\"],\"roots\":{\"3998\":\"b03385d8-ffc5-4a3a-8008-2fd0f9991085\"}}];\n",
       "    root.Bokeh.embed.embed_items_notebook(docs_json, render_items);\n",
       "    for (const render_item of render_items) {\n",
       "      for (const root_id of render_item.root_ids) {\n",
       "\tconst id_el = document.getElementById(root_id)\n",
       "\tif (id_el.children.length && (id_el.children[0].className === 'bk-root')) {\n",
       "\t  const root_el = id_el.children[0]\n",
       "\t  root_el.id = root_el.id + '-rendered'\n",
       "\t}\n",
       "      }\n",
       "    }\n",
       "  }\n",
       "  if (root.Bokeh !== undefined && root.Bokeh.Panel !== undefined) {\n",
       "    embed_document(root);\n",
       "  } else {\n",
       "    var attempts = 0;\n",
       "    var timer = setInterval(function(root) {\n",
       "      if (root.Bokeh !== undefined && root.Bokeh.Panel !== undefined) {\n",
       "        clearInterval(timer);\n",
       "        embed_document(root);\n",
       "      } else if (document.readyState == \"complete\") {\n",
       "        attempts++;\n",
       "        if (attempts > 200) {\n",
       "          clearInterval(timer);\n",
       "          console.log(\"Bokeh: ERROR: Unable to run BokehJS code because BokehJS library is missing\");\n",
       "        }\n",
       "      }\n",
       "    }, 25, root)\n",
       "  }\n",
       "})(window);</script>"
      ],
      "text/plain": [
       ":NdOverlay   [labels]\n",
       "   :Scatter   [PCA1]   (PCA2,crypto_names)"
      ]
     },
     "execution_count": 62,
     "metadata": {
      "application/vnd.holoviews_exec.v0+json": {
       "id": "3998"
      }
     },
     "output_type": "execute_result"
    }
   ],
   "source": [
    "# Create a scatter plot using hvPlot by setting \n",
    "# `x=\"PC1\"` and `y=\"PC2\"`. \n",
    "# Color the graph points with the labels found using K-Means and \n",
    "# add the crypto name in the `hover_cols` parameter to identify \n",
    "# the cryptocurrency represented by each data point.\n",
    "market_prediction_pca_df.hvplot.scatter(\n",
    "    x = \"PCA1\",\n",
    "    y = \"PCA2\",\n",
    "    by = \"labels\",\n",
    "    hover_cols = [\"crypto_names\"]\n",
    ")"
   ]
  },
  {
   "attachments": {},
   "cell_type": "markdown",
   "metadata": {},
   "source": [
    "### Visualize and Compare the Results\n",
    "\n",
    "In this section, you will visually analyze the cluster analysis results by contrasting the outcome with and without using the optimization techniques."
   ]
  },
  {
   "cell_type": "code",
   "execution_count": 63,
   "metadata": {},
   "outputs": [
    {
     "data": {},
     "metadata": {},
     "output_type": "display_data"
    },
    {
     "data": {
      "application/vnd.holoviews_exec.v0+json": "",
      "text/html": [
       "<div id='4235'>\n",
       "  <div class=\"bk-root\" id=\"dea216c9-89a1-4fc6-9aed-094286379038\" data-root-id=\"4235\"></div>\n",
       "</div>\n",
       "<script type=\"application/javascript\">(function(root) {\n",
       "  function embed_document(root) {\n",
       "    var docs_json = {\"3016751d-429d-4584-ab5c-645bc2687fdd\":{\"defs\":[{\"extends\":null,\"module\":null,\"name\":\"ReactiveHTML1\",\"overrides\":[],\"properties\":[]},{\"extends\":null,\"module\":null,\"name\":\"FlexBox1\",\"overrides\":[],\"properties\":[{\"default\":\"flex-start\",\"kind\":null,\"name\":\"align_content\"},{\"default\":\"flex-start\",\"kind\":null,\"name\":\"align_items\"},{\"default\":\"row\",\"kind\":null,\"name\":\"flex_direction\"},{\"default\":\"wrap\",\"kind\":null,\"name\":\"flex_wrap\"},{\"default\":\"flex-start\",\"kind\":null,\"name\":\"justify_content\"}]},{\"extends\":null,\"module\":null,\"name\":\"GridStack1\",\"overrides\":[],\"properties\":[{\"default\":\"warn\",\"kind\":null,\"name\":\"mode\"},{\"default\":null,\"kind\":null,\"name\":\"ncols\"},{\"default\":null,\"kind\":null,\"name\":\"nrows\"},{\"default\":true,\"kind\":null,\"name\":\"allow_resize\"},{\"default\":true,\"kind\":null,\"name\":\"allow_drag\"},{\"default\":[],\"kind\":null,\"name\":\"state\"}]},{\"extends\":null,\"module\":null,\"name\":\"click1\",\"overrides\":[],\"properties\":[{\"default\":\"\",\"kind\":null,\"name\":\"terminal_output\"},{\"default\":\"\",\"kind\":null,\"name\":\"debug_name\"},{\"default\":0,\"kind\":null,\"name\":\"clears\"}]},{\"extends\":null,\"module\":null,\"name\":\"NotificationAreaBase1\",\"overrides\":[],\"properties\":[{\"default\":\"bottom-right\",\"kind\":null,\"name\":\"position\"},{\"default\":0,\"kind\":null,\"name\":\"_clear\"}]},{\"extends\":null,\"module\":null,\"name\":\"NotificationArea1\",\"overrides\":[],\"properties\":[{\"default\":[],\"kind\":null,\"name\":\"notifications\"},{\"default\":\"bottom-right\",\"kind\":null,\"name\":\"position\"},{\"default\":0,\"kind\":null,\"name\":\"_clear\"},{\"default\":[{\"background\":\"#ffc107\",\"icon\":{\"className\":\"fas fa-exclamation-triangle\",\"color\":\"white\",\"tagName\":\"i\"},\"type\":\"warning\"},{\"background\":\"#007bff\",\"icon\":{\"className\":\"fas fa-info-circle\",\"color\":\"white\",\"tagName\":\"i\"},\"type\":\"info\"}],\"kind\":null,\"name\":\"types\"}]},{\"extends\":null,\"module\":null,\"name\":\"Notification\",\"overrides\":[],\"properties\":[{\"default\":null,\"kind\":null,\"name\":\"background\"},{\"default\":3000,\"kind\":null,\"name\":\"duration\"},{\"default\":null,\"kind\":null,\"name\":\"icon\"},{\"default\":\"\",\"kind\":null,\"name\":\"message\"},{\"default\":null,\"kind\":null,\"name\":\"notification_type\"},{\"default\":false,\"kind\":null,\"name\":\"_destroyed\"}]},{\"extends\":null,\"module\":null,\"name\":\"TemplateActions1\",\"overrides\":[],\"properties\":[{\"default\":0,\"kind\":null,\"name\":\"open_modal\"},{\"default\":0,\"kind\":null,\"name\":\"close_modal\"}]},{\"extends\":null,\"module\":null,\"name\":\"MaterialTemplateActions1\",\"overrides\":[],\"properties\":[{\"default\":0,\"kind\":null,\"name\":\"open_modal\"},{\"default\":0,\"kind\":null,\"name\":\"close_modal\"}]}],\"roots\":{\"references\":[{\"attributes\":{\"line_color\":\"#30a2da\",\"line_width\":2,\"x\":{\"field\":\"k\"},\"y\":{\"field\":\"inertia\"}},\"id\":\"4277\",\"type\":\"Line\"},{\"attributes\":{\"active_drag\":{\"id\":\"4312\"},\"active_scroll\":{\"id\":\"4313\"},\"tools\":[{\"id\":\"4293\"},{\"id\":\"4311\"},{\"id\":\"4312\"},{\"id\":\"4313\"},{\"id\":\"4314\"},{\"id\":\"4315\"}]},\"id\":\"4317\",\"type\":\"Toolbar\"},{\"attributes\":{\"coordinates\":null,\"data_source\":{\"id\":\"4269\"},\"glyph\":{\"id\":\"4272\"},\"group\":null,\"hover_glyph\":null,\"muted_glyph\":{\"id\":\"4274\"},\"nonselection_glyph\":{\"id\":\"4273\"},\"selection_glyph\":{\"id\":\"4277\"},\"view\":{\"id\":\"4276\"}},\"id\":\"4275\",\"type\":\"GlyphRenderer\"},{\"attributes\":{\"line_alpha\":0.1,\"line_color\":\"#30a2da\",\"line_width\":2,\"x\":{\"field\":\"k\"},\"y\":{\"field\":\"inertia\"}},\"id\":\"4273\",\"type\":\"Line\"},{\"attributes\":{},\"id\":\"4325\",\"type\":\"Selection\"},{\"attributes\":{},\"id\":\"4335\",\"type\":\"BasicTickFormatter\"},{\"attributes\":{\"line_color\":\"#30a2da\",\"line_width\":2,\"x\":{\"field\":\"k2\"},\"y\":{\"field\":\"inertia2\"}},\"id\":\"4327\",\"type\":\"Line\"},{\"attributes\":{\"coordinates\":null,\"data_source\":{\"id\":\"4324\"},\"glyph\":{\"id\":\"4327\"},\"group\":null,\"hover_glyph\":null,\"muted_glyph\":{\"id\":\"4329\"},\"nonselection_glyph\":{\"id\":\"4328\"},\"selection_glyph\":{\"id\":\"4332\"},\"view\":{\"id\":\"4331\"}},\"id\":\"4330\",\"type\":\"GlyphRenderer\"},{\"attributes\":{\"line_alpha\":0.2,\"line_color\":\"#30a2da\",\"line_width\":2,\"x\":{\"field\":\"k2\"},\"y\":{\"field\":\"inertia2\"}},\"id\":\"4329\",\"type\":\"Line\"},{\"attributes\":{\"line_color\":\"#30a2da\",\"line_width\":2,\"x\":{\"field\":\"k2\"},\"y\":{\"field\":\"inertia2\"}},\"id\":\"4332\",\"type\":\"Line\"},{\"attributes\":{\"ticks\":[1,2,3,4,5,6,7,8,9,10,11]},\"id\":\"4278\",\"type\":\"FixedTicker\"},{\"attributes\":{\"ticks\":[1,2,3,4,5,6,7,8,9,10,11]},\"id\":\"4333\",\"type\":\"FixedTicker\"},{\"attributes\":{\"end\":281.7499955455994,\"reset_end\":281.7499955455994,\"reset_start\":-16.76092418688608,\"start\":-16.76092418688608,\"tags\":[[[\"inertia2\",\"inertia2\",null]]]},\"id\":\"4292\",\"type\":\"Range1d\"},{\"attributes\":{\"children\":[{\"id\":\"4368\"},{\"id\":\"4366\"}]},\"id\":\"4369\",\"type\":\"Column\"},{\"attributes\":{},\"id\":\"4281\",\"type\":\"AllLabels\"},{\"attributes\":{\"end\":11.0,\"reset_end\":11.0,\"reset_start\":1.0,\"start\":1.0,\"tags\":[[[\"k\",\"k\",null]]]},\"id\":\"4236\",\"type\":\"Range1d\"},{\"attributes\":{},\"id\":\"4336\",\"type\":\"AllLabels\"},{\"attributes\":{},\"id\":\"4286\",\"type\":\"AllLabels\"},{\"attributes\":{\"below\":[{\"id\":\"4248\"}],\"center\":[{\"id\":\"4251\"},{\"id\":\"4255\"}],\"height\":300,\"left\":[{\"id\":\"4252\"}],\"margin\":null,\"min_border_bottom\":10,\"min_border_left\":10,\"min_border_right\":10,\"min_border_top\":10,\"renderers\":[{\"id\":\"4275\"}],\"sizing_mode\":\"fixed\",\"title\":{\"id\":\"4240\"},\"toolbar\":{\"id\":\"4262\"},\"toolbar_location\":null,\"width\":700,\"x_range\":{\"id\":\"4236\"},\"x_scale\":{\"id\":\"4244\"},\"y_range\":{\"id\":\"4237\"},\"y_scale\":{\"id\":\"4246\"}},\"id\":\"4239\",\"subtype\":\"Figure\",\"type\":\"Plot\"},{\"attributes\":{},\"id\":\"4301\",\"type\":\"LinearScale\"},{\"attributes\":{},\"id\":\"4341\",\"type\":\"AllLabels\"},{\"attributes\":{\"children\":[[{\"id\":\"4239\"},0,0],[{\"id\":\"4294\"},0,1]]},\"id\":\"4366\",\"type\":\"GridBox\"},{\"attributes\":{\"line_color\":\"#30a2da\",\"line_width\":2,\"x\":{\"field\":\"k\"},\"y\":{\"field\":\"inertia\"}},\"id\":\"4272\",\"type\":\"Line\"},{\"attributes\":{\"toolbars\":[{\"id\":\"4262\"},{\"id\":\"4317\"}],\"tools\":[{\"id\":\"4238\"},{\"id\":\"4256\"},{\"id\":\"4257\"},{\"id\":\"4258\"},{\"id\":\"4259\"},{\"id\":\"4260\"},{\"id\":\"4293\"},{\"id\":\"4311\"},{\"id\":\"4312\"},{\"id\":\"4313\"},{\"id\":\"4314\"},{\"id\":\"4315\"}]},\"id\":\"4367\",\"type\":\"ProxyToolbar\"},{\"attributes\":{\"toolbar\":{\"id\":\"4367\"},\"toolbar_location\":\"above\"},\"id\":\"4368\",\"type\":\"ToolbarBox\"},{\"attributes\":{},\"id\":\"4362\",\"type\":\"UnionRenderers\"},{\"attributes\":{\"axis_label\":\"inertia\",\"coordinates\":null,\"formatter\":{\"id\":\"4285\"},\"group\":null,\"major_label_policy\":{\"id\":\"4286\"},\"ticker\":{\"id\":\"4253\"}},\"id\":\"4252\",\"type\":\"LinearAxis\"},{\"attributes\":{\"axis\":{\"id\":\"4248\"},\"coordinates\":null,\"grid_line_color\":null,\"group\":null,\"ticker\":null},\"id\":\"4251\",\"type\":\"Grid\"},{\"attributes\":{},\"id\":\"4352\",\"type\":\"UnionRenderers\"},{\"attributes\":{},\"id\":\"4315\",\"type\":\"ResetTool\"},{\"attributes\":{\"overlay\":{\"id\":\"4316\"}},\"id\":\"4314\",\"type\":\"BoxZoomTool\"},{\"attributes\":{},\"id\":\"4312\",\"type\":\"PanTool\"},{\"attributes\":{\"axis\":{\"id\":\"4303\"},\"coordinates\":null,\"grid_line_color\":null,\"group\":null,\"ticker\":null},\"id\":\"4306\",\"type\":\"Grid\"},{\"attributes\":{},\"id\":\"4285\",\"type\":\"BasicTickFormatter\"},{\"attributes\":{\"bottom_units\":\"screen\",\"coordinates\":null,\"fill_alpha\":0.5,\"fill_color\":\"lightgrey\",\"group\":null,\"left_units\":\"screen\",\"level\":\"overlay\",\"line_alpha\":1.0,\"line_color\":\"black\",\"line_dash\":[4,4],\"line_width\":2,\"right_units\":\"screen\",\"syncable\":false,\"top_units\":\"screen\"},\"id\":\"4316\",\"type\":\"BoxAnnotation\"},{\"attributes\":{},\"id\":\"4313\",\"type\":\"WheelZoomTool\"},{\"attributes\":{\"coordinates\":null,\"group\":null,\"text\":\"Elbow Curve\",\"text_color\":\"black\",\"text_font_size\":\"12pt\"},\"id\":\"4240\",\"type\":\"Title\"},{\"attributes\":{\"callback\":null,\"renderers\":[{\"id\":\"4275\"}],\"tags\":[\"hv_created\"],\"tooltips\":[[\"k\",\"@{k}\"],[\"inertia\",\"@{inertia}\"]]},\"id\":\"4238\",\"type\":\"HoverTool\"},{\"attributes\":{\"axis_label\":\"k\",\"coordinates\":null,\"formatter\":{\"id\":\"4280\"},\"group\":null,\"major_label_policy\":{\"id\":\"4281\"},\"ticker\":{\"id\":\"4278\"}},\"id\":\"4248\",\"type\":\"LinearAxis\"},{\"attributes\":{\"source\":{\"id\":\"4324\"}},\"id\":\"4331\",\"type\":\"CDSView\"},{\"attributes\":{},\"id\":\"4311\",\"type\":\"SaveTool\"},{\"attributes\":{\"axis\":{\"id\":\"4252\"},\"coordinates\":null,\"dimension\":1,\"grid_line_color\":null,\"group\":null,\"ticker\":null},\"id\":\"4255\",\"type\":\"Grid\"},{\"attributes\":{},\"id\":\"4257\",\"type\":\"PanTool\"},{\"attributes\":{},\"id\":\"4253\",\"type\":\"BasicTicker\"},{\"attributes\":{},\"id\":\"4258\",\"type\":\"WheelZoomTool\"},{\"attributes\":{\"axis\":{\"id\":\"4307\"},\"coordinates\":null,\"dimension\":1,\"grid_line_color\":null,\"group\":null,\"ticker\":null},\"id\":\"4310\",\"type\":\"Grid\"},{\"attributes\":{\"axis_label\":\"inertia2\",\"coordinates\":null,\"formatter\":{\"id\":\"4340\"},\"group\":null,\"major_label_policy\":{\"id\":\"4341\"},\"ticker\":{\"id\":\"4308\"}},\"id\":\"4307\",\"type\":\"LinearAxis\"},{\"attributes\":{\"data\":{\"inertia\":{\"__ndarray__\":\"AAAAAADwcUByhzI6P3poQOCRvNowzF5AGO6ulG/BU0C72mWm+llQQANT1dt+d0pAYKWsAtf9R0BIP/pR46RCQKMXKkrlh0BACvf32p3HPED4Or+nnT85QA==\",\"dtype\":\"float64\",\"order\":\"little\",\"shape\":[11]},\"k\":[1,2,3,4,5,6,7,8,9,10,11]},\"selected\":{\"id\":\"4270\"},\"selection_policy\":{\"id\":\"4352\"}},\"id\":\"4269\",\"type\":\"ColumnDataSource\"},{\"attributes\":{},\"id\":\"4256\",\"type\":\"SaveTool\"},{\"attributes\":{},\"id\":\"4244\",\"type\":\"LinearScale\"},{\"attributes\":{},\"id\":\"4340\",\"type\":\"BasicTickFormatter\"},{\"attributes\":{\"overlay\":{\"id\":\"4261\"}},\"id\":\"4259\",\"type\":\"BoxZoomTool\"},{\"attributes\":{\"axis_label\":\"k2\",\"coordinates\":null,\"formatter\":{\"id\":\"4335\"},\"group\":null,\"major_label_policy\":{\"id\":\"4336\"},\"ticker\":{\"id\":\"4333\"}},\"id\":\"4303\",\"type\":\"LinearAxis\"},{\"attributes\":{},\"id\":\"4260\",\"type\":\"ResetTool\"},{\"attributes\":{},\"id\":\"4246\",\"type\":\"LinearScale\"},{\"attributes\":{\"children\":[{\"id\":\"4369\"}],\"margin\":[0,0,0,0],\"name\":\"Row04495\",\"tags\":[\"embedded\"]},\"id\":\"4235\",\"type\":\"Row\"},{\"attributes\":{\"end\":11.0,\"reset_end\":11.0,\"reset_start\":1.0,\"start\":1.0,\"tags\":[[[\"k2\",\"k2\",null]]]},\"id\":\"4291\",\"type\":\"Range1d\"},{\"attributes\":{\"data\":{\"inertia2\":{\"__ndarray__\":\"DAAmQfwNcEBIVJAi3bxkQPgsl3eTcVdAmoiJ/i7VSEDILV+RFi1DQH9sYu90njtAzscYf1EiNUCloXDDCnAxQNH9UzpPfCtAKdPWkEP4JECDKeZq3zogQA==\",\"dtype\":\"float64\",\"order\":\"little\",\"shape\":[11]},\"k2\":[1,2,3,4,5,6,7,8,9,10,11]},\"selected\":{\"id\":\"4325\"},\"selection_policy\":{\"id\":\"4362\"}},\"id\":\"4324\",\"type\":\"ColumnDataSource\"},{\"attributes\":{\"bottom_units\":\"screen\",\"coordinates\":null,\"fill_alpha\":0.5,\"fill_color\":\"lightgrey\",\"group\":null,\"left_units\":\"screen\",\"level\":\"overlay\",\"line_alpha\":1.0,\"line_color\":\"black\",\"line_dash\":[4,4],\"line_width\":2,\"right_units\":\"screen\",\"syncable\":false,\"top_units\":\"screen\"},\"id\":\"4261\",\"type\":\"BoxAnnotation\"},{\"attributes\":{\"active_drag\":{\"id\":\"4257\"},\"active_scroll\":{\"id\":\"4258\"},\"tools\":[{\"id\":\"4238\"},{\"id\":\"4256\"},{\"id\":\"4257\"},{\"id\":\"4258\"},{\"id\":\"4259\"},{\"id\":\"4260\"}]},\"id\":\"4262\",\"type\":\"Toolbar\"},{\"attributes\":{\"line_alpha\":0.1,\"line_color\":\"#30a2da\",\"line_width\":2,\"x\":{\"field\":\"k2\"},\"y\":{\"field\":\"inertia2\"}},\"id\":\"4328\",\"type\":\"Line\"},{\"attributes\":{\"coordinates\":null,\"group\":null,\"text\":\"elbow_pca_chart\",\"text_color\":\"black\",\"text_font_size\":\"12pt\"},\"id\":\"4295\",\"type\":\"Title\"},{\"attributes\":{\"callback\":null,\"renderers\":[{\"id\":\"4330\"}],\"tags\":[\"hv_created\"],\"tooltips\":[[\"k2\",\"@{k2}\"],[\"inertia2\",\"@{inertia2}\"]]},\"id\":\"4293\",\"type\":\"HoverTool\"},{\"attributes\":{\"end\":313.1751500621617,\"reset_end\":313.1751500621617,\"reset_start\":-0.926650683778945,\"start\":-0.926650683778945,\"tags\":[[[\"inertia\",\"inertia\",null]]]},\"id\":\"4237\",\"type\":\"Range1d\"},{\"attributes\":{},\"id\":\"4270\",\"type\":\"Selection\"},{\"attributes\":{\"source\":{\"id\":\"4269\"}},\"id\":\"4276\",\"type\":\"CDSView\"},{\"attributes\":{\"below\":[{\"id\":\"4303\"}],\"center\":[{\"id\":\"4306\"},{\"id\":\"4310\"}],\"height\":300,\"left\":[{\"id\":\"4307\"}],\"margin\":null,\"min_border_bottom\":10,\"min_border_left\":10,\"min_border_right\":10,\"min_border_top\":10,\"renderers\":[{\"id\":\"4330\"}],\"sizing_mode\":\"fixed\",\"title\":{\"id\":\"4295\"},\"toolbar\":{\"id\":\"4317\"},\"toolbar_location\":null,\"width\":700,\"x_range\":{\"id\":\"4291\"},\"x_scale\":{\"id\":\"4299\"},\"y_range\":{\"id\":\"4292\"},\"y_scale\":{\"id\":\"4301\"}},\"id\":\"4294\",\"subtype\":\"Figure\",\"type\":\"Plot\"},{\"attributes\":{},\"id\":\"4280\",\"type\":\"BasicTickFormatter\"},{\"attributes\":{},\"id\":\"4308\",\"type\":\"BasicTicker\"},{\"attributes\":{\"line_alpha\":0.2,\"line_color\":\"#30a2da\",\"line_width\":2,\"x\":{\"field\":\"k\"},\"y\":{\"field\":\"inertia\"}},\"id\":\"4274\",\"type\":\"Line\"},{\"attributes\":{},\"id\":\"4299\",\"type\":\"LinearScale\"}],\"root_ids\":[\"4235\"]},\"title\":\"Bokeh Application\",\"version\":\"2.4.3\"}};\n",
       "    var render_items = [{\"docid\":\"3016751d-429d-4584-ab5c-645bc2687fdd\",\"root_ids\":[\"4235\"],\"roots\":{\"4235\":\"dea216c9-89a1-4fc6-9aed-094286379038\"}}];\n",
       "    root.Bokeh.embed.embed_items_notebook(docs_json, render_items);\n",
       "    for (const render_item of render_items) {\n",
       "      for (const root_id of render_item.root_ids) {\n",
       "\tconst id_el = document.getElementById(root_id)\n",
       "\tif (id_el.children.length && (id_el.children[0].className === 'bk-root')) {\n",
       "\t  const root_el = id_el.children[0]\n",
       "\t  root_el.id = root_el.id + '-rendered'\n",
       "\t}\n",
       "      }\n",
       "    }\n",
       "  }\n",
       "  if (root.Bokeh !== undefined && root.Bokeh.Panel !== undefined) {\n",
       "    embed_document(root);\n",
       "  } else {\n",
       "    var attempts = 0;\n",
       "    var timer = setInterval(function(root) {\n",
       "      if (root.Bokeh !== undefined && root.Bokeh.Panel !== undefined) {\n",
       "        clearInterval(timer);\n",
       "        embed_document(root);\n",
       "      } else if (document.readyState == \"complete\") {\n",
       "        attempts++;\n",
       "        if (attempts > 200) {\n",
       "          clearInterval(timer);\n",
       "          console.log(\"Bokeh: ERROR: Unable to run BokehJS code because BokehJS library is missing\");\n",
       "        }\n",
       "      }\n",
       "    }, 25, root)\n",
       "  }\n",
       "})(window);</script>"
      ],
      "text/plain": [
       ":Layout\n",
       "   .Curve.I  :Curve   [k]   (inertia)\n",
       "   .Curve.II :Curve   [k2]   (inertia2)"
      ]
     },
     "execution_count": 63,
     "metadata": {
      "application/vnd.holoviews_exec.v0+json": {
       "id": "4235"
      }
     },
     "output_type": "execute_result"
    }
   ],
   "source": [
    "# Composite plot to contrast the Elbow curves\n",
    "elbow_df.hvplot.line(x=\"k\", y=\"inertia\", title=\"Elbow Curve\", xticks=k) + elbow_pca_df.hvplot.line(x = \"k2\", y = \"inertia2\", xticks = k2,title = \"elbow_pca_chart\"\n",
    ")"
   ]
  },
  {
   "cell_type": "code",
   "execution_count": 65,
   "metadata": {},
   "outputs": [
    {
     "data": {},
     "metadata": {},
     "output_type": "display_data"
    },
    {
     "data": {
      "application/vnd.holoviews_exec.v0+json": "",
      "text/html": [
       "<div id='4948'>\n",
       "  <div class=\"bk-root\" id=\"26581034-61d1-4bfd-86e4-4985f5778d66\" data-root-id=\"4948\"></div>\n",
       "</div>\n",
       "<script type=\"application/javascript\">(function(root) {\n",
       "  function embed_document(root) {\n",
       "    var docs_json = {\"9ca4789a-0a58-407d-9989-893480cf9918\":{\"defs\":[{\"extends\":null,\"module\":null,\"name\":\"ReactiveHTML1\",\"overrides\":[],\"properties\":[]},{\"extends\":null,\"module\":null,\"name\":\"FlexBox1\",\"overrides\":[],\"properties\":[{\"default\":\"flex-start\",\"kind\":null,\"name\":\"align_content\"},{\"default\":\"flex-start\",\"kind\":null,\"name\":\"align_items\"},{\"default\":\"row\",\"kind\":null,\"name\":\"flex_direction\"},{\"default\":\"wrap\",\"kind\":null,\"name\":\"flex_wrap\"},{\"default\":\"flex-start\",\"kind\":null,\"name\":\"justify_content\"}]},{\"extends\":null,\"module\":null,\"name\":\"GridStack1\",\"overrides\":[],\"properties\":[{\"default\":\"warn\",\"kind\":null,\"name\":\"mode\"},{\"default\":null,\"kind\":null,\"name\":\"ncols\"},{\"default\":null,\"kind\":null,\"name\":\"nrows\"},{\"default\":true,\"kind\":null,\"name\":\"allow_resize\"},{\"default\":true,\"kind\":null,\"name\":\"allow_drag\"},{\"default\":[],\"kind\":null,\"name\":\"state\"}]},{\"extends\":null,\"module\":null,\"name\":\"click1\",\"overrides\":[],\"properties\":[{\"default\":\"\",\"kind\":null,\"name\":\"terminal_output\"},{\"default\":\"\",\"kind\":null,\"name\":\"debug_name\"},{\"default\":0,\"kind\":null,\"name\":\"clears\"}]},{\"extends\":null,\"module\":null,\"name\":\"NotificationAreaBase1\",\"overrides\":[],\"properties\":[{\"default\":\"bottom-right\",\"kind\":null,\"name\":\"position\"},{\"default\":0,\"kind\":null,\"name\":\"_clear\"}]},{\"extends\":null,\"module\":null,\"name\":\"NotificationArea1\",\"overrides\":[],\"properties\":[{\"default\":[],\"kind\":null,\"name\":\"notifications\"},{\"default\":\"bottom-right\",\"kind\":null,\"name\":\"position\"},{\"default\":0,\"kind\":null,\"name\":\"_clear\"},{\"default\":[{\"background\":\"#ffc107\",\"icon\":{\"className\":\"fas fa-exclamation-triangle\",\"color\":\"white\",\"tagName\":\"i\"},\"type\":\"warning\"},{\"background\":\"#007bff\",\"icon\":{\"className\":\"fas fa-info-circle\",\"color\":\"white\",\"tagName\":\"i\"},\"type\":\"info\"}],\"kind\":null,\"name\":\"types\"}]},{\"extends\":null,\"module\":null,\"name\":\"Notification\",\"overrides\":[],\"properties\":[{\"default\":null,\"kind\":null,\"name\":\"background\"},{\"default\":3000,\"kind\":null,\"name\":\"duration\"},{\"default\":null,\"kind\":null,\"name\":\"icon\"},{\"default\":\"\",\"kind\":null,\"name\":\"message\"},{\"default\":null,\"kind\":null,\"name\":\"notification_type\"},{\"default\":false,\"kind\":null,\"name\":\"_destroyed\"}]},{\"extends\":null,\"module\":null,\"name\":\"TemplateActions1\",\"overrides\":[],\"properties\":[{\"default\":0,\"kind\":null,\"name\":\"open_modal\"},{\"default\":0,\"kind\":null,\"name\":\"close_modal\"}]},{\"extends\":null,\"module\":null,\"name\":\"MaterialTemplateActions1\",\"overrides\":[],\"properties\":[{\"default\":0,\"kind\":null,\"name\":\"open_modal\"},{\"default\":0,\"kind\":null,\"name\":\"close_modal\"}]}],\"roots\":{\"references\":[{\"attributes\":{},\"id\":\"5141\",\"type\":\"UnionRenderers\"},{\"attributes\":{\"fill_color\":{\"value\":\"#30a2da\"},\"hatch_color\":{\"value\":\"#30a2da\"},\"line_color\":{\"value\":\"#30a2da\"},\"size\":{\"value\":5.477225575051661},\"x\":{\"field\":\"PCA1\"},\"y\":{\"field\":\"PCA2\"}},\"id\":\"5106\",\"type\":\"Scatter\"},{\"attributes\":{},\"id\":\"5005\",\"type\":\"UnionRenderers\"},{\"attributes\":{\"axis_label\":\"price_change_percentage_24h\",\"coordinates\":null,\"formatter\":{\"id\":\"4985\"},\"group\":null,\"major_label_policy\":{\"id\":\"4986\"},\"ticker\":{\"id\":\"4964\"}},\"id\":\"4963\",\"type\":\"LinearAxis\"},{\"attributes\":{\"coordinates\":null,\"group\":null,\"text_color\":\"black\",\"text_font_size\":\"12pt\"},\"id\":\"5068\",\"type\":\"Title\"},{\"attributes\":{\"callback\":null,\"renderers\":[{\"id\":\"5109\"},{\"id\":\"5130\"},{\"id\":\"5152\"},{\"id\":\"5176\"}],\"tags\":[\"hv_created\"],\"tooltips\":[[\"labels\",\"@{labels}\"],[\"PCA1\",\"@{PCA1}\"],[\"PCA2\",\"@{PCA2}\"],[\"crypto_names\",\"@{crypto_names}\"]]},\"id\":\"5063\",\"type\":\"HoverTool\"},{\"attributes\":{\"source\":{\"id\":\"4990\"}},\"id\":\"4997\",\"type\":\"CDSView\"},{\"attributes\":{},\"id\":\"5072\",\"type\":\"LinearScale\"},{\"attributes\":{},\"id\":\"4972\",\"type\":\"PanTool\"},{\"attributes\":{},\"id\":\"4989\",\"type\":\"AllLabels\"},{\"attributes\":{\"source\":{\"id\":\"5170\"}},\"id\":\"5177\",\"type\":\"CDSView\"},{\"attributes\":{\"axis\":{\"id\":\"4967\"},\"coordinates\":null,\"dimension\":1,\"grid_line_color\":null,\"group\":null,\"ticker\":null},\"id\":\"4970\",\"type\":\"Grid\"},{\"attributes\":{\"below\":[{\"id\":\"5076\"}],\"center\":[{\"id\":\"5079\"},{\"id\":\"5083\"}],\"height\":300,\"left\":[{\"id\":\"5080\"}],\"margin\":null,\"min_border_bottom\":10,\"min_border_left\":10,\"min_border_right\":10,\"min_border_top\":10,\"renderers\":[{\"id\":\"5109\"},{\"id\":\"5130\"},{\"id\":\"5152\"},{\"id\":\"5176\"}],\"right\":[{\"id\":\"5121\"}],\"sizing_mode\":\"fixed\",\"title\":{\"id\":\"5068\"},\"toolbar\":{\"id\":\"5090\"},\"toolbar_location\":null,\"width\":700,\"x_range\":{\"id\":\"5061\"},\"x_scale\":{\"id\":\"5072\"},\"y_range\":{\"id\":\"5062\"},\"y_scale\":{\"id\":\"5074\"}},\"id\":\"5067\",\"subtype\":\"Figure\",\"type\":\"Plot\"},{\"attributes\":{\"axis\":{\"id\":\"4963\"},\"coordinates\":null,\"grid_line_color\":null,\"group\":null,\"ticker\":null},\"id\":\"4966\",\"type\":\"Grid\"},{\"attributes\":{\"fill_alpha\":{\"value\":0.2},\"fill_color\":{\"value\":\"#6d904f\"},\"hatch_alpha\":{\"value\":0.2},\"hatch_color\":{\"value\":\"#6d904f\"},\"line_alpha\":{\"value\":0.2},\"line_color\":{\"value\":\"#6d904f\"},\"size\":{\"value\":5.477225575051661},\"x\":{\"field\":\"PCA1\"},\"y\":{\"field\":\"PCA2\"}},\"id\":\"5175\",\"type\":\"Scatter\"},{\"attributes\":{\"coordinates\":null,\"data_source\":{\"id\":\"5170\"},\"glyph\":{\"id\":\"5173\"},\"group\":null,\"hover_glyph\":null,\"muted_glyph\":{\"id\":\"5175\"},\"nonselection_glyph\":{\"id\":\"5174\"},\"selection_glyph\":{\"id\":\"5195\"},\"view\":{\"id\":\"5177\"}},\"id\":\"5176\",\"type\":\"GlyphRenderer\"},{\"attributes\":{},\"id\":\"4991\",\"type\":\"Selection\"},{\"attributes\":{\"label\":{\"value\":\"3\"},\"renderers\":[{\"id\":\"5176\"}]},\"id\":\"5194\",\"type\":\"LegendItem\"},{\"attributes\":{},\"id\":\"4973\",\"type\":\"WheelZoomTool\"},{\"attributes\":{\"coordinates\":null,\"data_source\":{\"id\":\"4990\"},\"glyph\":{\"id\":\"4993\"},\"group\":null,\"hover_glyph\":null,\"muted_glyph\":{\"id\":\"4995\"},\"nonselection_glyph\":{\"id\":\"4994\"},\"selection_glyph\":{\"id\":\"5010\"},\"view\":{\"id\":\"4997\"}},\"id\":\"4996\",\"type\":\"GlyphRenderer\"},{\"attributes\":{\"end\":8.485310422788713,\"reset_end\":8.485310422788713,\"reset_start\":-1.5540921804637513,\"start\":-1.5540921804637513,\"tags\":[[[\"PCA1\",\"PCA1\",null]]]},\"id\":\"5061\",\"type\":\"Range1d\"},{\"attributes\":{},\"id\":\"4968\",\"type\":\"BasicTicker\"},{\"attributes\":{},\"id\":\"5052\",\"type\":\"UnionRenderers\"},{\"attributes\":{\"fill_alpha\":{\"value\":0.2},\"fill_color\":{\"value\":\"#e5ae38\"},\"hatch_alpha\":{\"value\":0.2},\"hatch_color\":{\"value\":\"#e5ae38\"},\"line_alpha\":{\"value\":0.2},\"line_color\":{\"value\":\"#e5ae38\"},\"size\":{\"value\":5.477225575051661},\"x\":{\"field\":\"PCA1\"},\"y\":{\"field\":\"PCA2\"}},\"id\":\"5151\",\"type\":\"Scatter\"},{\"attributes\":{\"axis_label\":\"price_change_percentage_7d\",\"coordinates\":null,\"formatter\":{\"id\":\"4988\"},\"group\":null,\"major_label_policy\":{\"id\":\"4989\"},\"ticker\":{\"id\":\"4968\"}},\"id\":\"4967\",\"type\":\"LinearAxis\"},{\"attributes\":{\"label\":{\"value\":\"0\"},\"renderers\":[{\"id\":\"5109\"}]},\"id\":\"5122\",\"type\":\"LegendItem\"},{\"attributes\":{},\"id\":\"4959\",\"type\":\"LinearScale\"},{\"attributes\":{\"data\":{\"PCA1\":{\"__ndarray__\":\"QVWiy5MtIEA=\",\"dtype\":\"float64\",\"order\":\"little\",\"shape\":[1]},\"PCA2\":{\"__ndarray__\":\"Zw3w8dQsD8A=\",\"dtype\":\"float64\",\"order\":\"little\",\"shape\":[1]},\"crypto_names\":[\"ethlend\"],\"labels\":[2]},\"selected\":{\"id\":\"5147\"},\"selection_policy\":{\"id\":\"5165\"}},\"id\":\"5146\",\"type\":\"ColumnDataSource\"},{\"attributes\":{},\"id\":\"4971\",\"type\":\"SaveTool\"},{\"attributes\":{},\"id\":\"5104\",\"type\":\"Selection\"},{\"attributes\":{\"below\":[{\"id\":\"4963\"}],\"center\":[{\"id\":\"4966\"},{\"id\":\"4970\"}],\"height\":300,\"left\":[{\"id\":\"4967\"}],\"margin\":null,\"min_border_bottom\":10,\"min_border_left\":10,\"min_border_right\":10,\"min_border_top\":10,\"renderers\":[{\"id\":\"4996\"},{\"id\":\"5017\"},{\"id\":\"5039\"}],\"right\":[{\"id\":\"5008\"}],\"sizing_mode\":\"fixed\",\"title\":{\"id\":\"4955\"},\"toolbar\":{\"id\":\"4977\"},\"toolbar_location\":null,\"width\":700,\"x_range\":{\"id\":\"4949\"},\"x_scale\":{\"id\":\"4959\"},\"y_range\":{\"id\":\"4950\"},\"y_scale\":{\"id\":\"4961\"}},\"id\":\"4954\",\"subtype\":\"Figure\",\"type\":\"Plot\"},{\"attributes\":{\"fill_alpha\":{\"value\":0.1},\"fill_color\":{\"value\":\"#30a2da\"},\"hatch_alpha\":{\"value\":0.1},\"hatch_color\":{\"value\":\"#30a2da\"},\"line_alpha\":{\"value\":0.1},\"line_color\":{\"value\":\"#30a2da\"},\"size\":{\"value\":5.477225575051661},\"x\":{\"field\":\"PCA1\"},\"y\":{\"field\":\"PCA2\"}},\"id\":\"5107\",\"type\":\"Scatter\"},{\"attributes\":{\"coordinates\":null,\"data_source\":{\"id\":\"5103\"},\"glyph\":{\"id\":\"5106\"},\"group\":null,\"hover_glyph\":null,\"muted_glyph\":{\"id\":\"5108\"},\"nonselection_glyph\":{\"id\":\"5107\"},\"selection_glyph\":{\"id\":\"5123\"},\"view\":{\"id\":\"5110\"}},\"id\":\"5109\",\"type\":\"GlyphRenderer\"},{\"attributes\":{\"fill_alpha\":{\"value\":0.2},\"fill_color\":{\"value\":\"#30a2da\"},\"hatch_alpha\":{\"value\":0.2},\"hatch_color\":{\"value\":\"#30a2da\"},\"line_alpha\":{\"value\":0.2},\"line_color\":{\"value\":\"#30a2da\"},\"size\":{\"value\":5.477225575051661},\"x\":{\"field\":\"PCA1\"},\"y\":{\"field\":\"PCA2\"}},\"id\":\"5108\",\"type\":\"Scatter\"},{\"attributes\":{},\"id\":\"5034\",\"type\":\"Selection\"},{\"attributes\":{\"fill_color\":{\"value\":\"#e5ae38\"},\"hatch_color\":{\"value\":\"#e5ae38\"},\"line_color\":{\"value\":\"#e5ae38\"},\"size\":{\"value\":5.477225575051661},\"x\":{\"field\":\"PCA1\"},\"y\":{\"field\":\"PCA2\"}},\"id\":\"5149\",\"type\":\"Scatter\"},{\"attributes\":{\"coordinates\":null,\"data_source\":{\"id\":\"5033\"},\"glyph\":{\"id\":\"5036\"},\"group\":null,\"hover_glyph\":null,\"muted_glyph\":{\"id\":\"5038\"},\"nonselection_glyph\":{\"id\":\"5037\"},\"selection_glyph\":{\"id\":\"5056\"},\"view\":{\"id\":\"5040\"}},\"id\":\"5039\",\"type\":\"GlyphRenderer\"},{\"attributes\":{\"active_drag\":{\"id\":\"5085\"},\"active_scroll\":{\"id\":\"5086\"},\"tools\":[{\"id\":\"5063\"},{\"id\":\"5084\"},{\"id\":\"5085\"},{\"id\":\"5086\"},{\"id\":\"5087\"},{\"id\":\"5088\"}]},\"id\":\"5090\",\"type\":\"Toolbar\"},{\"attributes\":{\"end\":7.8341355963371155,\"reset_end\":7.8341355963371155,\"reset_start\":-4.963347456561399,\"start\":-4.963347456561399,\"tags\":[[[\"PCA2\",\"PCA2\",null]]]},\"id\":\"5062\",\"type\":\"Range1d\"},{\"attributes\":{\"label\":{\"value\":\"0\"},\"renderers\":[{\"id\":\"4996\"}]},\"id\":\"5009\",\"type\":\"LegendItem\"},{\"attributes\":{\"bottom_units\":\"screen\",\"coordinates\":null,\"fill_alpha\":0.5,\"fill_color\":\"lightgrey\",\"group\":null,\"left_units\":\"screen\",\"level\":\"overlay\",\"line_alpha\":1.0,\"line_color\":\"black\",\"line_dash\":[4,4],\"line_width\":2,\"right_units\":\"screen\",\"syncable\":false,\"top_units\":\"screen\"},\"id\":\"4976\",\"type\":\"BoxAnnotation\"},{\"attributes\":{},\"id\":\"5101\",\"type\":\"BasicTickFormatter\"},{\"attributes\":{},\"id\":\"5098\",\"type\":\"BasicTickFormatter\"},{\"attributes\":{\"source\":{\"id\":\"5103\"}},\"id\":\"5110\",\"type\":\"CDSView\"},{\"attributes\":{\"fill_alpha\":{\"value\":0.1},\"fill_color\":{\"value\":\"#e5ae38\"},\"hatch_alpha\":{\"value\":0.1},\"hatch_color\":{\"value\":\"#e5ae38\"},\"line_alpha\":{\"value\":0.1},\"line_color\":{\"value\":\"#e5ae38\"},\"size\":{\"value\":5.477225575051661},\"x\":{\"field\":\"PCA1\"},\"y\":{\"field\":\"PCA2\"}},\"id\":\"5150\",\"type\":\"Scatter\"},{\"attributes\":{\"angle\":{\"value\":0.0},\"fill_alpha\":{\"value\":1.0},\"fill_color\":{\"value\":\"#fc4f30\"},\"hatch_alpha\":{\"value\":1.0},\"hatch_color\":{\"value\":\"#fc4f30\"},\"hatch_scale\":{\"value\":12.0},\"hatch_weight\":{\"value\":1.0},\"line_alpha\":{\"value\":1.0},\"line_cap\":{\"value\":\"butt\"},\"line_color\":{\"value\":\"#fc4f30\"},\"line_dash\":{\"value\":[]},\"line_dash_offset\":{\"value\":0},\"line_join\":{\"value\":\"bevel\"},\"line_width\":{\"value\":1},\"marker\":{\"value\":\"circle\"},\"size\":{\"value\":5.477225575051661},\"x\":{\"field\":\"price_change_percentage_24h\"},\"y\":{\"field\":\"price_change_percentage_7d\"}},\"id\":\"5032\",\"type\":\"Scatter\"},{\"attributes\":{\"toolbars\":[{\"id\":\"4977\"},{\"id\":\"5090\"}],\"tools\":[{\"id\":\"4951\"},{\"id\":\"4971\"},{\"id\":\"4972\"},{\"id\":\"4973\"},{\"id\":\"4974\"},{\"id\":\"4975\"},{\"id\":\"5063\"},{\"id\":\"5084\"},{\"id\":\"5085\"},{\"id\":\"5086\"},{\"id\":\"5087\"},{\"id\":\"5088\"}]},\"id\":\"5233\",\"type\":\"ProxyToolbar\"},{\"attributes\":{\"click_policy\":\"mute\",\"coordinates\":null,\"group\":null,\"items\":[{\"id\":\"5122\"},{\"id\":\"5144\"},{\"id\":\"5168\"},{\"id\":\"5194\"}],\"location\":[0,0],\"title\":\"labels\"},\"id\":\"5121\",\"type\":\"Legend\"},{\"attributes\":{},\"id\":\"4988\",\"type\":\"BasicTickFormatter\"},{\"attributes\":{},\"id\":\"5074\",\"type\":\"LinearScale\"},{\"attributes\":{\"source\":{\"id\":\"5033\"}},\"id\":\"5040\",\"type\":\"CDSView\"},{\"attributes\":{\"axis_label\":\"PCA1\",\"coordinates\":null,\"formatter\":{\"id\":\"5098\"},\"group\":null,\"major_label_policy\":{\"id\":\"5099\"},\"ticker\":{\"id\":\"5077\"}},\"id\":\"5076\",\"type\":\"LinearAxis\"},{\"attributes\":{\"data\":{\"PCA1\":{\"__ndarray__\":\"QJZ8amq3278YYXw2izLev+Dya5vXSei/5/tzoPfEz79+h/TX3g7cv5oZGVOKMOa/eUwjp68s2b/FA7sJMGewP+ayldMFTN+/C+kqwdFu4L8PF4kx+yzXv7sSO2dvc9q/yxEoujMU2r+jZdmqtnzjP+FN1mNC0Ny/oNi9MiN46L8usu9uVM3hv+hGFZE5agVArCC8UEGl47/CvuS6vI7ivxcKKydStOs/PZO6/7yWvD+vXMBgQDzkv5EbmkYF++K/Cr1JmQJS3b8d4q/49hDTvw==\",\"dtype\":\"float64\",\"order\":\"little\",\"shape\":[26]},\"PCA2\":{\"__ndarray__\":\"M9F7TyqFxb8/j1UaIIDMv0XhzCbqwMm/vzoUYyAF9r9hZsaEbXHGv/fIIJL6Ut6/wCq0IHiyu79kgFApNFH0v+ugJl5vcue/bZKaSllHwr+piEuGzZTvv1r5wy5akuW/Yd3jHmozy7+jF2SFdAjiPw4uIf2aVMO/HeuFsYSS4L9QbbiA5wL/vxOOJoz3k4y/WI8PRXSt3r/k3rYoLM7Wv2v+1spVGALAtSEohoZp2z83qFKDbN0AwI0R7msnAJY/9vStmbtfwb9LSPDBzXbIvw==\",\"dtype\":\"float64\",\"order\":\"little\",\"shape\":[26]},\"crypto_names\":[\"tether\",\"ripple\",\"bitcoin-cash-sv\",\"crypto-com-chain\",\"usd-coin\",\"eos\",\"tron\",\"okb\",\"stellar\",\"cdai\",\"neo\",\"leo-token\",\"huobi-token\",\"nem\",\"binance-usd\",\"iota\",\"vechain\",\"theta-token\",\"dash\",\"ethereum-classic\",\"havven\",\"omisego\",\"ontology\",\"ftx-token\",\"true-usd\",\"digibyte\"],\"labels\":[0,0,0,0,0,0,0,0,0,0,0,0,0,0,0,0,0,0,0,0,0,0,0,0,0,0]},\"selected\":{\"id\":\"5104\"},\"selection_policy\":{\"id\":\"5118\"}},\"id\":\"5103\",\"type\":\"ColumnDataSource\"},{\"attributes\":{\"fill_alpha\":{\"value\":0.1},\"fill_color\":{\"value\":\"#30a2da\"},\"hatch_alpha\":{\"value\":0.1},\"hatch_color\":{\"value\":\"#30a2da\"},\"line_alpha\":{\"value\":0.1},\"line_color\":{\"value\":\"#30a2da\"},\"size\":{\"value\":5.477225575051661},\"x\":{\"field\":\"price_change_percentage_24h\"},\"y\":{\"field\":\"price_change_percentage_7d\"}},\"id\":\"4994\",\"type\":\"Scatter\"},{\"attributes\":{\"overlay\":{\"id\":\"4976\"}},\"id\":\"4974\",\"type\":\"BoxZoomTool\"},{\"attributes\":{},\"id\":\"4975\",\"type\":\"ResetTool\"},{\"attributes\":{},\"id\":\"5165\",\"type\":\"UnionRenderers\"},{\"attributes\":{},\"id\":\"5077\",\"type\":\"BasicTicker\"},{\"attributes\":{\"angle\":{\"value\":0.0},\"fill_alpha\":{\"value\":1.0},\"fill_color\":{\"value\":\"#e5ae38\"},\"hatch_alpha\":{\"value\":1.0},\"hatch_color\":{\"value\":\"#e5ae38\"},\"hatch_scale\":{\"value\":12.0},\"hatch_weight\":{\"value\":1.0},\"line_alpha\":{\"value\":1.0},\"line_cap\":{\"value\":\"butt\"},\"line_color\":{\"value\":\"#e5ae38\"},\"line_dash\":{\"value\":[]},\"line_dash_offset\":{\"value\":0},\"line_join\":{\"value\":\"bevel\"},\"line_width\":{\"value\":1},\"marker\":{\"value\":\"circle\"},\"size\":{\"value\":5.477225575051661},\"x\":{\"field\":\"PCA1\"},\"y\":{\"field\":\"PCA2\"}},\"id\":\"5169\",\"type\":\"Scatter\"},{\"attributes\":{},\"id\":\"5099\",\"type\":\"AllLabels\"},{\"attributes\":{\"angle\":{\"value\":0.0},\"fill_alpha\":{\"value\":1.0},\"fill_color\":{\"value\":\"#30a2da\"},\"hatch_alpha\":{\"value\":1.0},\"hatch_color\":{\"value\":\"#30a2da\"},\"hatch_scale\":{\"value\":12.0},\"hatch_weight\":{\"value\":1.0},\"line_alpha\":{\"value\":1.0},\"line_cap\":{\"value\":\"butt\"},\"line_color\":{\"value\":\"#30a2da\"},\"line_dash\":{\"value\":[]},\"line_dash_offset\":{\"value\":0},\"line_join\":{\"value\":\"bevel\"},\"line_width\":{\"value\":1},\"marker\":{\"value\":\"circle\"},\"size\":{\"value\":5.477225575051661},\"x\":{\"field\":\"price_change_percentage_24h\"},\"y\":{\"field\":\"price_change_percentage_7d\"}},\"id\":\"5010\",\"type\":\"Scatter\"},{\"attributes\":{\"axis\":{\"id\":\"5076\"},\"coordinates\":null,\"grid_line_color\":null,\"group\":null,\"ticker\":null},\"id\":\"5079\",\"type\":\"Grid\"},{\"attributes\":{},\"id\":\"5086\",\"type\":\"WheelZoomTool\"},{\"attributes\":{\"fill_alpha\":{\"value\":0.2},\"fill_color\":{\"value\":\"#fc4f30\"},\"hatch_alpha\":{\"value\":0.2},\"hatch_color\":{\"value\":\"#fc4f30\"},\"line_alpha\":{\"value\":0.2},\"line_color\":{\"value\":\"#fc4f30\"},\"size\":{\"value\":5.477225575051661},\"x\":{\"field\":\"PCA1\"},\"y\":{\"field\":\"PCA2\"}},\"id\":\"5129\",\"type\":\"Scatter\"},{\"attributes\":{\"data\":{\"PCA1\":{\"__ndarray__\":\"CfXQrqo447+90e2+JFTdvz0Tj0NZhvK/79IJ1HGH4L/4WkdgdNjcv+r9x3tOHta/iW1M83DI5L8quU+KvvmuP7IxxVNFeum/ss6LH/eZ07+93W/HIlbjv0nz5tCaNdu/tUmjFh7m2L8=\",\"dtype\":\"float64\",\"order\":\"little\",\"shape\":[13]},\"PCA2\":{\"__ndarray__\":\"pwJY8+P36j94P81egFfdP6hEN3tlVABAc6RxTss29j+6ZPC8/ZDgP3/E/UiRV+c/iC0795eo2z+Q9tOGdUYHQCyknptkpN+/Z0Nue2CC5j9qCxibCnrqP+h0su7rjN8/SUntLg0gxT8=\",\"dtype\":\"float64\",\"order\":\"little\",\"shape\":[13]},\"crypto_names\":[\"bitcoin\",\"ethereum\",\"bitcoin-cash\",\"binancecoin\",\"chainlink\",\"cardano\",\"litecoin\",\"monero\",\"tezos\",\"cosmos\",\"wrapped-bitcoin\",\"zcash\",\"maker\"],\"labels\":[1,1,1,1,1,1,1,1,1,1,1,1,1]},\"selected\":{\"id\":\"5125\"},\"selection_policy\":{\"id\":\"5141\"}},\"id\":\"5124\",\"type\":\"ColumnDataSource\"},{\"attributes\":{\"source\":{\"id\":\"5124\"}},\"id\":\"5131\",\"type\":\"CDSView\"},{\"attributes\":{},\"id\":\"5171\",\"type\":\"Selection\"},{\"attributes\":{\"axis_label\":\"PCA2\",\"coordinates\":null,\"formatter\":{\"id\":\"5101\"},\"group\":null,\"major_label_policy\":{\"id\":\"5102\"},\"ticker\":{\"id\":\"5081\"}},\"id\":\"5080\",\"type\":\"LinearAxis\"},{\"attributes\":{\"fill_alpha\":{\"value\":0.2},\"fill_color\":{\"value\":\"#e5ae38\"},\"hatch_alpha\":{\"value\":0.2},\"hatch_color\":{\"value\":\"#e5ae38\"},\"line_alpha\":{\"value\":0.2},\"line_color\":{\"value\":\"#e5ae38\"},\"size\":{\"value\":5.477225575051661},\"x\":{\"field\":\"price_change_percentage_24h\"},\"y\":{\"field\":\"price_change_percentage_7d\"}},\"id\":\"5038\",\"type\":\"Scatter\"},{\"attributes\":{\"coordinates\":null,\"data_source\":{\"id\":\"5124\"},\"glyph\":{\"id\":\"5127\"},\"group\":null,\"hover_glyph\":null,\"muted_glyph\":{\"id\":\"5129\"},\"nonselection_glyph\":{\"id\":\"5128\"},\"selection_glyph\":{\"id\":\"5145\"},\"view\":{\"id\":\"5131\"}},\"id\":\"5130\",\"type\":\"GlyphRenderer\"},{\"attributes\":{\"axis\":{\"id\":\"5080\"},\"coordinates\":null,\"dimension\":1,\"grid_line_color\":null,\"group\":null,\"ticker\":null},\"id\":\"5083\",\"type\":\"Grid\"},{\"attributes\":{\"fill_color\":{\"value\":\"#e5ae38\"},\"hatch_color\":{\"value\":\"#e5ae38\"},\"line_color\":{\"value\":\"#e5ae38\"},\"size\":{\"value\":5.477225575051661},\"x\":{\"field\":\"price_change_percentage_24h\"},\"y\":{\"field\":\"price_change_percentage_7d\"}},\"id\":\"5036\",\"type\":\"Scatter\"},{\"attributes\":{},\"id\":\"5085\",\"type\":\"PanTool\"},{\"attributes\":{},\"id\":\"5118\",\"type\":\"UnionRenderers\"},{\"attributes\":{\"label\":{\"value\":\"1\"},\"renderers\":[{\"id\":\"5017\"}]},\"id\":\"5031\",\"type\":\"LegendItem\"},{\"attributes\":{\"angle\":{\"value\":0.0},\"fill_alpha\":{\"value\":1.0},\"fill_color\":{\"value\":\"#e5ae38\"},\"hatch_alpha\":{\"value\":1.0},\"hatch_color\":{\"value\":\"#e5ae38\"},\"hatch_scale\":{\"value\":12.0},\"hatch_weight\":{\"value\":1.0},\"line_alpha\":{\"value\":1.0},\"line_cap\":{\"value\":\"butt\"},\"line_color\":{\"value\":\"#e5ae38\"},\"line_dash\":{\"value\":[]},\"line_dash_offset\":{\"value\":0},\"line_join\":{\"value\":\"bevel\"},\"line_width\":{\"value\":1},\"marker\":{\"value\":\"circle\"},\"size\":{\"value\":5.477225575051661},\"x\":{\"field\":\"price_change_percentage_24h\"},\"y\":{\"field\":\"price_change_percentage_7d\"}},\"id\":\"5056\",\"type\":\"Scatter\"},{\"attributes\":{},\"id\":\"5081\",\"type\":\"BasicTicker\"},{\"attributes\":{\"fill_color\":{\"value\":\"#fc4f30\"},\"hatch_color\":{\"value\":\"#fc4f30\"},\"line_color\":{\"value\":\"#fc4f30\"},\"size\":{\"value\":5.477225575051661},\"x\":{\"field\":\"PCA1\"},\"y\":{\"field\":\"PCA2\"}},\"id\":\"5127\",\"type\":\"Scatter\"},{\"attributes\":{\"data\":{\"crypto_names\":[\"ethlend\"],\"kmeans_segments\":[2],\"price_change_percentage_24h\":{\"__ndarray__\":\"3WeHPpbsE8A=\",\"dtype\":\"float64\",\"order\":\"little\",\"shape\":[1]},\"price_change_percentage_7d\":{\"__ndarray__\":\"dIWi2pshp78=\",\"dtype\":\"float64\",\"order\":\"little\",\"shape\":[1]}},\"selected\":{\"id\":\"5034\"},\"selection_policy\":{\"id\":\"5052\"}},\"id\":\"5033\",\"type\":\"ColumnDataSource\"},{\"attributes\":{\"label\":{\"value\":\"2\"},\"renderers\":[{\"id\":\"5152\"}]},\"id\":\"5168\",\"type\":\"LegendItem\"},{\"attributes\":{\"source\":{\"id\":\"5011\"}},\"id\":\"5018\",\"type\":\"CDSView\"},{\"attributes\":{\"data\":{\"crypto_names\":[\"celsius-degree-token\"],\"kmeans_segments\":[0],\"price_change_percentage_24h\":{\"__ndarray__\":\"VLqXBn668D8=\",\"dtype\":\"float64\",\"order\":\"little\",\"shape\":[1]},\"price_change_percentage_7d\":{\"__ndarray__\":\"Nv03JFjJ478=\",\"dtype\":\"float64\",\"order\":\"little\",\"shape\":[1]}},\"selected\":{\"id\":\"4991\"},\"selection_policy\":{\"id\":\"5005\"}},\"id\":\"4990\",\"type\":\"ColumnDataSource\"},{\"attributes\":{\"end\":2.2155632386560065,\"reset_end\":2.2155632386560065,\"reset_start\":-5.276792781891412,\"start\":-5.276792781891412,\"tags\":[[[\"price_change_percentage_24h\",\"price_change_percentage_24h\",null]]]},\"id\":\"4949\",\"type\":\"Range1d\"},{\"attributes\":{\"fill_color\":{\"value\":\"#30a2da\"},\"hatch_color\":{\"value\":\"#30a2da\"},\"line_color\":{\"value\":\"#30a2da\"},\"size\":{\"value\":5.477225575051661},\"x\":{\"field\":\"price_change_percentage_24h\"},\"y\":{\"field\":\"price_change_percentage_7d\"}},\"id\":\"4993\",\"type\":\"Scatter\"},{\"attributes\":{},\"id\":\"5028\",\"type\":\"UnionRenderers\"},{\"attributes\":{\"active_drag\":{\"id\":\"4972\"},\"active_scroll\":{\"id\":\"4973\"},\"tools\":[{\"id\":\"4951\"},{\"id\":\"4971\"},{\"id\":\"4972\"},{\"id\":\"4973\"},{\"id\":\"4974\"},{\"id\":\"4975\"}]},\"id\":\"4977\",\"type\":\"Toolbar\"},{\"attributes\":{\"fill_color\":{\"value\":\"#fc4f30\"},\"hatch_color\":{\"value\":\"#fc4f30\"},\"line_color\":{\"value\":\"#fc4f30\"},\"size\":{\"value\":5.477225575051661},\"x\":{\"field\":\"price_change_percentage_24h\"},\"y\":{\"field\":\"price_change_percentage_7d\"}},\"id\":\"5014\",\"type\":\"Scatter\"},{\"attributes\":{},\"id\":\"5088\",\"type\":\"ResetTool\"},{\"attributes\":{},\"id\":\"4985\",\"type\":\"BasicTickFormatter\"},{\"attributes\":{\"overlay\":{\"id\":\"5089\"}},\"id\":\"5087\",\"type\":\"BoxZoomTool\"},{\"attributes\":{\"fill_alpha\":{\"value\":0.1},\"fill_color\":{\"value\":\"#fc4f30\"},\"hatch_alpha\":{\"value\":0.1},\"hatch_color\":{\"value\":\"#fc4f30\"},\"line_alpha\":{\"value\":0.1},\"line_color\":{\"value\":\"#fc4f30\"},\"size\":{\"value\":5.477225575051661},\"x\":{\"field\":\"PCA1\"},\"y\":{\"field\":\"PCA2\"}},\"id\":\"5128\",\"type\":\"Scatter\"},{\"attributes\":{\"coordinates\":null,\"data_source\":{\"id\":\"5011\"},\"glyph\":{\"id\":\"5014\"},\"group\":null,\"hover_glyph\":null,\"muted_glyph\":{\"id\":\"5016\"},\"nonselection_glyph\":{\"id\":\"5015\"},\"selection_glyph\":{\"id\":\"5032\"},\"view\":{\"id\":\"5018\"}},\"id\":\"5017\",\"type\":\"GlyphRenderer\"},{\"attributes\":{},\"id\":\"5084\",\"type\":\"SaveTool\"},{\"attributes\":{\"fill_alpha\":{\"value\":0.2},\"fill_color\":{\"value\":\"#fc4f30\"},\"hatch_alpha\":{\"value\":0.2},\"hatch_color\":{\"value\":\"#fc4f30\"},\"line_alpha\":{\"value\":0.2},\"line_color\":{\"value\":\"#fc4f30\"},\"size\":{\"value\":5.477225575051661},\"x\":{\"field\":\"price_change_percentage_24h\"},\"y\":{\"field\":\"price_change_percentage_7d\"}},\"id\":\"5016\",\"type\":\"Scatter\"},{\"attributes\":{\"fill_color\":{\"value\":\"#6d904f\"},\"hatch_color\":{\"value\":\"#6d904f\"},\"line_color\":{\"value\":\"#6d904f\"},\"size\":{\"value\":5.477225575051661},\"x\":{\"field\":\"PCA1\"},\"y\":{\"field\":\"PCA2\"}},\"id\":\"5173\",\"type\":\"Scatter\"},{\"attributes\":{\"toolbar\":{\"id\":\"5233\"},\"toolbar_location\":\"above\"},\"id\":\"5234\",\"type\":\"ToolbarBox\"},{\"attributes\":{\"click_policy\":\"mute\",\"coordinates\":null,\"group\":null,\"items\":[{\"id\":\"5009\"},{\"id\":\"5031\"},{\"id\":\"5055\"}],\"location\":[0,0],\"title\":\"kmeans_segments\"},\"id\":\"5008\",\"type\":\"Legend\"},{\"attributes\":{\"bottom_units\":\"screen\",\"coordinates\":null,\"fill_alpha\":0.5,\"fill_color\":\"lightgrey\",\"group\":null,\"left_units\":\"screen\",\"level\":\"overlay\",\"line_alpha\":1.0,\"line_color\":\"black\",\"line_dash\":[4,4],\"line_width\":2,\"right_units\":\"screen\",\"syncable\":false,\"top_units\":\"screen\"},\"id\":\"5089\",\"type\":\"BoxAnnotation\"},{\"attributes\":{\"fill_alpha\":{\"value\":0.1},\"fill_color\":{\"value\":\"#e5ae38\"},\"hatch_alpha\":{\"value\":0.1},\"hatch_color\":{\"value\":\"#e5ae38\"},\"line_alpha\":{\"value\":0.1},\"line_color\":{\"value\":\"#e5ae38\"},\"size\":{\"value\":5.477225575051661},\"x\":{\"field\":\"price_change_percentage_24h\"},\"y\":{\"field\":\"price_change_percentage_7d\"}},\"id\":\"5037\",\"type\":\"Scatter\"},{\"attributes\":{\"fill_alpha\":{\"value\":0.1},\"fill_color\":{\"value\":\"#fc4f30\"},\"hatch_alpha\":{\"value\":0.1},\"hatch_color\":{\"value\":\"#fc4f30\"},\"line_alpha\":{\"value\":0.1},\"line_color\":{\"value\":\"#fc4f30\"},\"size\":{\"value\":5.477225575051661},\"x\":{\"field\":\"price_change_percentage_24h\"},\"y\":{\"field\":\"price_change_percentage_7d\"}},\"id\":\"5015\",\"type\":\"Scatter\"},{\"attributes\":{\"label\":{\"value\":\"2\"},\"renderers\":[{\"id\":\"5039\"}]},\"id\":\"5055\",\"type\":\"LegendItem\"},{\"attributes\":{\"angle\":{\"value\":0.0},\"fill_alpha\":{\"value\":1.0},\"fill_color\":{\"value\":\"#6d904f\"},\"hatch_alpha\":{\"value\":1.0},\"hatch_color\":{\"value\":\"#6d904f\"},\"hatch_scale\":{\"value\":12.0},\"hatch_weight\":{\"value\":1.0},\"line_alpha\":{\"value\":1.0},\"line_cap\":{\"value\":\"butt\"},\"line_color\":{\"value\":\"#6d904f\"},\"line_dash\":{\"value\":[]},\"line_dash_offset\":{\"value\":0},\"line_join\":{\"value\":\"bevel\"},\"line_width\":{\"value\":1},\"marker\":{\"value\":\"circle\"},\"size\":{\"value\":5.477225575051661},\"x\":{\"field\":\"PCA1\"},\"y\":{\"field\":\"PCA2\"}},\"id\":\"5195\",\"type\":\"Scatter\"},{\"attributes\":{},\"id\":\"4986\",\"type\":\"AllLabels\"},{\"attributes\":{\"fill_alpha\":{\"value\":0.1},\"fill_color\":{\"value\":\"#6d904f\"},\"hatch_alpha\":{\"value\":0.1},\"hatch_color\":{\"value\":\"#6d904f\"},\"line_alpha\":{\"value\":0.1},\"line_color\":{\"value\":\"#6d904f\"},\"size\":{\"value\":5.477225575051661},\"x\":{\"field\":\"PCA1\"},\"y\":{\"field\":\"PCA2\"}},\"id\":\"5174\",\"type\":\"Scatter\"},{\"attributes\":{\"fill_alpha\":{\"value\":0.2},\"fill_color\":{\"value\":\"#30a2da\"},\"hatch_alpha\":{\"value\":0.2},\"hatch_color\":{\"value\":\"#30a2da\"},\"line_alpha\":{\"value\":0.2},\"line_color\":{\"value\":\"#30a2da\"},\"size\":{\"value\":5.477225575051661},\"x\":{\"field\":\"price_change_percentage_24h\"},\"y\":{\"field\":\"price_change_percentage_7d\"}},\"id\":\"4995\",\"type\":\"Scatter\"},{\"attributes\":{},\"id\":\"5102\",\"type\":\"AllLabels\"},{\"attributes\":{},\"id\":\"5125\",\"type\":\"Selection\"},{\"attributes\":{\"angle\":{\"value\":0.0},\"fill_alpha\":{\"value\":1.0},\"fill_color\":{\"value\":\"#30a2da\"},\"hatch_alpha\":{\"value\":1.0},\"hatch_color\":{\"value\":\"#30a2da\"},\"hatch_scale\":{\"value\":12.0},\"hatch_weight\":{\"value\":1.0},\"line_alpha\":{\"value\":1.0},\"line_cap\":{\"value\":\"butt\"},\"line_color\":{\"value\":\"#30a2da\"},\"line_dash\":{\"value\":[]},\"line_dash_offset\":{\"value\":0},\"line_join\":{\"value\":\"bevel\"},\"line_width\":{\"value\":1},\"marker\":{\"value\":\"circle\"},\"size\":{\"value\":5.477225575051661},\"x\":{\"field\":\"PCA1\"},\"y\":{\"field\":\"PCA2\"}},\"id\":\"5123\",\"type\":\"Scatter\"},{\"attributes\":{},\"id\":\"5012\",\"type\":\"Selection\"},{\"attributes\":{},\"id\":\"4961\",\"type\":\"LinearScale\"},{\"attributes\":{\"end\":2.997678656273595,\"reset_end\":2.997678656273595,\"reset_start\":-2.107454305728652,\"start\":-2.107454305728652,\"tags\":[[[\"price_change_percentage_7d\",\"price_change_percentage_7d\",null]]]},\"id\":\"4950\",\"type\":\"Range1d\"},{\"attributes\":{},\"id\":\"5147\",\"type\":\"Selection\"},{\"attributes\":{\"children\":[{\"id\":\"5234\"},{\"id\":\"5232\"}]},\"id\":\"5235\",\"type\":\"Column\"},{\"attributes\":{\"label\":{\"value\":\"1\"},\"renderers\":[{\"id\":\"5130\"}]},\"id\":\"5144\",\"type\":\"LegendItem\"},{\"attributes\":{\"angle\":{\"value\":0.0},\"fill_alpha\":{\"value\":1.0},\"fill_color\":{\"value\":\"#fc4f30\"},\"hatch_alpha\":{\"value\":1.0},\"hatch_color\":{\"value\":\"#fc4f30\"},\"hatch_scale\":{\"value\":12.0},\"hatch_weight\":{\"value\":1.0},\"line_alpha\":{\"value\":1.0},\"line_cap\":{\"value\":\"butt\"},\"line_color\":{\"value\":\"#fc4f30\"},\"line_dash\":{\"value\":[]},\"line_dash_offset\":{\"value\":0},\"line_join\":{\"value\":\"bevel\"},\"line_width\":{\"value\":1},\"marker\":{\"value\":\"circle\"},\"size\":{\"value\":5.477225575051661},\"x\":{\"field\":\"PCA1\"},\"y\":{\"field\":\"PCA2\"}},\"id\":\"5145\",\"type\":\"Scatter\"},{\"attributes\":{\"data\":{\"PCA1\":{\"__ndarray__\":\"ZBQ7s2krE0A=\",\"dtype\":\"float64\",\"order\":\"little\",\"shape\":[1]},\"PCA2\":{\"__ndarray__\":\"CFrQWxoSG0A=\",\"dtype\":\"float64\",\"order\":\"little\",\"shape\":[1]},\"crypto_names\":[\"celsius-degree-token\"],\"labels\":[3]},\"selected\":{\"id\":\"5171\"},\"selection_policy\":{\"id\":\"5191\"}},\"id\":\"5170\",\"type\":\"ColumnDataSource\"},{\"attributes\":{\"coordinates\":null,\"group\":null,\"text_color\":\"black\",\"text_font_size\":\"12pt\"},\"id\":\"4955\",\"type\":\"Title\"},{\"attributes\":{},\"id\":\"5191\",\"type\":\"UnionRenderers\"},{\"attributes\":{\"coordinates\":null,\"data_source\":{\"id\":\"5146\"},\"glyph\":{\"id\":\"5149\"},\"group\":null,\"hover_glyph\":null,\"muted_glyph\":{\"id\":\"5151\"},\"nonselection_glyph\":{\"id\":\"5150\"},\"selection_glyph\":{\"id\":\"5169\"},\"view\":{\"id\":\"5153\"}},\"id\":\"5152\",\"type\":\"GlyphRenderer\"},{\"attributes\":{\"data\":{\"crypto_names\":[\"bitcoin\",\"ethereum\",\"tether\",\"ripple\",\"bitcoin-cash\",\"binancecoin\",\"chainlink\",\"cardano\",\"litecoin\",\"bitcoin-cash-sv\",\"crypto-com-chain\",\"usd-coin\",\"eos\",\"monero\",\"tron\",\"tezos\",\"okb\",\"stellar\",\"cosmos\",\"cdai\",\"neo\",\"wrapped-bitcoin\",\"leo-token\",\"huobi-token\",\"nem\",\"binance-usd\",\"iota\",\"vechain\",\"zcash\",\"theta-token\",\"dash\",\"ethereum-classic\",\"maker\",\"havven\",\"omisego\",\"ontology\",\"ftx-token\",\"true-usd\",\"digibyte\"],\"kmeans_segments\":[1,1,1,1,1,1,1,1,1,1,1,1,1,1,1,1,1,1,1,1,1,1,1,1,1,1,1,1,1,1,1,1,1,1,1,1,1,1,1],\"price_change_percentage_24h\":{\"__ndarray__\":\"DdlqYN9F4D86azDosLzHP5giRdTpS5Y/5iURtxHfpL8wCyMArRbzP/cOjHA0iuw/1QxzqW9Xhz8zBL2hZD+6P0nbN/ba1rM/WpkZGJ+73D/+slcesDPVP/IxOp6elqE/H2STd0ruwz9Epj8/c9DQPxk0XoR2pcA/jEB40RVnw790fnl54Irtv9XPDahDw9G/qq8st/Fh0L/5U5ZBISbHP6Slu6TDVtI/BVlpN5h+4D+njODODoCqPwXDDo/fo6q/woaukuXmy79od0yHwmevP8HhEPEMldA/ypmU5gu54j+sKNPN2lDAv1YH9WGFy/m/N7JuVBEB07/EU4GAhEGyv/wAhTiDBcC/w5x/SHDb9r+Ws8Eljbf+P8gpxDPHLdq/lauYPJ6K2j8F/bZ4T/qzP1jfrYivevM/\",\"dtype\":\"float64\",\"order\":\"little\",\"shape\":[39]},\"price_change_percentage_7d\":{\"__ndarray__\":\"U1k8q3mQ3z9yoPpI+ebtP22UiL5Pmua/Ubo8ah/z6b8wAdnT9gEAQIJpDjGZPPU/BTbpSPiTBEAmUWkixiD4P/OMI2gdZdU/DZTtp1doyL936vtUZtb5v0QZLH/ydOe/it8GjguF7b8rMp3jf678PwRAcFxBAKW/ZWZRGoqp5j8Udj8VbP/2vySelkVDp9i/XK6ZksNx/T/tJm9WzI7mvy674lUf4tS/Q3zKstaO3T84jfoETLXtv6NqpXs9Q92/wrTyyiEu678mI2rMB53mv1Euo6Hk788/3UZrgr7Q778kzwwdV7vtP/9TV66U6fq/ZWX+mWVCuD8GJ0pHuV/Nv7K1u05XleI/ycgTZlYfmr9NPGP+Z7XXP4e129/WBe2/YC+KGbN/2j97fXG3AgLmv9JOW7pjcuO/\",\"dtype\":\"float64\",\"order\":\"little\",\"shape\":[39]}},\"selected\":{\"id\":\"5012\"},\"selection_policy\":{\"id\":\"5028\"}},\"id\":\"5011\",\"type\":\"ColumnDataSource\"},{\"attributes\":{\"children\":[[{\"id\":\"4954\"},0,0],[{\"id\":\"5067\"},0,1]]},\"id\":\"5232\",\"type\":\"GridBox\"},{\"attributes\":{\"children\":[{\"id\":\"5235\"}],\"margin\":[0,0,0,0],\"name\":\"Row05408\",\"tags\":[\"embedded\"]},\"id\":\"4948\",\"type\":\"Row\"},{\"attributes\":{\"source\":{\"id\":\"5146\"}},\"id\":\"5153\",\"type\":\"CDSView\"},{\"attributes\":{\"callback\":null,\"renderers\":[{\"id\":\"4996\"},{\"id\":\"5017\"},{\"id\":\"5039\"}],\"tags\":[\"hv_created\"],\"tooltips\":[[\"kmeans_segments\",\"@{kmeans_segments}\"],[\"price_change_percentage_24h\",\"@{price_change_percentage_24h}\"],[\"price_change_percentage_7d\",\"@{price_change_percentage_7d}\"],[\"crypto_names\",\"@{crypto_names}\"]]},\"id\":\"4951\",\"type\":\"HoverTool\"},{\"attributes\":{},\"id\":\"4964\",\"type\":\"BasicTicker\"}],\"root_ids\":[\"4948\"]},\"title\":\"Bokeh Application\",\"version\":\"2.4.3\"}};\n",
       "    var render_items = [{\"docid\":\"9ca4789a-0a58-407d-9989-893480cf9918\",\"root_ids\":[\"4948\"],\"roots\":{\"4948\":\"26581034-61d1-4bfd-86e4-4985f5778d66\"}}];\n",
       "    root.Bokeh.embed.embed_items_notebook(docs_json, render_items);\n",
       "    for (const render_item of render_items) {\n",
       "      for (const root_id of render_item.root_ids) {\n",
       "\tconst id_el = document.getElementById(root_id)\n",
       "\tif (id_el.children.length && (id_el.children[0].className === 'bk-root')) {\n",
       "\t  const root_el = id_el.children[0]\n",
       "\t  root_el.id = root_el.id + '-rendered'\n",
       "\t}\n",
       "      }\n",
       "    }\n",
       "  }\n",
       "  if (root.Bokeh !== undefined && root.Bokeh.Panel !== undefined) {\n",
       "    embed_document(root);\n",
       "  } else {\n",
       "    var attempts = 0;\n",
       "    var timer = setInterval(function(root) {\n",
       "      if (root.Bokeh !== undefined && root.Bokeh.Panel !== undefined) {\n",
       "        clearInterval(timer);\n",
       "        embed_document(root);\n",
       "      } else if (document.readyState == \"complete\") {\n",
       "        attempts++;\n",
       "        if (attempts > 200) {\n",
       "          clearInterval(timer);\n",
       "          console.log(\"Bokeh: ERROR: Unable to run BokehJS code because BokehJS library is missing\");\n",
       "        }\n",
       "      }\n",
       "    }, 25, root)\n",
       "  }\n",
       "})(window);</script>"
      ],
      "text/plain": [
       ":Layout\n",
       "   .NdOverlay.I  :NdOverlay   [kmeans_segments]\n",
       "      :Scatter   [price_change_percentage_24h]   (price_change_percentage_7d,crypto_names)\n",
       "   .NdOverlay.II :NdOverlay   [labels]\n",
       "      :Scatter   [PCA1]   (PCA2,crypto_names)"
      ]
     },
     "execution_count": 65,
     "metadata": {
      "application/vnd.holoviews_exec.v0+json": {
       "id": "4948"
      }
     },
     "output_type": "execute_result"
    }
   ],
   "source": [
    "# Composite plot to contrast the clusters\n",
    "# YOUR CODE HERE!\n",
    "market_prediction_df.hvplot.scatter(x = \"price_change_percentage_24h\", y = \"price_change_percentage_7d\", by = \"kmeans_segments\", hover_cols = [\"crypto_names\"]) + market_prediction_pca_df.hvplot.scatter(x = \"PCA1\", y = \"PCA2\", by = \"labels\", hover_cols = [\"crypto_names\"])"
   ]
  },
  {
   "attachments": {},
   "cell_type": "markdown",
   "metadata": {},
   "source": [
    "#### Answer the following question: \n",
    "\n",
    "  * **Question:** After visually analyzing the cluster analysis results, what is the impact of using fewer features to cluster the data using K-Means?\n",
    "\n",
    "  * **Answer:** Using PCA, we get a plot with distinct clusters that are easy to understand and provide more meaningful insight into the data."
   ]
  }
 ],
 "metadata": {
  "kernelspec": {
   "display_name": "Python 3 (ipykernel)",
   "language": "python",
   "name": "python3"
  },
  "language_info": {
   "codemirror_mode": {
    "name": "ipython",
    "version": 3
   },
   "file_extension": ".py",
   "mimetype": "text/x-python",
   "name": "python",
   "nbconvert_exporter": "python",
   "pygments_lexer": "ipython3",
   "version": "3.10.11"
  },
  "nteract": {
   "version": "0.28.0"
  },
  "vscode": {
   "interpreter": {
    "hash": "40d3a090f54c6569ab1632332b64b2c03c39dcf918b08424e98f38b5ae0af88f"
   }
  }
 },
 "nbformat": 4,
 "nbformat_minor": 4
}
